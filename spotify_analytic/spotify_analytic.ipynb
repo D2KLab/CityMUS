{
 "cells": [
  {
   "cell_type": "code",
   "execution_count": 34,
   "metadata": {
    "collapsed": true
   },
   "outputs": [],
   "source": [
    "import csv\n",
    "import os\n",
    "from pprint import pprint\n",
    "from SPARQLWrapper import SPARQLWrapper,TURTLE,JSON"
   ]
  },
  {
   "cell_type": "code",
   "execution_count": 7,
   "metadata": {
    "collapsed": true
   },
   "outputs": [],
   "source": [
    "POIS_PATH = os.path.normpath('spotify_doremus_matches.csv')\n",
    "\n",
    "with open(POIS_PATH, 'r') as input_fp:\n",
    "    count = 0\n",
    "    reader = csv.reader(input_fp, )\n",
    "    # skip header\n",
    "    reader.next()\n",
    "    works = []\n",
    "    for row in reader:\n",
    "        poi = dict()\n",
    "        poi['doremus_uri'] = row[0]\n",
    "        poi['spotify_uri'] = row[1]\n",
    "        works.append(poi)"
   ]
  },
  {
   "cell_type": "code",
   "execution_count": 38,
   "metadata": {
    "collapsed": false,
    "scrolled": true
   },
   "outputs": [
    {
     "name": "stdout",
     "output_type": "stream",
     "text": [
      "[{u'label': {u'type': u'literal', u'value': u'Sonates'}}]\n",
      "\n",
      "[{u'label': {u'type': u'literal', u'value': u'Sonates'}}]\n",
      "\n",
      "[{u'label': {u'type': u'literal', u'value': u'O Maria diana stella'}}]\n",
      "\n",
      "[{u'label': {u'type': u'literal',\n",
      "             u'value': u'Dalarapsodi',\n",
      "             u'xml:lang': u'sw'}}]\n",
      "\n",
      "[{u'label': {u'type': u'literal', u'value': u'Rondos', u'xml:lang': u'fr'}}]\n",
      "\n",
      "[{u'label': {u'type': u'literal', u'value': u'Armide | Ouverture'}}]\n",
      "\n",
      "[{u'label': {u'type': u'literal', u'value': u'Credo Chascun me crie'}}]\n",
      "\n",
      "[{u'label': {u'type': u'literal', u'value': u'Concertos', u'xml:lang': u'fr'}}]\n",
      "\n",
      "[{u'label': {u'type': u'literal', u'value': u'Fr\\xfchlingsbegr\\xe4bnis'}}]\n",
      "\n",
      "[{u'label': {u'type': u'literal', u'value': u'Omaggio a Frescobaldi'}}]\n",
      "\n",
      "[{u'label': {u'type': u'literal', u'value': u'Fugues', u'xml:lang': u'fr'}}]\n",
      "\n",
      "[{u'label': {u'type': u'literal',\n",
      "             u'value': u\"Jeanne d'Arc\",\n",
      "             u'xml:lang': u'fr'}},\n",
      " {u'label': {u'type': u'literal',\n",
      "             u'value': u'La tentation derni\\xe8re',\n",
      "             u'xml:lang': u'fr'}}]\n",
      "\n",
      "[{u'label': {u'type': u'literal', u'value': u'Concertst\\xfcck'}}]\n",
      "\n",
      "[{u'label': {u'type': u'literal', u'value': u'Jenny Lind'}}]\n",
      "\n",
      "[{u'label': {u'type': u'literal',\n",
      "             u'value': u'Le ciel pour certains d\\xe9tient le secret',\n",
      "             u'xml:lang': u'fr'}},\n",
      " {u'label': {u'type': u'literal',\n",
      "             u'value': u\"Les fleurs sont des mots d'amour\",\n",
      "             u'xml:lang': u'fr'}}]\n",
      "\n",
      "[{u'label': {u'type': u'literal', u'value': u'\\xc9vocation'}}]\n",
      "\n",
      "[{u'label': {u'type': u'literal', u'value': u'Domine salvum fac regem'}}]\n",
      "\n",
      "[{u'label': {u'type': u'literal', u'value': u'Sonates'}}]\n",
      "\n",
      "[{u'label': {u'type': u'literal', u'value': u'Aria'}}]\n",
      "\n",
      "[{u'label': {u'type': u'literal', u'value': u'Quatuors', u'xml:lang': u'fr'}},\n",
      " {u'label': {u'type': u'literal',\n",
      "             u'value': u'Sommerdage',\n",
      "             u'xml:lang': u'da'}}]\n",
      "\n",
      "[{u'label': {u'type': u'literal', u'value': u'Il \\xe9tait une fois'}},\n",
      " {u'label': {u'type': u'literal',\n",
      "             u'value': u'For my little friends | No 1 | Il \\xe9tait une fois'}},\n",
      " {u'label': {u'type': u'literal',\n",
      "             u'value': u'Pour les petits amis | No 1 | Il \\xe9tait une fois'}}]\n",
      "\n",
      "[{u'label': {u'type': u'literal', u'value': u\"Ma m\\xe8re l'oye\"}},\n",
      " {u'label': {u'type': u'literal', u'value': u\"Ma M\\xe8re l'Oye\"}}]\n",
      "\n",
      "[{u'label': {u'type': u'literal', u'value': u'La peste', u'xml:lang': u'fr'}},\n",
      " {u'label': {u'type': u'literal',\n",
      "             u'value': u'The plague',\n",
      "             u'xml:lang': u'en'}}]\n",
      "\n",
      "[{u'label': {u'type': u'literal', u'value': u'O Herre Gott, begnade mich'}},\n",
      " {u'label': {u'type': u'literal',\n",
      "             u'value': u'Ecclesiodiae | No 18 | O Herre Gott, begnade mich'}}]\n",
      "\n",
      "[{u'label': {u'type': u'literal', u'value': u'Moto perpetuo'}},\n",
      " {u'label': {u'type': u'literal',\n",
      "             u'value': u'Allegro vivace a movimento perpetuo'}}]\n",
      "\n",
      "[{u'label': {u'type': u'literal', u'value': u'K\\xf6nigskinder'}}]\n",
      "\n",
      "[{u'label': {u'type': u'literal',\n",
      "             u'value': u'K\\xf6nig Manfred',\n",
      "             u'xml:lang': u'ge'}},\n",
      " {u'label': {u'type': u'literal',\n",
      "             u'value': u'King Manfred',\n",
      "             u'xml:lang': u'en'}}]\n",
      "\n",
      "[{u'label': {u'type': u'literal',\n",
      "             u'value': u'Musa, nostrum , plange',\n",
      "             u'xml:lang': u'la'}}]\n",
      "\n",
      "[{u'label': {u'type': u'literal', u'value': u'Crown Imperial'}}]\n",
      "\n",
      "[{u'label': {u'type': u'literal',\n",
      "             u'value': u'En knapp i fickan',\n",
      "             u'xml:lang': u'sw'}}]\n",
      "\n",
      "[{u'label': {u'type': u'literal',\n",
      "             u'value': u'Barcarolle concertante',\n",
      "             u'xml:lang': u'fr'}}]\n",
      "\n",
      "[{u'label': {u'type': u'literal', u'value': u'La sonnambula'}},\n",
      " {u'label': {u'type': u'literal', u'value': u'Fantaisies'}},\n",
      " {u'label': {u'type': u'literal',\n",
      "             u'value': u'Six fantaisies sur les th\\xe8mes des op\\xe9ras c\\xe9l | No 3 | La sonnambula'}}]\n",
      "\n",
      "[{u'label': {u'type': u'literal', u'value': u'6 Lieder von H\\xf6lderlin'}},\n",
      " {u'label': {u'type': u'literal', u'value': u'Sechs Lieder von H\\xf6lderlin'}}]\n",
      "\n",
      "[{u'label': {u'type': u'literal', u'value': u'Non sapremo mai di questo mi'}}]\n",
      "\n",
      "[{u'label': {u'type': u'literal',\n",
      "             u'value': u'Dostojno est\\xb4',\n",
      "             u'xml:lang': u'ch'}}]\n",
      "\n",
      "[{u'label': {u'type': u'literal', u'value': u'Inerte', u'xml:lang': u'fr'}}]\n",
      "\n",
      "[{u'label': {u'type': u'literal',\n",
      "             u'value': u'Groovebox variations',\n",
      "             u'xml:lang': u'en'}}]\n",
      "\n",
      "[{u'label': {u'type': u'literal',\n",
      "             u'value': u'Du bist wie eine Blume',\n",
      "             u'xml:lang': u'ge'}}]\n",
      "\n",
      "[{u'label': {u'type': u'literal', u'value': u'Allegretto'}}]\n",
      "\n",
      "[{u'label': {u'type': u'literal',\n",
      "             u'value': u'Freue dich des Weibes deiner Jugend'}}]\n",
      "\n",
      "[{u'label': {u'type': u'literal',\n",
      "             u'value': u'The Empire strikes back',\n",
      "             u'xml:lang': u'en'}},\n",
      " {u'label': {u'type': u'literal',\n",
      "             u'value': u\"L'Empire contre attaque\",\n",
      "             u'xml:lang': u'en'}}]\n",
      "\n",
      "[{u'label': {u'type': u'literal', u'value': u'Quatuors', u'xml:lang': u'fr'}}]\n",
      "\n",
      "[{u'label': {u'type': u'literal',\n",
      "             u'value': u'Zwei Episoden aus Lenaus Faust',\n",
      "             u'xml:lang': u'ge'}}]\n",
      "\n",
      "[{u'label': {u'type': u'literal', u'value': u'Le chant des vagues'}}]\n",
      "\n",
      "[{u'label': {u'type': u'literal', u'value': u'Rondel', u'xml:lang': u'fr'}},\n",
      " {u'label': {u'type': u'literal',\n",
      "             u'value': u\"J'ayme qui m'ayme\",\n",
      "             u'xml:lang': u'fr'}}]\n",
      "\n",
      "[{u'label': {u'type': u'literal',\n",
      "             u'value': u'Tell me where is fancy bred',\n",
      "             u'xml:lang': u'en'}},\n",
      " {u'label': {u'type': u'literal', u'value': u'Fancie', u'xml:lang': u'en'}}]\n",
      "\n",
      "[{u'label': {u'type': u'literal', u'value': u\"Kolybel'na\\xe2\"}},\n",
      " {u'label': {u'type': u'literal', u'value': u'Kolybelnaia'}}]\n",
      "\n",
      "[{u'label': {u'type': u'literal', u'value': u\"L'\\xc9cole des amants\"}}]\n",
      "\n",
      "[{u'label': {u'type': u'literal',\n",
      "             u'value': u'Proph\\xe9ties de la Sibylle \\xe9rythr\\xe9enne'}},\n",
      " {u'label': {u'type': u'literal', u'value': u'El canto de la Sibila'}}]\n",
      "\n",
      "[{u'label': {u'type': u'literal', u'value': u\"Temps d'orgue\"}}]\n",
      "\n",
      "[{u'label': {u'type': u'literal',\n",
      "             u'value': u'Le premier baiser',\n",
      "             u'xml:lang': u'fr'}},\n",
      " {u'label': {u'type': u'literal',\n",
      "             u'value': u'Der erste Kuss',\n",
      "             u'xml:lang': u'ge'}}]\n",
      "\n",
      "[{u'label': {u'type': u'literal',\n",
      "             u'value': u'Scene veneziane',\n",
      "             u'xml:lang': u'it'}}]\n",
      "\n",
      "[{u'label': {u'type': u'literal', u'value': u'Sonatines'}}]\n",
      "\n",
      "[{u'label': {u'type': u'literal', u'value': u'Love is here to stay'}}]\n",
      "\n",
      "[{u'label': {u'type': u'literal', u'value': u'Transcriptions'}}]\n",
      "\n",
      "[{u'label': {u'type': u'literal', u'value': u'Beatus vir'}},\n",
      " {u'label': {u'type': u'literal', u'value': u'Psaumes'}}]\n",
      "\n",
      "[{u'label': {u'type': u'literal',\n",
      "             u'value': u'Wie ein Rubin',\n",
      "             u'xml:lang': u'ge'}}]\n",
      "\n",
      "[{u'label': {u'type': u'literal', u'value': u'Concertos'}},\n",
      " {u'label': {u'type': u'literal',\n",
      "             u'value': u'Les cloches',\n",
      "             u'xml:lang': u'fr'}},\n",
      " {u'label': {u'type': u'literal', u'value': u'Chimes', u'xml:lang': u'en'}},\n",
      " {u'label': {u'type': u'literal', u'value': u'Zvoni', u'xml:lang': u'ru'}}]\n",
      "\n",
      "[{u'label': {u'type': u'literal', u'value': u'Spannung', u'xml:lang': u'ge'}},\n",
      " {u'label': {u'type': u'literal',\n",
      "             u'value': u\"Gut'n Abend, gut'n Abend\",\n",
      "             u'xml:lang': u'ge'}}]\n",
      "\n",
      "[{u'label': {u'type': u'literal', u'value': u'Sonata'}},\n",
      " {u'label': {u'type': u'literal',\n",
      "             u'value': u'Sonate pour violon et piano no 2'}},\n",
      " {u'label': {u'type': u'literal',\n",
      "             u'value': u'Sonate pour violon et piano no 2 en la majeur'}},\n",
      " {u'label': {u'type': u'literal', u'value': u'Sonates'}}]\n",
      "\n",
      "[{u'label': {u'type': u'literal', u'value': u'Lamentaci\\xf3n'}}]\n",
      "\n",
      "[{u'label': {u'type': u'literal',\n",
      "             u'value': u'Johannes s\\xe5g s\\xe5 klar en syn',\n",
      "             u'xml:lang': u'sw'}}]\n",
      "\n",
      "[{u'label': {u'type': u'literal', u'value': u'Solos'}},\n",
      " {u'label': {u'type': u'literal', u'value': u'Sonates'}}]\n",
      "\n",
      "[{u'label': {u'type': u'literal', u'value': u'Heut triumphieret Gottes Sohn'}},\n",
      " {u'label': {u'type': u'literal', u'value': u'Cantates'}}]\n",
      "\n",
      "[{u'label': {u'type': u'literal', u'value': u'Concert'}}]\n",
      "\n",
      "[{u'label': {u'type': u'literal',\n",
      "             u'value': u'Lovely yet ungrateful swain',\n",
      "             u'xml:lang': u'en'}}]\n",
      "\n",
      "[{u'label': {u'type': u'literal', u'value': u'Penelope', u'xml:lang': u'it'}}]\n",
      "\n",
      "[{u'label': {u'type': u'literal', u'value': u'Duos', u'xml:lang': u'un'}},\n",
      " {u'label': {u'type': u'literal',\n",
      "             u'value': u'Divertimenti',\n",
      "             u'xml:lang': u'un'}}]\n",
      "\n",
      "[{u'label': {u'type': u'literal', u'value': u'Rhapsodie'}}]\n",
      "\n",
      "[{u'label': {u'type': u'literal', u'value': u'Suites'}}]\n",
      "\n",
      "[{u'label': {u'type': u'literal', u'value': u'Inter vestibulum et altare'}}]\n",
      "\n",
      "[{u'label': {u'type': u'literal',\n",
      "             u'value': u'Salir el amor del mundo | Sosieguen, descansen',\n",
      "             u'xml:lang': u'sp'}}]\n",
      "\n",
      "[{u'label': {u'type': u'literal', u'value': u'Credo', u'xml:lang': u'la'}}]\n",
      "\n",
      "[{u'label': {u'type': u'literal', u'value': u'6 sonates', u'xml:lang': u'fr'}}]\n",
      "\n",
      "[{u'label': {u'type': u'literal', u'value': u'Petra'}}]\n",
      "\n",
      "[{u'label': {u'type': u'literal', u'value': u'Paganiniana'}}]\n",
      "\n",
      "[{u'label': {u'type': u'literal', u'value': u'Concertinos'}}]\n",
      "\n",
      "[{u'label': {u'type': u'literal', u'value': u'Sequenzas'}}]\n",
      "\n",
      "[{u'label': {u'type': u'literal',\n",
      "             u'value': u'Corrosions on the surface of life',\n",
      "             u'xml:lang': u'en'}}]\n",
      "\n",
      "[{u'label': {u'type': u'literal', u'value': u'Salve Jesu'}},\n",
      " {u'label': {u'type': u'literal',\n",
      "             u'value': u'Scelta musicale | No 1 | Salve Jesu'}}]\n",
      "\n",
      "[{u'label': {u'type': u'literal', u'value': u'Voluntaries'}},\n",
      " {u'label': {u'type': u'literal', u'value': u'Verses'}}]\n",
      "\n",
      "[{u'label': {u'type': u'literal',\n",
      "             u'value': u\"Et d'o\\xf9 venez-vous Madame Lucette\"}}]\n",
      "\n",
      "[{u'label': {u'type': u'literal', u'value': u'Stella by Starlight'}},\n",
      " {u'label': {u'type': u'literal', u'value': u'Stella by starlight'}}]\n",
      "\n",
      "[{u'label': {u'type': u'literal',\n",
      "             u'value': u'Just another lovely song',\n",
      "             u'xml:lang': u'en'}}]\n",
      "\n",
      "[{u'label': {u'type': u'literal', u'value': u'Sonates'}}]\n",
      "\n",
      "[{u'label': {u'type': u'literal', u'value': u'\\xc9tienne'}}]\n",
      "\n",
      "[{u'label': {u'type': u'literal',\n",
      "             u'value': u'Die Dreigroschenoper',\n",
      "             u'xml:lang': u'ge'}},\n",
      " {u'label': {u'type': u'literal',\n",
      "             u'value': u'Kleine Dreigroschenmusik',\n",
      "             u'xml:lang': u'ge'}}]\n",
      "\n",
      "[{u'label': {u'type': u'literal',\n",
      "             u'value': u'Le chanteur abandonn\\xe9',\n",
      "             u'xml:lang': u'fr'}}]\n",
      "\n",
      "[{u'label': {u'type': u'literal', u'value': u'Tambours et clairons'}}]\n",
      "\n",
      "[{u'label': {u'type': u'literal', u'value': u'Concertos'}},\n",
      " {u'label': {u'type': u'literal', u'value': u'Sinfonias'}}]\n",
      "\n",
      "[{u'label': {u'type': u'literal',\n",
      "             u'value': u'\\xc9l\\xe9gie',\n",
      "             u'xml:lang': u'fr'}}]\n",
      "\n",
      "[{u'label': {u'type': u'literal', u'value': u'Volubilis'}}]\n",
      "\n",
      "[{u'label': {u'type': u'literal', u'value': u'Mazurkas', u'xml:lang': u'fr'}}]\n",
      "\n",
      "[{u'label': {u'type': u'literal', u'value': u'Mazurkas'}}]\n",
      "\n"
     ]
    }
   ],
   "source": [
    "new_works = []\n",
    "count = 0\n",
    "for work in works[:100]:\n",
    "    sparql = SPARQLWrapper(\"http://data.doremus.org/sparql\")\n",
    "    sparql.setReturnFormat(JSON)\n",
    "    sparql.setQuery(\n",
    "    \"\"\"\n",
    "    select ?label where {<%s> rdfs:label ?label }\n",
    "    \"\"\" % work['doremus_uri'])\n",
    "\n",
    "    results = sparql.query().convert()\n",
    "    if len(results['results']['bindings']) > 0:\n",
    "        count +=1\n",
    "        if count % 1000 == 0:\n",
    "            print(count)\n",
    "        pprint(results['results']['bindings'])\n",
    "        print('')\n",
    "        label = results['results']['bindings'][0]['label']['value']\n",
    "        work['doremus_label'] = label\n",
    "        new_works.append(work)"
   ]
  },
  {
   "cell_type": "code",
   "execution_count": 25,
   "metadata": {
    "collapsed": false
   },
   "outputs": [
    {
     "data": {
      "text/plain": [
       "{'doremus_label': u'Sonates',\n",
       " 'doremus_uri': 'http://data.doremus.org/expression/000064ff-91b4-3835-8036-a1bfbdf1a16c',\n",
       " 'spotify_uri': '07yNsVMq3mNsIl5iFbh33X'}"
      ]
     },
     "execution_count": 25,
     "metadata": {},
     "output_type": "execute_result"
    }
   ],
   "source": [
    "new_works[0]"
   ]
  },
  {
   "cell_type": "code",
   "execution_count": 27,
   "metadata": {
    "collapsed": false,
    "scrolled": true
   },
   "outputs": [
    {
     "name": "stdout",
     "output_type": "stream",
     "text": [
      "{u'album': {u'album_type': u'album',\n",
      "            u'artists': [{u'external_urls': {u'spotify': u'https://open.spotify.com/artist/2wOqMjp9TyABvtHdOSOTUS'},\n",
      "                          u'href': u'https://api.spotify.com/v1/artists/2wOqMjp9TyABvtHdOSOTUS',\n",
      "                          u'id': u'2wOqMjp9TyABvtHdOSOTUS',\n",
      "                          u'name': u'Ludwig van Beethoven',\n",
      "                          u'type': u'artist',\n",
      "                          u'uri': u'spotify:artist:2wOqMjp9TyABvtHdOSOTUS'},\n",
      "                         {u'external_urls': {u'spotify': u'https://open.spotify.com/artist/4LYCuV8d6rylb6zjv2k03l'},\n",
      "                          u'href': u'https://api.spotify.com/v1/artists/4LYCuV8d6rylb6zjv2k03l',\n",
      "                          u'id': u'4LYCuV8d6rylb6zjv2k03l',\n",
      "                          u'name': u'Paul Lewis',\n",
      "                          u'type': u'artist',\n",
      "                          u'uri': u'spotify:artist:4LYCuV8d6rylb6zjv2k03l'}],\n",
      "            u'available_markets': [u'AD',\n",
      "                                   u'AR',\n",
      "                                   u'AT',\n",
      "                                   u'AU',\n",
      "                                   u'BE',\n",
      "                                   u'BG',\n",
      "                                   u'BO',\n",
      "                                   u'BR',\n",
      "                                   u'CA',\n",
      "                                   u'CH',\n",
      "                                   u'CL',\n",
      "                                   u'CO',\n",
      "                                   u'CR',\n",
      "                                   u'CY',\n",
      "                                   u'CZ',\n",
      "                                   u'DE',\n",
      "                                   u'DK',\n",
      "                                   u'DO',\n",
      "                                   u'EC',\n",
      "                                   u'EE',\n",
      "                                   u'ES',\n",
      "                                   u'FI',\n",
      "                                   u'FR',\n",
      "                                   u'GB',\n",
      "                                   u'GR',\n",
      "                                   u'GT',\n",
      "                                   u'HK',\n",
      "                                   u'HN',\n",
      "                                   u'HU',\n",
      "                                   u'ID',\n",
      "                                   u'IE',\n",
      "                                   u'IS',\n",
      "                                   u'IT',\n",
      "                                   u'JP',\n",
      "                                   u'LI',\n",
      "                                   u'LT',\n",
      "                                   u'LU',\n",
      "                                   u'LV',\n",
      "                                   u'MC',\n",
      "                                   u'MT',\n",
      "                                   u'MX',\n",
      "                                   u'MY',\n",
      "                                   u'NI',\n",
      "                                   u'NL',\n",
      "                                   u'NO',\n",
      "                                   u'NZ',\n",
      "                                   u'PA',\n",
      "                                   u'PE',\n",
      "                                   u'PH',\n",
      "                                   u'PL',\n",
      "                                   u'PT',\n",
      "                                   u'PY',\n",
      "                                   u'SE',\n",
      "                                   u'SG',\n",
      "                                   u'SK',\n",
      "                                   u'SV',\n",
      "                                   u'TR',\n",
      "                                   u'TW',\n",
      "                                   u'US',\n",
      "                                   u'UY'],\n",
      "            u'external_urls': {u'spotify': u'https://open.spotify.com/album/05Gxf9j76qIlIgoWqQRXSf'},\n",
      "            u'href': u'https://api.spotify.com/v1/albums/05Gxf9j76qIlIgoWqQRXSf',\n",
      "            u'id': u'05Gxf9j76qIlIgoWqQRXSf',\n",
      "            u'images': [{u'height': 640,\n",
      "                         u'url': u'https://i.scdn.co/image/966be2499191ce494376bf06c51ef51568dfd15e',\n",
      "                         u'width': 640},\n",
      "                        {u'height': 300,\n",
      "                         u'url': u'https://i.scdn.co/image/3de2de4fbe5cd598a888967b27c6ba5e15863742',\n",
      "                         u'width': 300},\n",
      "                        {u'height': 64,\n",
      "                         u'url': u'https://i.scdn.co/image/76fe9590e9e0d026b15207259babd0de7fa35d91',\n",
      "                         u'width': 64}],\n",
      "            u'name': u'Beethoven: Sonates pour piano, Vol.2',\n",
      "            u'type': u'album',\n",
      "            u'uri': u'spotify:album:05Gxf9j76qIlIgoWqQRXSf'},\n",
      " u'artists': [{u'external_urls': {u'spotify': u'https://open.spotify.com/artist/2wOqMjp9TyABvtHdOSOTUS'},\n",
      "               u'href': u'https://api.spotify.com/v1/artists/2wOqMjp9TyABvtHdOSOTUS',\n",
      "               u'id': u'2wOqMjp9TyABvtHdOSOTUS',\n",
      "               u'name': u'Ludwig van Beethoven',\n",
      "               u'type': u'artist',\n",
      "               u'uri': u'spotify:artist:2wOqMjp9TyABvtHdOSOTUS'},\n",
      "              {u'external_urls': {u'spotify': u'https://open.spotify.com/artist/4LYCuV8d6rylb6zjv2k03l'},\n",
      "               u'href': u'https://api.spotify.com/v1/artists/4LYCuV8d6rylb6zjv2k03l',\n",
      "               u'id': u'4LYCuV8d6rylb6zjv2k03l',\n",
      "               u'name': u'Paul Lewis',\n",
      "               u'type': u'artist',\n",
      "               u'uri': u'spotify:artist:4LYCuV8d6rylb6zjv2k03l'}],\n",
      " u'available_markets': [u'AD',\n",
      "                        u'AR',\n",
      "                        u'AT',\n",
      "                        u'AU',\n",
      "                        u'BE',\n",
      "                        u'BG',\n",
      "                        u'BO',\n",
      "                        u'BR',\n",
      "                        u'CA',\n",
      "                        u'CH',\n",
      "                        u'CL',\n",
      "                        u'CO',\n",
      "                        u'CR',\n",
      "                        u'CY',\n",
      "                        u'CZ',\n",
      "                        u'DE',\n",
      "                        u'DK',\n",
      "                        u'DO',\n",
      "                        u'EC',\n",
      "                        u'EE',\n",
      "                        u'ES',\n",
      "                        u'FI',\n",
      "                        u'FR',\n",
      "                        u'GB',\n",
      "                        u'GR',\n",
      "                        u'GT',\n",
      "                        u'HK',\n",
      "                        u'HN',\n",
      "                        u'HU',\n",
      "                        u'ID',\n",
      "                        u'IE',\n",
      "                        u'IS',\n",
      "                        u'IT',\n",
      "                        u'JP',\n",
      "                        u'LI',\n",
      "                        u'LT',\n",
      "                        u'LU',\n",
      "                        u'LV',\n",
      "                        u'MC',\n",
      "                        u'MT',\n",
      "                        u'MX',\n",
      "                        u'MY',\n",
      "                        u'NI',\n",
      "                        u'NL',\n",
      "                        u'NO',\n",
      "                        u'NZ',\n",
      "                        u'PA',\n",
      "                        u'PE',\n",
      "                        u'PH',\n",
      "                        u'PL',\n",
      "                        u'PT',\n",
      "                        u'PY',\n",
      "                        u'SE',\n",
      "                        u'SG',\n",
      "                        u'SK',\n",
      "                        u'SV',\n",
      "                        u'TR',\n",
      "                        u'TW',\n",
      "                        u'US',\n",
      "                        u'UY'],\n",
      " u'disc_number': 2,\n",
      " u'duration_ms': 423986,\n",
      " u'explicit': False,\n",
      " u'external_ids': {u'isrc': u'FRZ140607010'},\n",
      " u'external_urls': {u'spotify': u'https://open.spotify.com/track/07yNsVMq3mNsIl5iFbh33X'},\n",
      " u'href': u'https://api.spotify.com/v1/tracks/07yNsVMq3mNsIl5iFbh33X',\n",
      " u'id': u'07yNsVMq3mNsIl5iFbh33X',\n",
      " u'name': u'Sonate No. 9 en Mi majeur, Op. 14 No. 1: I. Allegro',\n",
      " u'popularity': 45,\n",
      " u'preview_url': u'https://p.scdn.co/mp3-preview/922fa0bd7cd2f9dac16d938028aae078b9c83fe4?cid=null',\n",
      " u'track_number': 1,\n",
      " u'type': u'track',\n",
      " u'uri': u'spotify:track:07yNsVMq3mNsIl5iFbh33X'}\n"
     ]
    }
   ],
   "source": [
    "import spotipy\n",
    "\n",
    "import pprint\n",
    "\n",
    "urn = 'spotify:track:07yNsVMq3mNsIl5iFbh33X'\n",
    "\n",
    "sp = spotipy.Spotify()\n",
    "track = sp.track(urn)\n",
    "pprint.pprint(track)"
   ]
  },
  {
   "cell_type": "code",
   "execution_count": null,
   "metadata": {
    "collapsed": true
   },
   "outputs": [],
   "source": []
  },
  {
   "cell_type": "code",
   "execution_count": null,
   "metadata": {
    "collapsed": true
   },
   "outputs": [],
   "source": []
  },
  {
   "cell_type": "code",
   "execution_count": null,
   "metadata": {
    "collapsed": true
   },
   "outputs": [],
   "source": []
  },
  {
   "cell_type": "code",
   "execution_count": null,
   "metadata": {
    "collapsed": true
   },
   "outputs": [],
   "source": []
  },
  {
   "cell_type": "code",
   "execution_count": null,
   "metadata": {
    "collapsed": true
   },
   "outputs": [],
   "source": []
  },
  {
   "cell_type": "code",
   "execution_count": null,
   "metadata": {
    "collapsed": true
   },
   "outputs": [],
   "source": []
  },
  {
   "cell_type": "code",
   "execution_count": 4,
   "metadata": {
    "collapsed": false
   },
   "outputs": [
    {
     "ename": "TypeError",
     "evalue": "list indices must be integers, not str",
     "output_type": "error",
     "traceback": [
      "\u001b[0;31m---------------------------------------------------------------------------\u001b[0m",
      "\u001b[0;31mTypeError\u001b[0m                                 Traceback (most recent call last)",
      "\u001b[0;32m<ipython-input-4-d2c512522b37>\u001b[0m in \u001b[0;36m<module>\u001b[0;34m()\u001b[0m\n\u001b[0;32m----> 1\u001b[0;31m \u001b[0mquery\u001b[0m \u001b[0;34m=\u001b[0m \u001b[0;34m'''select * where {<%s> rdfs:label ?o }'''\u001b[0m \u001b[0;34m%\u001b[0m \u001b[0mworks\u001b[0m\u001b[0;34m[\u001b[0m\u001b[0;34m'doremus_uri'\u001b[0m\u001b[0;34m]\u001b[0m\u001b[0;34m\u001b[0m\u001b[0m\n\u001b[0m",
      "\u001b[0;31mTypeError\u001b[0m: list indices must be integers, not str"
     ]
    }
   ],
   "source": []
  },
  {
   "cell_type": "code",
   "execution_count": 39,
   "metadata": {
    "collapsed": false
   },
   "outputs": [
    {
     "data": {
      "text/plain": [
       "119024"
      ]
     },
     "execution_count": 39,
     "metadata": {},
     "output_type": "execute_result"
    }
   ],
   "source": [
    "len(works)"
   ]
  },
  {
   "cell_type": "code",
   "execution_count": 56,
   "metadata": {
    "collapsed": false
   },
   "outputs": [],
   "source": [
    "doremus_uri = map(lambda x: x['doremus_uri'],works)"
   ]
  },
  {
   "cell_type": "code",
   "execution_count": 58,
   "metadata": {
    "collapsed": false
   },
   "outputs": [
    {
     "data": {
      "text/plain": [
       "119024"
      ]
     },
     "execution_count": 58,
     "metadata": {},
     "output_type": "execute_result"
    }
   ],
   "source": [
    "len(doremus_uri)"
   ]
  },
  {
   "cell_type": "code",
   "execution_count": 59,
   "metadata": {
    "collapsed": false
   },
   "outputs": [
    {
     "data": {
      "text/plain": [
       "119024"
      ]
     },
     "execution_count": 59,
     "metadata": {},
     "output_type": "execute_result"
    }
   ],
   "source": [
    "len(set(doremus_uri))"
   ]
  },
  {
   "cell_type": "code",
   "execution_count": 61,
   "metadata": {
    "collapsed": false
   },
   "outputs": [],
   "source": [
    "a = set()"
   ]
  },
  {
   "cell_type": "code",
   "execution_count": 62,
   "metadata": {
    "collapsed": false
   },
   "outputs": [
    {
     "data": {
      "text/plain": [
       "1"
      ]
     },
     "execution_count": 62,
     "metadata": {},
     "output_type": "execute_result"
    }
   ],
   "source": [
    "a.add(u'ciao')\n",
    "a.add(u'ciao')\n",
    "len(a)"
   ]
  },
  {
   "cell_type": "code",
   "execution_count": 48,
   "metadata": {
    "collapsed": false
   },
   "outputs": [],
   "source": [
    "a = works[0]"
   ]
  },
  {
   "cell_type": "code",
   "execution_count": 50,
   "metadata": {
    "collapsed": false
   },
   "outputs": [
    {
     "data": {
      "text/plain": [
       "u'Sonates'"
      ]
     },
     "execution_count": 50,
     "metadata": {},
     "output_type": "execute_result"
    }
   ],
   "source": [
    "a['doremus_label']"
   ]
  }
 ],
 "metadata": {
  "kernelspec": {
   "display_name": "Python 2",
   "language": "python",
   "name": "python2"
  },
  "language_info": {
   "codemirror_mode": {
    "name": "ipython",
    "version": 2
   },
   "file_extension": ".py",
   "mimetype": "text/x-python",
   "name": "python",
   "nbconvert_exporter": "python",
   "pygments_lexer": "ipython2",
   "version": "2.7.13"
  }
 },
 "nbformat": 4,
 "nbformat_minor": 2
}
