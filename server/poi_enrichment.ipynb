{
 "cells": [
  {
   "cell_type": "markdown",
   "metadata": {},
   "source": [
    "# find 3 closest poi in a range of 25 mt"
   ]
  },
  {
   "cell_type": "code",
   "execution_count": 23,
   "metadata": {
    "collapsed": true
   },
   "outputs": [],
   "source": [
    "import numpy as np"
   ]
  },
  {
   "cell_type": "code",
   "execution_count": 26,
   "metadata": {
    "collapsed": false
   },
   "outputs": [
    {
     "name": "stdout",
     "output_type": "stream",
     "text": [
      "2.43383657301\n"
     ]
    }
   ],
   "source": [
    "from geopy.distance import vincenty\n",
    "print(np.sqrt(vincenty((43.701944,7.268333), (43.665278,7.215)).km))\n"
   ]
  },
  {
   "cell_type": "code",
   "execution_count": 32,
   "metadata": {
    "collapsed": false
   },
   "outputs": [],
   "source": [
    "import copy\n",
    "def near_pois(original_pois, point):\n",
    "    def add_distance_wrapper(point):\n",
    "        def add_distance(target):\n",
    "            point['distance'] = vincenty(target, (float(point['lat']),float(point['long']))).mt\n",
    "            if point['distance'] < 5:\n",
    "                point['distance'] = 5\n",
    "            point['distance_sqrt'] = np.sqrt(point['distance'])\n",
    "            return point\n",
    "        return add_distance_wrapper\n",
    "\n",
    "    MIN_RADIUS = 50\n",
    "    MIN_RADIUS_SQRT = np.sqrt(MIN_RADIUS)\n",
    "    \n",
    "    original_pois = [{'lat':43.701944,'long':7.2683333232,'label':'ciao'}]\n",
    "    \n",
    "    new_pois = copy.deepcopy(original_pois)\n",
    "    \n",
    "    point = (43.665278,7.215)\n",
    "    add_distance_function = add_distance_wrapper(point)\n",
    "    \n",
    "    near_pois = map(add_distance_function,new_pois)\n",
    "    near_pois = sorted(lambda x: x['distance'], near_pois)[:3]\n",
    "    \n",
    "    filtered_pois = [near_pois.pop(0)]\n",
    "    filtered_pois += filter(lambda x: x['distance_sqrt'] < MIN_RADIUS_SQRT, near_pois)[:2]\n",
    "\n",
    "    #weight part\n",
    "    total_score = sum(1./x['distance_sqrt'] for x in filtered_pois)\n",
    "    total_weight = 0\n",
    "    for poi in filtered_pois:\n",
    "        poi['weight'] = 1./(total_score*poi['distance_sqrt'])\n",
    "        total_weight += poi['weight']\n",
    "    for poi in filtered_pois:\n",
    "        poi['weight'] = int(round(poi['weight'] * 10./ total_weight))\n",
    "    \n",
    "    return filtered_pois"
   ]
  },
  {
   "cell_type": "markdown",
   "metadata": {},
   "source": [
    "# find poi to show on the map"
   ]
  },
  {
   "cell_type": "markdown",
   "metadata": {},
   "source": [
    "read all\n",
    "\n",
    "remove bus stations and add position to each 3cixty poi\n",
    "\n",
    "group by dbpedia uri\n",
    "\n",
    "foreach group:\n",
    "    keep entries with the highest score\n",
    "    remove entries with score < 90\n",
    "\n",
    "    keep the nearest to the center"
   ]
  },
  {
   "cell_type": "code",
   "execution_count": 205,
   "metadata": {
    "collapsed": true
   },
   "outputs": [],
   "source": [
    "import csv\n",
    "import urllib2\n",
    "import json\n",
    "from geopy.distance import vincenty\n",
    "from SPARQLWrapper import SPARQLWrapper,JSON\n",
    "\n",
    "NICE_COORDINATES = (43.7034, 7.2663)\n",
    "THRESHOLD = 85\n"
   ]
  },
  {
   "cell_type": "code",
   "execution_count": 206,
   "metadata": {
    "collapsed": true
   },
   "outputs": [],
   "source": [
    "def add_info(row):\n",
    "    url = row[0].rsplit('/',1)[1]\n",
    "    req = urllib2.Request('http://aplicaciones.localidata.com/eldaSuit/place/id/%s?_view=list' % url)\n",
    "    resp = urllib2.urlopen(req)\n",
    "    # 200\n",
    "    body = resp.read()\n",
    "    result = json.loads(body)\n",
    "    if len(result['result']['items']) > 0:\n",
    "        if type(result['result']['items'][0][\"geoLocation\"]['lat']) == list:\n",
    "            lat = float(result['result']['items'][0][\"geoLocation\"]['lat'][0])\n",
    "        else:\n",
    "            lat = float(result['result']['items'][0][\"geoLocation\"]['lat'])\n",
    "        if type(result['result']['items'][0][\"geoLocation\"]['long']) == list:\n",
    "            long_ = float(result['result']['items'][0][\"geoLocation\"]['long'][0])\n",
    "        else:\n",
    "            long_ = float(result['result']['items'][0][\"geoLocation\"]['long'])\n",
    "        row.append((lat,long_))\n",
    "    \n",
    "        uri = row[3]\n",
    "        sparql = SPARQLWrapper(\"http://dbpedia.org/sparql\")\n",
    "        sparql.setQuery(\"\"\"\n",
    "            SELECT ?place ?placeLabel ?lat ?long\n",
    "             WHERE {\n",
    "            <%s> geo:lat ?lat.\n",
    "            <%s> geo:long ?long.\n",
    "            }\n",
    "            \"\"\" % (uri,uri))        \n",
    "        sparql.setReturnFormat(JSON)\n",
    "        results = sparql.query().convert()\n",
    "\n",
    "        for place in results['results']['bindings']:\n",
    "            lat = float(place['lat']['value'])\n",
    "            long_ = float(place['long']['value'])\n",
    "            if vincenty(NICE_COORDINATES, (lat,long_)).km > 15:\n",
    "                return False\n",
    "        return True\n",
    "    else:\n",
    "        return False"
   ]
  },
  {
   "cell_type": "code",
   "execution_count": 207,
   "metadata": {
    "collapsed": false
   },
   "outputs": [],
   "source": [
    "with open('data/dbpedia_match_nogeo.csv','r') as input_fp:\n",
    "    reader=csv.reader(input_fp,)\n",
    "    # skip header\n",
    "    reader.next()\n",
    "    rows = [ [unicode(col,'utf-8') for col in row] for row in reader]"
   ]
  },
  {
   "cell_type": "code",
   "execution_count": 208,
   "metadata": {
    "collapsed": false,
    "deletable": true,
    "editable": true
   },
   "outputs": [],
   "source": [
    "new_rows = []\n",
    "for row in rows:\n",
    "    #convert scoro to float\n",
    "    row[4] = float(row[4])\n",
    "    #add informations\n",
    "    if add_info(row):\n",
    "        new_rows.append(row)\n",
    "        \n",
    "with open('data/dbpedia_match_nogeo_coordinates.csv','wb') as output_fp:\n",
    "    writer=csv.writer(output_fp,)\n",
    "    # skip header\n",
    "    writer.writerow(['3cixty_uri','3cixty_label','dbpedia_label','dbpedia_uri','score','coordinates'])\n",
    "    for row in new_rows:\n",
    "        row_utf8 = [s.encode('utf-8') if type(s) == unicode else s for s in row]\n",
    "        writer.writerow(row_utf8)        \n",
    "        \n",
    "keys = set(map(lambda row : row[3], new_rows))\n",
    "groups = [[row for row in new_rows if row[3] == key] for key in keys]\n",
    "new_pois = []\n",
    "for group in groups:\n",
    "    best_score = max(group,key= lambda x: x[4])\n",
    "    group = filter(lambda row: row[4] == best_score[4],group)\n",
    "    group = filter(lambda row: row[4] > THRESHOLD, group)\n",
    "    if len(group) >= 1:\n",
    "        # keep nearest to center\n",
    "        min_distance = float('inf')\n",
    "        min_poi = None\n",
    "        for row in group:\n",
    "            distance = vincenty(NICE_COORDINATES, row[5]).km\n",
    "            if distance < min_distance:\n",
    "                min_distance = distance\n",
    "                min_poi = row\n",
    "        position = min_poi[5]\n",
    "        min_poi[5] = position[0]\n",
    "        min_poi.append(position[1])\n",
    "        new_pois.append(min_poi)\n",
    "new_pois = sorted(new_pois,key=lambda x: x[4],reverse=True)"
   ]
  },
  {
   "cell_type": "code",
   "execution_count": 209,
   "metadata": {
    "collapsed": false
   },
   "outputs": [],
   "source": [
    "with open('data/dbpedia_match_nogeo_distinct.csv','wb') as output_fp:\n",
    "    writer=csv.writer(output_fp,)\n",
    "    # skip header\n",
    "    writer.writerow(['3cixty_uri','3cixty_label','dbpedia_label','dbpedia_uri','score','latitude','longitude'])\n",
    "    for row in new_pois:\n",
    "        row_utf8 = [s.encode('utf-8') if type(s) == unicode else s for s in row]\n",
    "        writer.writerow(row_utf8)"
   ]
  }
 ],
 "metadata": {
  "kernelspec": {
   "display_name": "Python 2",
   "language": "python",
   "name": "python2"
  },
  "language_info": {
   "codemirror_mode": {
    "name": "ipython",
    "version": 2
   },
   "file_extension": ".py",
   "mimetype": "text/x-python",
   "name": "python",
   "nbconvert_exporter": "python",
   "pygments_lexer": "ipython2",
   "version": "2.7.13"
  }
 },
 "nbformat": 4,
 "nbformat_minor": 2
}
