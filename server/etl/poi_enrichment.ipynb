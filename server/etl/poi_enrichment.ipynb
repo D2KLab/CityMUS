{
 "cells": [
  {
   "cell_type": "markdown",
   "metadata": {
    "deletable": true,
    "editable": true
   },
   "source": [
    "# find 3 closest poi in a range of 25 mt"
   ]
  },
  {
   "cell_type": "code",
   "execution_count": 2,
   "metadata": {
    "collapsed": true,
    "deletable": true,
    "editable": true
   },
   "outputs": [],
   "source": [
    "import numpy as np"
   ]
  },
  {
   "cell_type": "code",
   "execution_count": 7,
   "metadata": {
    "collapsed": false,
    "deletable": true,
    "editable": true
   },
   "outputs": [
    {
     "name": "stdout",
     "output_type": "stream",
     "text": [
      "2.43383657301\n"
     ]
    }
   ],
   "source": [
    "from geopy.distance import vincenty\n",
    "print(np.sqrt(vincenty((43.701944,7.268333), (43.665278,7.215)).km))\n"
   ]
  },
  {
   "cell_type": "code",
   "execution_count": 12,
   "metadata": {
    "collapsed": false
   },
   "outputs": [
    {
     "data": {
      "text/plain": [
       "5923.560464100794"
      ]
     },
     "execution_count": 12,
     "metadata": {},
     "output_type": "execute_result"
    }
   ],
   "source": [
    "a = vincenty((43.701944,7.268333), (43.665278,7.215))\n",
    "a.m"
   ]
  },
  {
   "cell_type": "code",
   "execution_count": 225,
   "metadata": {
    "collapsed": false,
    "deletable": true,
    "editable": true
   },
   "outputs": [],
   "source": [
    "import copy\n",
    "def near_pois(original_pois, point):\n",
    "    def add_distance_wrapper(point):\n",
    "        def add_distance(target):\n",
    "            point['distance'] = vincenty(target, (float(point['lat']),float(point['long']))).mt\n",
    "            if point['distance'] < 5:\n",
    "                point['distance'] = 5\n",
    "            point['distance_sqrt'] = np.sqrt(point['distance'])\n",
    "            return point\n",
    "        return add_distance_wrapper\n",
    "\n",
    "    MIN_RADIUS = 50\n",
    "    MIN_RADIUS_SQRT = np.sqrt(MIN_RADIUS)\n",
    "    \n",
    "    original_pois = [{'lat':43.701944,'long':7.2683333232,'label':'ciao'}]\n",
    "    \n",
    "    new_pois = copy.deepcopy(original_pois)\n",
    "    \n",
    "    point = (43.665278,7.215)\n",
    "    add_distance_function = add_distance_wrapper(point)\n",
    "    \n",
    "    near_pois = map(add_distance_function,new_pois)\n",
    "    near_pois = sorted(lambda x: x['distance'], near_pois)[:3]\n",
    "    \n",
    "    filtered_pois = [near_pois.pop(0)]\n",
    "    filtered_pois += filter(lambda x: x['distance_sqrt'] < MIN_RADIUS_SQRT, near_pois)[:2]\n",
    "\n",
    "    #weight part\n",
    "    total_score = sum(1./x['distance_sqrt'] for x in filtered_pois)\n",
    "    total_weight = 0\n",
    "    for poi in filtered_pois:\n",
    "        poi['weight'] = 1./(total_score*poi['distance_sqrt'])\n",
    "        total_weight += poi['weight']\n",
    "    for poi in filtered_pois:\n",
    "        poi['weight'] = int(round(poi['weight'] * 10./ total_weight))\n",
    "    \n",
    "    return filtered_pois"
   ]
  },
  {
   "cell_type": "markdown",
   "metadata": {
    "deletable": true,
    "editable": true
   },
   "source": [
    "# find poi to show on the map"
   ]
  },
  {
   "cell_type": "markdown",
   "metadata": {
    "deletable": true,
    "editable": true
   },
   "source": [
    "read all\n",
    "\n",
    "remove bus stations and add position to each 3cixty poi\n",
    "\n",
    "group by dbpedia uri\n",
    "\n",
    "foreach group:\n",
    "    keep entries with the highest score\n",
    "    remove entries with score < 90\n",
    "\n",
    "    keep the nearest to the center"
   ]
  },
  {
   "cell_type": "code",
   "execution_count": 226,
   "metadata": {
    "collapsed": true,
    "deletable": true,
    "editable": true
   },
   "outputs": [],
   "source": [
    "import csv\n",
    "import urllib2\n",
    "import json\n",
    "from geopy.distance import vincenty\n",
    "from SPARQLWrapper import SPARQLWrapper,JSON\n",
    "\n",
    "NICE_COORDINATES = (43.7034, 7.2663)\n",
    "THRESHOLD = 85\n"
   ]
  },
  {
   "cell_type": "code",
   "execution_count": 227,
   "metadata": {
    "collapsed": true,
    "deletable": true,
    "editable": true
   },
   "outputs": [],
   "source": [
    "def add_info(row):\n",
    "    url = row[0].rsplit('/',1)[1]\n",
    "    req = urllib2.Request('http://aplicaciones.localidata.com/eldaSuit/place/id/%s?_view=list' % url)\n",
    "    resp = urllib2.urlopen(req)\n",
    "    # 200\n",
    "    body = resp.read()\n",
    "    result = json.loads(body)\n",
    "    if len(result['result']['items']) > 0:\n",
    "        if type(result['result']['items'][0][\"geoLocation\"]['lat']) == list:\n",
    "            lat = float(result['result']['items'][0][\"geoLocation\"]['lat'][0])\n",
    "        else:\n",
    "            lat = float(result['result']['items'][0][\"geoLocation\"]['lat'])\n",
    "        if type(result['result']['items'][0][\"geoLocation\"]['long']) == list:\n",
    "            long_ = float(result['result']['items'][0][\"geoLocation\"]['long'][0])\n",
    "        else:\n",
    "            long_ = float(result['result']['items'][0][\"geoLocation\"]['long'])\n",
    "        row.append((lat,long_))\n",
    "    \n",
    "        uri = row[3]\n",
    "        sparql = SPARQLWrapper(\"http://dbpedia.org/sparql\")\n",
    "        sparql.setQuery(\"\"\"\n",
    "            SELECT ?place ?placeLabel ?lat ?long\n",
    "             WHERE {\n",
    "            <%s> geo:lat ?lat.\n",
    "            <%s> geo:long ?long.\n",
    "            }\n",
    "            \"\"\" % (uri,uri))        \n",
    "        sparql.setReturnFormat(JSON)\n",
    "        results = sparql.query().convert()\n",
    "\n",
    "        for place in results['results']['bindings']:\n",
    "            lat = float(place['lat']['value'])\n",
    "            long_ = float(place['long']['value'])\n",
    "            if vincenty(NICE_COORDINATES, (lat,long_)).km > 15:\n",
    "                return False\n",
    "        return True\n",
    "    else:\n",
    "        return False"
   ]
  },
  {
   "cell_type": "code",
   "execution_count": 228,
   "metadata": {
    "collapsed": false,
    "deletable": true,
    "editable": true
   },
   "outputs": [],
   "source": [
    "with open('data/dbpedia_match_nogeo.csv','r') as input_fp:\n",
    "    reader=csv.reader(input_fp,)\n",
    "    # skip header\n",
    "    reader.next()\n",
    "    rows = [ [unicode(col,'utf-8') for col in row] for row in reader]"
   ]
  },
  {
   "cell_type": "code",
   "execution_count": 229,
   "metadata": {
    "collapsed": false,
    "deletable": true,
    "editable": true
   },
   "outputs": [
    {
     "ename": "HTTPError",
     "evalue": "HTTP Error 400: Bad Request",
     "output_type": "error",
     "traceback": [
      "\u001b[0;31m---------------------------------------------------------------------------\u001b[0m",
      "\u001b[0;31mHTTPError\u001b[0m                                 Traceback (most recent call last)",
      "\u001b[0;32m<ipython-input-229-67f2de0fdf67>\u001b[0m in \u001b[0;36m<module>\u001b[0;34m()\u001b[0m\n\u001b[1;32m      4\u001b[0m     \u001b[0mrow\u001b[0m\u001b[0;34m[\u001b[0m\u001b[0;36m4\u001b[0m\u001b[0;34m]\u001b[0m \u001b[0;34m=\u001b[0m \u001b[0mfloat\u001b[0m\u001b[0;34m(\u001b[0m\u001b[0mrow\u001b[0m\u001b[0;34m[\u001b[0m\u001b[0;36m4\u001b[0m\u001b[0;34m]\u001b[0m\u001b[0;34m)\u001b[0m\u001b[0;34m\u001b[0m\u001b[0m\n\u001b[1;32m      5\u001b[0m     \u001b[0;31m#add informations\u001b[0m\u001b[0;34m\u001b[0m\u001b[0;34m\u001b[0m\u001b[0m\n\u001b[0;32m----> 6\u001b[0;31m     \u001b[0;32mif\u001b[0m \u001b[0madd_info\u001b[0m\u001b[0;34m(\u001b[0m\u001b[0mrow\u001b[0m\u001b[0;34m)\u001b[0m\u001b[0;34m:\u001b[0m\u001b[0;34m\u001b[0m\u001b[0m\n\u001b[0m\u001b[1;32m      7\u001b[0m         \u001b[0mnew_rows\u001b[0m\u001b[0;34m.\u001b[0m\u001b[0mappend\u001b[0m\u001b[0;34m(\u001b[0m\u001b[0mrow\u001b[0m\u001b[0;34m)\u001b[0m\u001b[0;34m\u001b[0m\u001b[0m\n\u001b[1;32m      8\u001b[0m \u001b[0;34m\u001b[0m\u001b[0m\n",
      "\u001b[0;32m<ipython-input-227-1a1a49b12391>\u001b[0m in \u001b[0;36madd_info\u001b[0;34m(row)\u001b[0m\n\u001b[1;32m      2\u001b[0m     \u001b[0murl\u001b[0m \u001b[0;34m=\u001b[0m \u001b[0mrow\u001b[0m\u001b[0;34m[\u001b[0m\u001b[0;36m0\u001b[0m\u001b[0;34m]\u001b[0m\u001b[0;34m.\u001b[0m\u001b[0mrsplit\u001b[0m\u001b[0;34m(\u001b[0m\u001b[0;34m'/'\u001b[0m\u001b[0;34m,\u001b[0m\u001b[0;36m1\u001b[0m\u001b[0;34m)\u001b[0m\u001b[0;34m[\u001b[0m\u001b[0;36m1\u001b[0m\u001b[0;34m]\u001b[0m\u001b[0;34m\u001b[0m\u001b[0m\n\u001b[1;32m      3\u001b[0m     \u001b[0mreq\u001b[0m \u001b[0;34m=\u001b[0m \u001b[0murllib2\u001b[0m\u001b[0;34m.\u001b[0m\u001b[0mRequest\u001b[0m\u001b[0;34m(\u001b[0m\u001b[0;34m'http://aplicaciones.localidata.com/eldaSuit/place/id/%s?_view=list'\u001b[0m \u001b[0;34m%\u001b[0m \u001b[0murl\u001b[0m\u001b[0;34m)\u001b[0m\u001b[0;34m\u001b[0m\u001b[0m\n\u001b[0;32m----> 4\u001b[0;31m     \u001b[0mresp\u001b[0m \u001b[0;34m=\u001b[0m \u001b[0murllib2\u001b[0m\u001b[0;34m.\u001b[0m\u001b[0murlopen\u001b[0m\u001b[0;34m(\u001b[0m\u001b[0mreq\u001b[0m\u001b[0;34m)\u001b[0m\u001b[0;34m\u001b[0m\u001b[0m\n\u001b[0m\u001b[1;32m      5\u001b[0m     \u001b[0;31m# 200\u001b[0m\u001b[0;34m\u001b[0m\u001b[0;34m\u001b[0m\u001b[0m\n\u001b[1;32m      6\u001b[0m     \u001b[0mbody\u001b[0m \u001b[0;34m=\u001b[0m \u001b[0mresp\u001b[0m\u001b[0;34m.\u001b[0m\u001b[0mread\u001b[0m\u001b[0;34m(\u001b[0m\u001b[0;34m)\u001b[0m\u001b[0;34m\u001b[0m\u001b[0m\n",
      "\u001b[0;32m/usr/local/Cellar/python/2.7.13/Frameworks/Python.framework/Versions/2.7/lib/python2.7/urllib2.pyc\u001b[0m in \u001b[0;36murlopen\u001b[0;34m(url, data, timeout, cafile, capath, cadefault, context)\u001b[0m\n\u001b[1;32m    152\u001b[0m     \u001b[0;32melse\u001b[0m\u001b[0;34m:\u001b[0m\u001b[0;34m\u001b[0m\u001b[0m\n\u001b[1;32m    153\u001b[0m         \u001b[0mopener\u001b[0m \u001b[0;34m=\u001b[0m \u001b[0m_opener\u001b[0m\u001b[0;34m\u001b[0m\u001b[0m\n\u001b[0;32m--> 154\u001b[0;31m     \u001b[0;32mreturn\u001b[0m \u001b[0mopener\u001b[0m\u001b[0;34m.\u001b[0m\u001b[0mopen\u001b[0m\u001b[0;34m(\u001b[0m\u001b[0murl\u001b[0m\u001b[0;34m,\u001b[0m \u001b[0mdata\u001b[0m\u001b[0;34m,\u001b[0m \u001b[0mtimeout\u001b[0m\u001b[0;34m)\u001b[0m\u001b[0;34m\u001b[0m\u001b[0m\n\u001b[0m\u001b[1;32m    155\u001b[0m \u001b[0;34m\u001b[0m\u001b[0m\n\u001b[1;32m    156\u001b[0m \u001b[0;32mdef\u001b[0m \u001b[0minstall_opener\u001b[0m\u001b[0;34m(\u001b[0m\u001b[0mopener\u001b[0m\u001b[0;34m)\u001b[0m\u001b[0;34m:\u001b[0m\u001b[0;34m\u001b[0m\u001b[0m\n",
      "\u001b[0;32m/usr/local/Cellar/python/2.7.13/Frameworks/Python.framework/Versions/2.7/lib/python2.7/urllib2.pyc\u001b[0m in \u001b[0;36mopen\u001b[0;34m(self, fullurl, data, timeout)\u001b[0m\n\u001b[1;32m    433\u001b[0m         \u001b[0;32mfor\u001b[0m \u001b[0mprocessor\u001b[0m \u001b[0;32min\u001b[0m \u001b[0mself\u001b[0m\u001b[0;34m.\u001b[0m\u001b[0mprocess_response\u001b[0m\u001b[0;34m.\u001b[0m\u001b[0mget\u001b[0m\u001b[0;34m(\u001b[0m\u001b[0mprotocol\u001b[0m\u001b[0;34m,\u001b[0m \u001b[0;34m[\u001b[0m\u001b[0;34m]\u001b[0m\u001b[0;34m)\u001b[0m\u001b[0;34m:\u001b[0m\u001b[0;34m\u001b[0m\u001b[0m\n\u001b[1;32m    434\u001b[0m             \u001b[0mmeth\u001b[0m \u001b[0;34m=\u001b[0m \u001b[0mgetattr\u001b[0m\u001b[0;34m(\u001b[0m\u001b[0mprocessor\u001b[0m\u001b[0;34m,\u001b[0m \u001b[0mmeth_name\u001b[0m\u001b[0;34m)\u001b[0m\u001b[0;34m\u001b[0m\u001b[0m\n\u001b[0;32m--> 435\u001b[0;31m             \u001b[0mresponse\u001b[0m \u001b[0;34m=\u001b[0m \u001b[0mmeth\u001b[0m\u001b[0;34m(\u001b[0m\u001b[0mreq\u001b[0m\u001b[0;34m,\u001b[0m \u001b[0mresponse\u001b[0m\u001b[0;34m)\u001b[0m\u001b[0;34m\u001b[0m\u001b[0m\n\u001b[0m\u001b[1;32m    436\u001b[0m \u001b[0;34m\u001b[0m\u001b[0m\n\u001b[1;32m    437\u001b[0m         \u001b[0;32mreturn\u001b[0m \u001b[0mresponse\u001b[0m\u001b[0;34m\u001b[0m\u001b[0m\n",
      "\u001b[0;32m/usr/local/Cellar/python/2.7.13/Frameworks/Python.framework/Versions/2.7/lib/python2.7/urllib2.pyc\u001b[0m in \u001b[0;36mhttp_response\u001b[0;34m(self, request, response)\u001b[0m\n\u001b[1;32m    546\u001b[0m         \u001b[0;32mif\u001b[0m \u001b[0;32mnot\u001b[0m \u001b[0;34m(\u001b[0m\u001b[0;36m200\u001b[0m \u001b[0;34m<=\u001b[0m \u001b[0mcode\u001b[0m \u001b[0;34m<\u001b[0m \u001b[0;36m300\u001b[0m\u001b[0;34m)\u001b[0m\u001b[0;34m:\u001b[0m\u001b[0;34m\u001b[0m\u001b[0m\n\u001b[1;32m    547\u001b[0m             response = self.parent.error(\n\u001b[0;32m--> 548\u001b[0;31m                 'http', request, response, code, msg, hdrs)\n\u001b[0m\u001b[1;32m    549\u001b[0m \u001b[0;34m\u001b[0m\u001b[0m\n\u001b[1;32m    550\u001b[0m         \u001b[0;32mreturn\u001b[0m \u001b[0mresponse\u001b[0m\u001b[0;34m\u001b[0m\u001b[0m\n",
      "\u001b[0;32m/usr/local/Cellar/python/2.7.13/Frameworks/Python.framework/Versions/2.7/lib/python2.7/urllib2.pyc\u001b[0m in \u001b[0;36merror\u001b[0;34m(self, proto, *args)\u001b[0m\n\u001b[1;32m    471\u001b[0m         \u001b[0;32mif\u001b[0m \u001b[0mhttp_err\u001b[0m\u001b[0;34m:\u001b[0m\u001b[0;34m\u001b[0m\u001b[0m\n\u001b[1;32m    472\u001b[0m             \u001b[0margs\u001b[0m \u001b[0;34m=\u001b[0m \u001b[0;34m(\u001b[0m\u001b[0mdict\u001b[0m\u001b[0;34m,\u001b[0m \u001b[0;34m'default'\u001b[0m\u001b[0;34m,\u001b[0m \u001b[0;34m'http_error_default'\u001b[0m\u001b[0;34m)\u001b[0m \u001b[0;34m+\u001b[0m \u001b[0morig_args\u001b[0m\u001b[0;34m\u001b[0m\u001b[0m\n\u001b[0;32m--> 473\u001b[0;31m             \u001b[0;32mreturn\u001b[0m \u001b[0mself\u001b[0m\u001b[0;34m.\u001b[0m\u001b[0m_call_chain\u001b[0m\u001b[0;34m(\u001b[0m\u001b[0;34m*\u001b[0m\u001b[0margs\u001b[0m\u001b[0;34m)\u001b[0m\u001b[0;34m\u001b[0m\u001b[0m\n\u001b[0m\u001b[1;32m    474\u001b[0m \u001b[0;34m\u001b[0m\u001b[0m\n\u001b[1;32m    475\u001b[0m \u001b[0;31m# XXX probably also want an abstract factory that knows when it makes\u001b[0m\u001b[0;34m\u001b[0m\u001b[0;34m\u001b[0m\u001b[0m\n",
      "\u001b[0;32m/usr/local/Cellar/python/2.7.13/Frameworks/Python.framework/Versions/2.7/lib/python2.7/urllib2.pyc\u001b[0m in \u001b[0;36m_call_chain\u001b[0;34m(self, chain, kind, meth_name, *args)\u001b[0m\n\u001b[1;32m    405\u001b[0m             \u001b[0mfunc\u001b[0m \u001b[0;34m=\u001b[0m \u001b[0mgetattr\u001b[0m\u001b[0;34m(\u001b[0m\u001b[0mhandler\u001b[0m\u001b[0;34m,\u001b[0m \u001b[0mmeth_name\u001b[0m\u001b[0;34m)\u001b[0m\u001b[0;34m\u001b[0m\u001b[0m\n\u001b[1;32m    406\u001b[0m \u001b[0;34m\u001b[0m\u001b[0m\n\u001b[0;32m--> 407\u001b[0;31m             \u001b[0mresult\u001b[0m \u001b[0;34m=\u001b[0m \u001b[0mfunc\u001b[0m\u001b[0;34m(\u001b[0m\u001b[0;34m*\u001b[0m\u001b[0margs\u001b[0m\u001b[0;34m)\u001b[0m\u001b[0;34m\u001b[0m\u001b[0m\n\u001b[0m\u001b[1;32m    408\u001b[0m             \u001b[0;32mif\u001b[0m \u001b[0mresult\u001b[0m \u001b[0;32mis\u001b[0m \u001b[0;32mnot\u001b[0m \u001b[0mNone\u001b[0m\u001b[0;34m:\u001b[0m\u001b[0;34m\u001b[0m\u001b[0m\n\u001b[1;32m    409\u001b[0m                 \u001b[0;32mreturn\u001b[0m \u001b[0mresult\u001b[0m\u001b[0;34m\u001b[0m\u001b[0m\n",
      "\u001b[0;32m/usr/local/Cellar/python/2.7.13/Frameworks/Python.framework/Versions/2.7/lib/python2.7/urllib2.pyc\u001b[0m in \u001b[0;36mhttp_error_default\u001b[0;34m(self, req, fp, code, msg, hdrs)\u001b[0m\n\u001b[1;32m    554\u001b[0m \u001b[0;32mclass\u001b[0m \u001b[0mHTTPDefaultErrorHandler\u001b[0m\u001b[0;34m(\u001b[0m\u001b[0mBaseHandler\u001b[0m\u001b[0;34m)\u001b[0m\u001b[0;34m:\u001b[0m\u001b[0;34m\u001b[0m\u001b[0m\n\u001b[1;32m    555\u001b[0m     \u001b[0;32mdef\u001b[0m \u001b[0mhttp_error_default\u001b[0m\u001b[0;34m(\u001b[0m\u001b[0mself\u001b[0m\u001b[0;34m,\u001b[0m \u001b[0mreq\u001b[0m\u001b[0;34m,\u001b[0m \u001b[0mfp\u001b[0m\u001b[0;34m,\u001b[0m \u001b[0mcode\u001b[0m\u001b[0;34m,\u001b[0m \u001b[0mmsg\u001b[0m\u001b[0;34m,\u001b[0m \u001b[0mhdrs\u001b[0m\u001b[0;34m)\u001b[0m\u001b[0;34m:\u001b[0m\u001b[0;34m\u001b[0m\u001b[0m\n\u001b[0;32m--> 556\u001b[0;31m         \u001b[0;32mraise\u001b[0m \u001b[0mHTTPError\u001b[0m\u001b[0;34m(\u001b[0m\u001b[0mreq\u001b[0m\u001b[0;34m.\u001b[0m\u001b[0mget_full_url\u001b[0m\u001b[0;34m(\u001b[0m\u001b[0;34m)\u001b[0m\u001b[0;34m,\u001b[0m \u001b[0mcode\u001b[0m\u001b[0;34m,\u001b[0m \u001b[0mmsg\u001b[0m\u001b[0;34m,\u001b[0m \u001b[0mhdrs\u001b[0m\u001b[0;34m,\u001b[0m \u001b[0mfp\u001b[0m\u001b[0;34m)\u001b[0m\u001b[0;34m\u001b[0m\u001b[0m\n\u001b[0m\u001b[1;32m    557\u001b[0m \u001b[0;34m\u001b[0m\u001b[0m\n\u001b[1;32m    558\u001b[0m \u001b[0;32mclass\u001b[0m \u001b[0mHTTPRedirectHandler\u001b[0m\u001b[0;34m(\u001b[0m\u001b[0mBaseHandler\u001b[0m\u001b[0;34m)\u001b[0m\u001b[0;34m:\u001b[0m\u001b[0;34m\u001b[0m\u001b[0m\n",
      "\u001b[0;31mHTTPError\u001b[0m: HTTP Error 400: Bad Request"
     ]
    }
   ],
   "source": [
    "new_rows = []\n",
    "for row in rows:\n",
    "    #convert scoro to float\n",
    "    row[4] = float(row[4])\n",
    "    #add informations\n",
    "    if add_info(row):\n",
    "        new_rows.append(row)\n",
    "        \n",
    "with open('data/dbpedia_match_nogeo_coordinates.csv','wb') as output_fp:\n",
    "    writer=csv.writer(output_fp,)\n",
    "    # skip header\n",
    "    writer.writerow(['3cixty_uri','3cixty_label','dbpedia_label','dbpedia_uri','score','coordinates'])\n",
    "    for row in new_rows:\n",
    "        row_utf8 = [s.encode('utf-8') if type(s) == unicode else s for s in row]\n",
    "        writer.writerow(row_utf8)        \n",
    "        \n",
    "keys = set(map(lambda row : row[3], new_rows))\n",
    "groups = [[row for row in new_rows if row[3] == key] for key in keys]\n",
    "new_pois = []\n",
    "for group in groups:\n",
    "    best_score = max(group,key= lambda x: x[4])\n",
    "    group = filter(lambda row: row[4] == best_score[4],group)\n",
    "    group = filter(lambda row: row[4] > THRESHOLD, group)\n",
    "    if len(group) >= 1:\n",
    "        # keep nearest to center\n",
    "        min_distance = float('inf')\n",
    "        min_poi = None\n",
    "        for row in group:\n",
    "            distance = vincenty(NICE_COORDINATES, row[5]).km\n",
    "            if distance < min_distance:\n",
    "                min_distance = distance\n",
    "                min_poi = row\n",
    "        position = min_poi[5]\n",
    "        min_poi[5] = position[0]\n",
    "        min_poi.append(position[1])\n",
    "        sparql = SPARQLWrapper(\"http://dbpedia.org/sparql\")\n",
    "        sparql.setQuery(\"\"\"\n",
    "                    SELECT ?label ?preferredLabel \n",
    "        WHERE { \n",
    "           <%s> rdfs:label ?label .\n",
    "        FILTER (lang(?label) = \"\" || lang(?label) = \"en\") \n",
    "           OPTIONAL { \n",
    "             <%s> rdfs:label ?preferredLabel . \n",
    "             FILTER (lang(?preferredLabel) = \"\" || lang(?preferredLabel) = \"tk\") \n",
    "           } \n",
    "        }\n",
    "                    \"\"\" % (min_poi[3],min_poi[3]))        \n",
    "        sparql.setReturnFormat(JSON)\n",
    "        results = sparql.query().convert()\n",
    "\n",
    "        for place in results['results']['bindings']:\n",
    "            try:\n",
    "                label = place['preferredLabel']['value']\n",
    "            except KeyError:\n",
    "                label = place['label']['value']\n",
    "            min_poi[2] = label\n",
    "        new_pois.append(min_poi)\n",
    "        \n",
    "new_pois = sorted(new_pois,key=lambda x: x[4],reverse=True)"
   ]
  },
  {
   "cell_type": "code",
   "execution_count": 209,
   "metadata": {
    "collapsed": false,
    "deletable": true,
    "editable": true
   },
   "outputs": [],
   "source": [
    "with open('data/dbpedia_match_nogeo_distinct.csv','wb') as output_fp:\n",
    "    writer=csv.writer(output_fp,)\n",
    "    # skip header\n",
    "    writer.writerow(['3cixty_uri','3cixty_label','dbpedia_label','dbpedia_uri','score','latitude','longitude'])\n",
    "    for row in new_pois:\n",
    "        row_utf8 = [s.encode('utf-8') if type(s) == unicode else s for s in row]\n",
    "        writer.writerow(row_utf8)"
   ]
  },
  {
   "cell_type": "code",
   "execution_count": 222,
   "metadata": {
    "collapsed": false,
    "deletable": true,
    "editable": true
   },
   "outputs": [
    {
     "name": "stdout",
     "output_type": "stream",
     "text": [
      "Nice\n"
     ]
    }
   ],
   "source": [
    "sparql = SPARQLWrapper(\"http://dbpedia.org/sparql\")\n",
    "sparql.setQuery(\"\"\"\n",
    "            SELECT ?label ?preferredLabel \n",
    "WHERE { \n",
    "   <http://dbpedia.org/resource/Nice> rdfs:label ?label .\n",
    "FILTER (lang(?label) = \"\" || lang(?label) = \"en\") \n",
    "   OPTIONAL { \n",
    "     <http://dbpedia.org/resource/Nice> rdfs:label ?preferredLabel . \n",
    "     FILTER (lang(?preferredLabel) = \"\" || lang(?preferredLabel) = \"tk\") \n",
    "   } \n",
    "}\n",
    "            \"\"\")        \n",
    "sparql.setReturnFormat(JSON)\n",
    "results = sparql.query().convert()\n",
    "\n",
    "for place in results['results']['bindings']:\n",
    "    try:\n",
    "        label = place['preferredLabel']['value']\n",
    "    except KeyError:\n",
    "        label = place['label']['value']\n",
    "    "
   ]
  },
  {
   "cell_type": "code",
   "execution_count": 233,
   "metadata": {
    "collapsed": true,
    "deletable": true,
    "editable": true
   },
   "outputs": [],
   "source": [
    "with open('data/dbpedia_match_nogeo_distinct.csv','r') as input_fp:\n",
    "    reader=csv.reader(input_fp,)\n",
    "    # skip header\n",
    "    reader.next()\n",
    "    rows = [ [unicode(col,'utf-8') for col in row] for row in reader]"
   ]
  },
  {
   "cell_type": "code",
   "execution_count": 236,
   "metadata": {
    "collapsed": false,
    "deletable": true,
    "editable": true
   },
   "outputs": [],
   "source": [
    "for row in rows:\n",
    "    sparql = SPARQLWrapper(\"http://dbpedia.org/sparql\")\n",
    "    sparql.setQuery(\"\"\"\n",
    "    SELECT ?label ?preferredLabel \n",
    "    WHERE { \n",
    "       <%s> rdfs:label ?label .\n",
    "    FILTER (lang(?label) = \"\" || lang(?label) = \"en\") \n",
    "       OPTIONAL { \n",
    "         <%s> rdfs:label ?preferredLabel . \n",
    "         FILTER (lang(?preferredLabel) = \"\" || lang(?preferredLabel) = \"fr\") \n",
    "       } \n",
    "    }\n",
    "    \"\"\" % (row[3],row[3]))        \n",
    "    sparql.setReturnFormat(JSON)\n",
    "    results = sparql.query().convert()\n",
    "\n",
    "    for place in results['results']['bindings']:\n",
    "        try:\n",
    "            label = place['preferredLabel']['value']\n",
    "        except KeyError:\n",
    "            label = place['label']['value']\n",
    "    row[2] = label\n",
    "with open('data/dbpedia_match_nogeo_distinct_convert.csv','wb') as output_fp:\n",
    "    writer=csv.writer(output_fp,)\n",
    "    # skip header\n",
    "    writer.writerow(['3cixty_uri','3cixty_label','dbpedia_label','dbpedia_uri','score','latitude','longitude'])\n",
    "    for row in rows:\n",
    "        row_utf8 = [s.encode('utf-8') if type(s) == unicode else s for s in row]\n",
    "        writer.writerow(row_utf8)"
   ]
  }
 ],
 "metadata": {
  "kernelspec": {
   "display_name": "Python 2",
   "language": "python",
   "name": "python2"
  },
  "language_info": {
   "codemirror_mode": {
    "name": "ipython",
    "version": 2
   },
   "file_extension": ".py",
   "mimetype": "text/x-python",
   "name": "python",
   "nbconvert_exporter": "python",
   "pygments_lexer": "ipython2",
   "version": "2.7.13"
  }
 },
 "nbformat": 4,
 "nbformat_minor": 2
}
