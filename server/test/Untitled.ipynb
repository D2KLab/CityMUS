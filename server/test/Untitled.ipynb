{
 "cells": [
  {
   "cell_type": "code",
   "execution_count": 2,
   "metadata": {
    "collapsed": true
   },
   "outputs": [],
   "source": [
    "import csv\n",
    "from pprint import pprint\n",
    "import json\n",
    "import os\n",
    "\n",
    "\n",
    "def get_linked_artists():\n",
    "    with open('../data/artists_tracks.json', 'r') as input_fp:\n",
    "        artists = json.load(input_fp)\n",
    "\n",
    "        artists = artists.keys()\n",
    "        return artists[:5]\n"
   ]
  },
  {
   "cell_type": "code",
   "execution_count": 3,
   "metadata": {
    "collapsed": false
   },
   "outputs": [
    {
     "name": "stdout",
     "output_type": "stream",
     "text": [
      "[u'http://data.doremus.org/artist/6f67ef72-4d21-398d-99fa-5fd99cf7be42',\n",
      " u'http://data.doremus.org/artist/df2b377a-2b50-3bfe-82df-f70ed71256e8',\n",
      " u'http://data.doremus.org/artist/a10c1ec3-2245-31ec-866e-5be3884a6a56',\n",
      " u'http://data.doremus.org/artist/b3b103be-fa87-336b-b5f2-ac7fe4555e1e',\n",
      " u'http://data.doremus.org/artist/3220e164-5004-31e9-b6bf-0388dde95c21',\n",
      " u'http://data.doremus.org/artist/9df70e4c-9c2e-3e4f-b329-75d4ddf62a55',\n",
      " u'http://data.doremus.org/artist/6e32d7bc-1634-3512-85c3-e38b5debc0e6',\n",
      " u'http://data.doremus.org/artist/bab974dc-920b-32ef-946e-af55f429d656',\n",
      " u'http://data.doremus.org/artist/73247f3a-a7b6-364b-b106-543ef55887fc']\n"
     ]
    }
   ],
   "source": [
    "get_linked_artists()"
   ]
  }
 ],
 "metadata": {
  "kernelspec": {
   "display_name": "Python 2",
   "language": "python",
   "name": "python2"
  },
  "language_info": {
   "codemirror_mode": {
    "name": "ipython",
    "version": 2
   },
   "file_extension": ".py",
   "mimetype": "text/x-python",
   "name": "python",
   "nbconvert_exporter": "python",
   "pygments_lexer": "ipython2",
   "version": "2.7.13"
  }
 },
 "nbformat": 4,
 "nbformat_minor": 2
}
