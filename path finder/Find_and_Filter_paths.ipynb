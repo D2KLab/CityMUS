{
 "cells": [
  {
   "cell_type": "code",
   "execution_count": null,
   "metadata": {
    "collapsed": true
   },
   "outputs": [],
   "source": [
    "#THE NOTEBOOK IS INCOMPLETE....only the code is finsihed, but we have to finish the comments"
   ]
  },
  {
   "cell_type": "code",
   "execution_count": 1,
   "metadata": {
    "collapsed": true,
    "deletable": true,
    "editable": true
   },
   "outputs": [],
   "source": [
    "import pandas as pd\n",
    "import csv\n",
    "import numpy as np\n",
    "from os import listdir\n",
    "from os.path import isfile, join\n",
    "import re\n",
    "import seaborn as sns\n",
    "import matplotlib.pyplot as plt\n",
    "import urllib.request, urllib.error, urllib.parse\n",
    "pd.set_option('display.max_colwidth', -1)"
   ]
  },
  {
   "cell_type": "code",
   "execution_count": 2,
   "metadata": {
    "collapsed": false,
    "deletable": true,
    "editable": true
   },
   "outputs": [],
   "source": [
    "input_directory = \"input_files/\"\n",
    "poi_filepath = input_directory + '3cixty_dbpedia_match.csv'\n",
    "df_pois = pd.read_csv(poi_filepath)\n",
    "POIs_list = list(df_pois[df_pois.columns[0]].drop_duplicates())\n",
    "\n",
    "artists_filepath1 = input_directory + '5_0_doremus_dbpedia_artists.csv'\n",
    "artists_filepath2 = input_directory + 'series_artist.csv'\n",
    "df_artists = pd.read_csv(artists_filepath1)\n",
    "artists_list = list(df_artists[df_artists.columns[1]].drop_duplicates())+list(pd.read_csv(artists_filepath2)['dbpedia'])"
   ]
  },
  {
   "cell_type": "code",
   "execution_count": 14,
   "metadata": {
    "collapsed": true,
    "deletable": true,
    "editable": true
   },
   "outputs": [],
   "source": [
    "def getQueryResponse(query,endpointURL='http://dbpedia.org/sparql'):\n",
    "    escapedQuery = urllib.parse.quote(query)\n",
    "    requestURL = endpointURL + \"?query=\" + escapedQuery +\"&format=CSV\"\n",
    "    try:\n",
    "        request = urllib.request.Request(requestURL)\n",
    "        result = urllib.request.urlopen(request)\n",
    "        return result\n",
    "    except:\n",
    "        raise Exception"
   ]
  },
  {
   "cell_type": "markdown",
   "metadata": {
    "deletable": true,
    "editable": true
   },
   "source": [
    "# PATHS DISCOVERING"
   ]
  },
  {
   "cell_type": "markdown",
   "metadata": {
    "deletable": true,
    "editable": true
   },
   "source": [
    "<div class=\"alert alert-success\">\n",
    "The purpose of this Notebook is to find the paths bewteen artists and POIs. The considered POIs are the ones that we have matched between Dbpedia and 3cixty and the considered artists are the ones matched between Dbpedia and Doremus. \n",
    "The method that we'll use to find paths can be better understood looking at the graph below. \n",
    "<img src=\"path_discovering.jpg\" height=\"465\">\n",
    "\n",
    "</div>"
   ]
  },
  {
   "cell_type": "code",
   "execution_count": 15,
   "metadata": {
    "collapsed": true,
    "deletable": true,
    "editable": true
   },
   "outputs": [],
   "source": [
    "basic_query_artists = '''\n",
    "select distinct ?artist ?p1 ?o1 ?p2 ?o2 ?p3 ?o\n",
    "where{\n",
    "values ?artist { <STR_TO_SUB> }\n",
    "{?s ?p1 ?o}\n",
    "UNION\n",
    "{\n",
    "?artist ?p1 ?o1.\n",
    "?o1 ?p2 ?o.\n",
    "}\n",
    "UNION\n",
    "{\n",
    "?artist ?p1 ?o1.\n",
    "?o1 ?p2 ?o2.\n",
    "?o2 ?p3 ?o.\n",
    "}\n",
    "\n",
    "filter (?o1 != <http://dbpedia.org/resource/France>)\n",
    "filter (?o1 != <http://dbpedia.org/resource/Nice>)\n",
    "filter (?o1 != <http://dbpedia.org/resource/Category:Nice>)\n",
    "filter (?p1 != <http://dbpedia.org/ontology/type>)\n",
    "filter (?p1 != <http://dbpedia.org/property/type>)\n",
    "\n",
    "\n",
    "filter (?o2 != <http://dbpedia.org/resource/France>)\n",
    "filter (?o2 != <http://dbpedia.org/resource/Nice>)\n",
    "filter (?o2 != <http://dbpedia.org/resource/Category:Nice>)\n",
    "filter (?p2 != <http://dbpedia.org/ontology/type>)\n",
    "filter (?p2 != <http://dbpedia.org/property/type>)\n",
    "\n",
    "filter (?o != <http://dbpedia.org/resource/France>)\n",
    "filter (?o != <http://dbpedia.org/resource/Nice>)\n",
    "filter (?o != <http://dbpedia.org/resource/Category:Nice>)\n",
    "filter (?p3 != <http://dbpedia.org/ontology/type>)\n",
    "filter (?p3 != <http://dbpedia.org/property/type>)\n",
    "\n",
    "\n",
    "FILTER(!isLiteral(?o))\n",
    "FILTER contains(str(?o),\"http://dbpedia.org/resource\")\n",
    "}\n",
    "'''"
   ]
  },
  {
   "cell_type": "code",
   "execution_count": 16,
   "metadata": {
    "collapsed": true,
    "deletable": true,
    "editable": true
   },
   "outputs": [],
   "source": [
    "basic_query_pois = '''\n",
    "select distinct ?o ?p3_ ?o2_ ?p2_ ?o1_ ?p1_ ?poi\n",
    "where{\n",
    "values ?poi { <STR_TO_SUB> }\n",
    "{?poi ?p1_ ?o}\n",
    "UNION\n",
    "{\n",
    "?poi ?p1_ ?o1_.\n",
    "?o1_ ?p2_ ?o.\n",
    "}\n",
    "UNION\n",
    "{\n",
    "?poi ?p1_ ?o1_.\n",
    "?o1_ ?p2_ ?o2_.\n",
    "?o2_ ?p3_ ?o.\n",
    "}\n",
    "\n",
    "filter (?o1_ != <http://dbpedia.org/resource/France>)\n",
    "filter (?o1_ != <http://dbpedia.org/resource/Nice>)\n",
    "filter (?o1_ != <http://dbpedia.org/resource/Category:Nice>)\n",
    "filter (?p1_ != <http://dbpedia.org/ontology/type>)\n",
    "filter (?p1_ != <http://dbpedia.org/property/type>)\n",
    "\n",
    "\n",
    "filter (?o2_ != <http://dbpedia.org/resource/France>)\n",
    "filter (?o2_ != <http://dbpedia.org/resource/Nice>)\n",
    "filter (?o2_ != <http://dbpedia.org/resource/Category:Nice>)\n",
    "filter (?p2_ != <http://dbpedia.org/ontology/type>)\n",
    "filter (?p2_ != <http://dbpedia.org/property/type>)\n",
    "\n",
    "filter (?o != <http://dbpedia.org/resource/France>)\n",
    "filter (?o != <http://dbpedia.org/resource/Nice>)\n",
    "filter (?o != <http://dbpedia.org/resource/Category:Nice>)\n",
    "filter (?p3_ != <http://dbpedia.org/ontology/type>)\n",
    "filter (?p3_ != <http://dbpedia.org/property/type>)\n",
    "\n",
    "\n",
    "FILTER(!isLiteral(?o))\n",
    "FILTER contains(str(?o),\"http://dbpedia.org/resource\")\n",
    "}\n",
    "'''"
   ]
  },
  {
   "cell_type": "code",
   "execution_count": 17,
   "metadata": {
    "collapsed": true,
    "deletable": true,
    "editable": true
   },
   "outputs": [],
   "source": [
    "all_pois_links = pd.DataFrame([],columns=['o','p3_','o2_','p2_','o1_','p1_','poi'])"
   ]
  },
  {
   "cell_type": "code",
   "execution_count": 18,
   "metadata": {
    "collapsed": true,
    "deletable": true,
    "editable": true
   },
   "outputs": [],
   "source": [
    "start_index = 0"
   ]
  },
  {
   "cell_type": "code",
   "execution_count": 19,
   "metadata": {
    "collapsed": false,
    "deletable": true,
    "editable": true
   },
   "outputs": [],
   "source": [
    "for i,poi in enumerate(POIs_list[start_index:]):\n",
    "    query = basic_query_pois.replace('STR_TO_SUB',poi)\n",
    "    result = pd.read_csv(getQueryResponse(query))\n",
    "    all_pois_links = all_pois_links.append(result, ignore_index=True)\n",
    "    start_index = i\n",
    "    "
   ]
  },
  {
   "cell_type": "code",
   "execution_count": 20,
   "metadata": {
    "collapsed": true,
    "deletable": true,
    "editable": true
   },
   "outputs": [],
   "source": [
    "import pickle\n",
    "all_pois_links.to_pickle('all_pois_links')"
   ]
  },
  {
   "cell_type": "code",
   "execution_count": 24,
   "metadata": {
    "collapsed": true,
    "deletable": true,
    "editable": true
   },
   "outputs": [],
   "source": [
    "start_index = 0\n",
    "trace = 0"
   ]
  },
  {
   "cell_type": "code",
   "execution_count": 69,
   "metadata": {
    "collapsed": true,
    "deletable": true,
    "editable": true
   },
   "outputs": [],
   "source": [
    "links_folder = \"links/\""
   ]
  },
  {
   "cell_type": "code",
   "execution_count": 37,
   "metadata": {
    "collapsed": false,
    "deletable": true,
    "editable": true
   },
   "outputs": [
    {
     "name": "stdout",
     "output_type": "stream",
     "text": [
      "200\n",
      "700\n",
      "1200\n"
     ]
    }
   ],
   "source": [
    "l = artists_list[trace:]\n",
    "for i,artist in enumerate(l):\n",
    "    if (trace) % 500 == 0:\n",
    "        print(i)\n",
    "    query = basic_query_artists.replace('STR_TO_SUB',artist)\n",
    "    result = pd.read_csv(getQueryResponse(query))\n",
    "    df_artist_pois = pd.merge(result, all_pois_links, on='o', how='inner').drop_duplicates()\n",
    "    if len(df_artist_pois)>0:\n",
    "        df_artist_pois.to_pickle(links_folder+str(trace))\n",
    "    trace += 1"
   ]
  },
  {
   "cell_type": "code",
   "execution_count": 69,
   "metadata": {
    "collapsed": false,
    "deletable": true,
    "editable": true
   },
   "outputs": [
    {
     "data": {
      "text/plain": [
       "41690527"
      ]
     },
     "execution_count": 69,
     "metadata": {},
     "output_type": "execute_result"
    }
   ],
   "source": [
    "len(df_paths)"
   ]
  },
  {
   "cell_type": "code",
   "execution_count": 70,
   "metadata": {
    "collapsed": false,
    "deletable": true,
    "editable": true
   },
   "outputs": [
    {
     "data": {
      "text/html": [
       "<div>\n",
       "<style>\n",
       "    .dataframe thead tr:only-child th {\n",
       "        text-align: right;\n",
       "    }\n",
       "\n",
       "    .dataframe thead th {\n",
       "        text-align: left;\n",
       "    }\n",
       "\n",
       "    .dataframe tbody tr th {\n",
       "        vertical-align: top;\n",
       "    }\n",
       "</style>\n",
       "<table border=\"1\" class=\"dataframe\">\n",
       "  <thead>\n",
       "    <tr style=\"text-align: right;\">\n",
       "      <th></th>\n",
       "      <th>artist</th>\n",
       "      <th>p1</th>\n",
       "      <th>o1</th>\n",
       "      <th>p2</th>\n",
       "      <th>o2</th>\n",
       "      <th>p3</th>\n",
       "      <th>o</th>\n",
       "      <th>p3_</th>\n",
       "      <th>o2_</th>\n",
       "      <th>p2_</th>\n",
       "      <th>o1_</th>\n",
       "      <th>p1_</th>\n",
       "      <th>poi</th>\n",
       "    </tr>\n",
       "  </thead>\n",
       "  <tbody>\n",
       "    <tr>\n",
       "      <th>0</th>\n",
       "      <td>http://dbpedia.org/resource/Jean_Nouguès</td>\n",
       "      <td>http://purl.org/dc/terms/subject</td>\n",
       "      <td>http://dbpedia.org/resource/Category:People_from_Bordeaux</td>\n",
       "      <td>http://www.w3.org/2004/02/skos/core#broader</td>\n",
       "      <td>http://dbpedia.org/resource/Category:Bordeaux</td>\n",
       "      <td>http://www.w3.org/2004/02/skos/core#broader</td>\n",
       "      <td>http://dbpedia.org/resource/Category:Cities_in_France</td>\n",
       "      <td>http://purl.org/dc/terms/subject</td>\n",
       "      <td>http://dbpedia.org/resource/Paris</td>\n",
       "      <td>http://dbpedia.org/ontology/significantProject</td>\n",
       "      <td>http://dbpedia.org/resource/Jean-Michel_Wilmotte</td>\n",
       "      <td>http://dbpedia.org/ontology/architect</td>\n",
       "      <td>http://dbpedia.org/resource/Allianz_Riviera</td>\n",
       "    </tr>\n",
       "    <tr>\n",
       "      <th>1</th>\n",
       "      <td>http://dbpedia.org/resource/Jean_Nouguès</td>\n",
       "      <td>http://purl.org/dc/terms/subject</td>\n",
       "      <td>http://dbpedia.org/resource/Category:People_from_Bordeaux</td>\n",
       "      <td>http://www.w3.org/2004/02/skos/core#broader</td>\n",
       "      <td>http://dbpedia.org/resource/Category:Bordeaux</td>\n",
       "      <td>http://www.w3.org/2004/02/skos/core#broader</td>\n",
       "      <td>http://dbpedia.org/resource/Category:Cities_in_France</td>\n",
       "      <td>http://purl.org/dc/terms/subject</td>\n",
       "      <td>http://dbpedia.org/resource/Paris</td>\n",
       "      <td>http://dbpedia.org/ontology/significantProject</td>\n",
       "      <td>http://dbpedia.org/resource/Jean-Michel_Wilmotte</td>\n",
       "      <td>http://dbpedia.org/property/architect</td>\n",
       "      <td>http://dbpedia.org/resource/Allianz_Riviera</td>\n",
       "    </tr>\n",
       "    <tr>\n",
       "      <th>2</th>\n",
       "      <td>http://dbpedia.org/resource/Jean_Nouguès</td>\n",
       "      <td>http://purl.org/dc/terms/subject</td>\n",
       "      <td>http://dbpedia.org/resource/Category:People_from_Bordeaux</td>\n",
       "      <td>http://www.w3.org/2004/02/skos/core#broader</td>\n",
       "      <td>http://dbpedia.org/resource/Category:Bordeaux</td>\n",
       "      <td>http://www.w3.org/2004/02/skos/core#broader</td>\n",
       "      <td>http://dbpedia.org/resource/Category:Cities_in_France</td>\n",
       "      <td>http://www.w3.org/2004/02/skos/core#broader</td>\n",
       "      <td>http://dbpedia.org/resource/Category:Port_cities_and_towns_in_France</td>\n",
       "      <td>http://www.w3.org/2004/02/skos/core#broader</td>\n",
       "      <td>http://dbpedia.org/resource/Category:Mediterranean_port_cities_and_towns_in_France</td>\n",
       "      <td>http://purl.org/dc/terms/subject</td>\n",
       "      <td>http://dbpedia.org/resource/Villefranche-sur-Mer</td>\n",
       "    </tr>\n",
       "    <tr>\n",
       "      <th>3</th>\n",
       "      <td>http://dbpedia.org/resource/Jean_Nouguès</td>\n",
       "      <td>http://purl.org/dc/terms/subject</td>\n",
       "      <td>http://dbpedia.org/resource/Category:People_from_Bordeaux</td>\n",
       "      <td>http://www.w3.org/2004/02/skos/core#broader</td>\n",
       "      <td>http://dbpedia.org/resource/Category:Bordeaux</td>\n",
       "      <td>http://www.w3.org/2004/02/skos/core#broader</td>\n",
       "      <td>http://dbpedia.org/resource/Category:Cities_in_France</td>\n",
       "      <td>http://purl.org/dc/terms/subject</td>\n",
       "      <td>http://dbpedia.org/resource/Paris</td>\n",
       "      <td>http://dbpedia.org/ontology/birthPlace</td>\n",
       "      <td>http://dbpedia.org/resource/Kévin_Gomis</td>\n",
       "      <td>http://dbpedia.org/property/name</td>\n",
       "      <td>http://dbpedia.org/resource/OGC_Nice</td>\n",
       "    </tr>\n",
       "    <tr>\n",
       "      <th>4</th>\n",
       "      <td>http://dbpedia.org/resource/Jean_Nouguès</td>\n",
       "      <td>http://purl.org/dc/terms/subject</td>\n",
       "      <td>http://dbpedia.org/resource/Category:People_from_Bordeaux</td>\n",
       "      <td>http://www.w3.org/2004/02/skos/core#broader</td>\n",
       "      <td>http://dbpedia.org/resource/Category:Bordeaux</td>\n",
       "      <td>http://www.w3.org/2004/02/skos/core#broader</td>\n",
       "      <td>http://dbpedia.org/resource/Category:Cities_in_France</td>\n",
       "      <td>http://purl.org/dc/terms/subject</td>\n",
       "      <td>http://dbpedia.org/resource/Paris</td>\n",
       "      <td>http://dbpedia.org/ontology/locationCity</td>\n",
       "      <td>http://dbpedia.org/resource/Transdev</td>\n",
       "      <td>http://dbpedia.org/ontology/operatedBy</td>\n",
       "      <td>http://dbpedia.org/resource/Nice_tramway</td>\n",
       "    </tr>\n",
       "  </tbody>\n",
       "</table>\n",
       "</div>"
      ],
      "text/plain": [
       "                                     artist                                p1  \\\n",
       "0  http://dbpedia.org/resource/Jean_Nouguès  http://purl.org/dc/terms/subject   \n",
       "1  http://dbpedia.org/resource/Jean_Nouguès  http://purl.org/dc/terms/subject   \n",
       "2  http://dbpedia.org/resource/Jean_Nouguès  http://purl.org/dc/terms/subject   \n",
       "3  http://dbpedia.org/resource/Jean_Nouguès  http://purl.org/dc/terms/subject   \n",
       "4  http://dbpedia.org/resource/Jean_Nouguès  http://purl.org/dc/terms/subject   \n",
       "\n",
       "                                                          o1  \\\n",
       "0  http://dbpedia.org/resource/Category:People_from_Bordeaux   \n",
       "1  http://dbpedia.org/resource/Category:People_from_Bordeaux   \n",
       "2  http://dbpedia.org/resource/Category:People_from_Bordeaux   \n",
       "3  http://dbpedia.org/resource/Category:People_from_Bordeaux   \n",
       "4  http://dbpedia.org/resource/Category:People_from_Bordeaux   \n",
       "\n",
       "                                            p2  \\\n",
       "0  http://www.w3.org/2004/02/skos/core#broader   \n",
       "1  http://www.w3.org/2004/02/skos/core#broader   \n",
       "2  http://www.w3.org/2004/02/skos/core#broader   \n",
       "3  http://www.w3.org/2004/02/skos/core#broader   \n",
       "4  http://www.w3.org/2004/02/skos/core#broader   \n",
       "\n",
       "                                              o2  \\\n",
       "0  http://dbpedia.org/resource/Category:Bordeaux   \n",
       "1  http://dbpedia.org/resource/Category:Bordeaux   \n",
       "2  http://dbpedia.org/resource/Category:Bordeaux   \n",
       "3  http://dbpedia.org/resource/Category:Bordeaux   \n",
       "4  http://dbpedia.org/resource/Category:Bordeaux   \n",
       "\n",
       "                                            p3  \\\n",
       "0  http://www.w3.org/2004/02/skos/core#broader   \n",
       "1  http://www.w3.org/2004/02/skos/core#broader   \n",
       "2  http://www.w3.org/2004/02/skos/core#broader   \n",
       "3  http://www.w3.org/2004/02/skos/core#broader   \n",
       "4  http://www.w3.org/2004/02/skos/core#broader   \n",
       "\n",
       "                                                       o  \\\n",
       "0  http://dbpedia.org/resource/Category:Cities_in_France   \n",
       "1  http://dbpedia.org/resource/Category:Cities_in_France   \n",
       "2  http://dbpedia.org/resource/Category:Cities_in_France   \n",
       "3  http://dbpedia.org/resource/Category:Cities_in_France   \n",
       "4  http://dbpedia.org/resource/Category:Cities_in_France   \n",
       "\n",
       "                                           p3_  \\\n",
       "0  http://purl.org/dc/terms/subject              \n",
       "1  http://purl.org/dc/terms/subject              \n",
       "2  http://www.w3.org/2004/02/skos/core#broader   \n",
       "3  http://purl.org/dc/terms/subject              \n",
       "4  http://purl.org/dc/terms/subject              \n",
       "\n",
       "                                                                    o2_  \\\n",
       "0  http://dbpedia.org/resource/Paris                                      \n",
       "1  http://dbpedia.org/resource/Paris                                      \n",
       "2  http://dbpedia.org/resource/Category:Port_cities_and_towns_in_France   \n",
       "3  http://dbpedia.org/resource/Paris                                      \n",
       "4  http://dbpedia.org/resource/Paris                                      \n",
       "\n",
       "                                              p2_  \\\n",
       "0  http://dbpedia.org/ontology/significantProject   \n",
       "1  http://dbpedia.org/ontology/significantProject   \n",
       "2  http://www.w3.org/2004/02/skos/core#broader      \n",
       "3  http://dbpedia.org/ontology/birthPlace           \n",
       "4  http://dbpedia.org/ontology/locationCity         \n",
       "\n",
       "                                                                                  o1_  \\\n",
       "0  http://dbpedia.org/resource/Jean-Michel_Wilmotte                                     \n",
       "1  http://dbpedia.org/resource/Jean-Michel_Wilmotte                                     \n",
       "2  http://dbpedia.org/resource/Category:Mediterranean_port_cities_and_towns_in_France   \n",
       "3  http://dbpedia.org/resource/Kévin_Gomis                                              \n",
       "4  http://dbpedia.org/resource/Transdev                                                 \n",
       "\n",
       "                                      p1_  \\\n",
       "0  http://dbpedia.org/ontology/architect    \n",
       "1  http://dbpedia.org/property/architect    \n",
       "2  http://purl.org/dc/terms/subject         \n",
       "3  http://dbpedia.org/property/name         \n",
       "4  http://dbpedia.org/ontology/operatedBy   \n",
       "\n",
       "                                                poi  \n",
       "0  http://dbpedia.org/resource/Allianz_Riviera       \n",
       "1  http://dbpedia.org/resource/Allianz_Riviera       \n",
       "2  http://dbpedia.org/resource/Villefranche-sur-Mer  \n",
       "3  http://dbpedia.org/resource/OGC_Nice              \n",
       "4  http://dbpedia.org/resource/Nice_tramway          "
      ]
     },
     "execution_count": 70,
     "metadata": {},
     "output_type": "execute_result"
    }
   ],
   "source": [
    "df_paths.head()"
   ]
  },
  {
   "cell_type": "markdown",
   "metadata": {
    "deletable": true,
    "editable": true
   },
   "source": [
    "# PATHS FILTERING"
   ]
  },
  {
   "cell_type": "markdown",
   "metadata": {
    "deletable": true,
    "editable": true
   },
   "source": [
    "<div class=\"alert alert-success\">\n",
    "Using our method to find links between artists and POIs we have get a lot of of links,but the majority of them is probably not very interesting.\n",
    "The purpose of this Notebook is to discover which are the best links.\n",
    "</div>"
   ]
  },
  {
   "cell_type": "markdown",
   "metadata": {
    "deletable": true,
    "editable": true
   },
   "source": [
    "<div class=\"alert alert-success\">\n",
    "Below we'll save in a pandas dataframe all paths. The dataframe is formed by columns; every columns rapresents a resource(<strong>?o1 ?o2</strong>) or a property(<strong>?p1 ?p2 ?p3</strong>) of the path. They are numerated and  the max depth is 6. The central resource that links POI and enetity is rapresented by the column <strong>?o</strong>.\n",
    "</div>"
   ]
  },
  {
   "cell_type": "code",
   "execution_count": 70,
   "metadata": {
    "collapsed": false,
    "deletable": true,
    "editable": true
   },
   "outputs": [],
   "source": [
    "from os import listdir\n",
    "from os.path import isfile, join\n",
    "links_paths = [links_folder+f for f in listdir(links_folder) if isfile(join(links_folder, f)) and not 'DS_Store' in f]"
   ]
  },
  {
   "cell_type": "code",
   "execution_count": 57,
   "metadata": {
    "collapsed": false,
    "deletable": true,
    "editable": true
   },
   "outputs": [
    {
     "name": "stdout",
     "output_type": "stream",
     "text": [
      "Total number of paths:  1148286\n"
     ]
    },
    {
     "data": {
      "text/html": [
       "<div>\n",
       "<style>\n",
       "    .dataframe thead tr:only-child th {\n",
       "        text-align: right;\n",
       "    }\n",
       "\n",
       "    .dataframe thead th {\n",
       "        text-align: left;\n",
       "    }\n",
       "\n",
       "    .dataframe tbody tr th {\n",
       "        vertical-align: top;\n",
       "    }\n",
       "</style>\n",
       "<table border=\"1\" class=\"dataframe\">\n",
       "  <thead>\n",
       "    <tr style=\"text-align: right;\">\n",
       "      <th></th>\n",
       "      <th>entity</th>\n",
       "      <th>p1</th>\n",
       "      <th>o1</th>\n",
       "      <th>p2</th>\n",
       "      <th>o2</th>\n",
       "      <th>p3</th>\n",
       "      <th>o</th>\n",
       "      <th>p3_</th>\n",
       "      <th>o2_</th>\n",
       "      <th>p2_</th>\n",
       "      <th>o1_</th>\n",
       "      <th>p1_</th>\n",
       "      <th>poi</th>\n",
       "    </tr>\n",
       "  </thead>\n",
       "  <tbody>\n",
       "    <tr>\n",
       "      <th>0</th>\n",
       "      <td>http://dbpedia.org/resource/Franz_Xaver_Wolfgang_Mozart</td>\n",
       "      <td>http://purl.org/dc/terms/subject</td>\n",
       "      <td>http://dbpedia.org/resource/Category:Mozart_family</td>\n",
       "      <td>http://www.w3.org/2004/02/skos/core#broader</td>\n",
       "      <td>NaN</td>\n",
       "      <td>NaN</td>\n",
       "      <td>http://dbpedia.org/resource/Category:Wikipedia_categories_named_after_Roman_Catholic_families</td>\n",
       "      <td>NaN</td>\n",
       "      <td>NaN</td>\n",
       "      <td>http://www.w3.org/2004/02/skos/core#broader</td>\n",
       "      <td>http://dbpedia.org/resource/Category:House_of_Grimaldi</td>\n",
       "      <td>http://purl.org/dc/terms/subject</td>\n",
       "      <td>http://dbpedia.org/resource/Château_Grimaldi_(Cagnes)</td>\n",
       "    </tr>\n",
       "    <tr>\n",
       "      <th>1</th>\n",
       "      <td>http://dbpedia.org/resource/Erwin_Schulhoff</td>\n",
       "      <td>http://dbpedia.org/ontology/nationality</td>\n",
       "      <td>http://dbpedia.org/resource/Austria-Hungary</td>\n",
       "      <td>http://purl.org/dc/terms/subject</td>\n",
       "      <td>http://dbpedia.org/resource/Category:House_of_Habsburg-Lorraine</td>\n",
       "      <td>http://www.w3.org/2004/02/skos/core#broader</td>\n",
       "      <td>http://dbpedia.org/resource/Category:Wikipedia_categories_named_after_Roman_Catholic_families</td>\n",
       "      <td>NaN</td>\n",
       "      <td>NaN</td>\n",
       "      <td>http://www.w3.org/2004/02/skos/core#broader</td>\n",
       "      <td>http://dbpedia.org/resource/Category:House_of_Grimaldi</td>\n",
       "      <td>http://purl.org/dc/terms/subject</td>\n",
       "      <td>http://dbpedia.org/resource/Château_Grimaldi_(Cagnes)</td>\n",
       "    </tr>\n",
       "    <tr>\n",
       "      <th>2</th>\n",
       "      <td>http://dbpedia.org/resource/Erwin_Schulhoff</td>\n",
       "      <td>http://dbpedia.org/ontology/stateOfOrigin</td>\n",
       "      <td>http://dbpedia.org/resource/Austria-Hungary</td>\n",
       "      <td>http://purl.org/dc/terms/subject</td>\n",
       "      <td>http://dbpedia.org/resource/Category:House_of_Habsburg-Lorraine</td>\n",
       "      <td>http://www.w3.org/2004/02/skos/core#broader</td>\n",
       "      <td>http://dbpedia.org/resource/Category:Wikipedia_categories_named_after_Roman_Catholic_families</td>\n",
       "      <td>NaN</td>\n",
       "      <td>NaN</td>\n",
       "      <td>http://www.w3.org/2004/02/skos/core#broader</td>\n",
       "      <td>http://dbpedia.org/resource/Category:House_of_Grimaldi</td>\n",
       "      <td>http://purl.org/dc/terms/subject</td>\n",
       "      <td>http://dbpedia.org/resource/Château_Grimaldi_(Cagnes)</td>\n",
       "    </tr>\n",
       "    <tr>\n",
       "      <th>3</th>\n",
       "      <td>http://dbpedia.org/resource/Erwin_Schulhoff</td>\n",
       "      <td>http://dbpedia.org/ontology/birthPlace</td>\n",
       "      <td>http://dbpedia.org/resource/Austria-Hungary</td>\n",
       "      <td>http://purl.org/dc/terms/subject</td>\n",
       "      <td>http://dbpedia.org/resource/Category:House_of_Habsburg-Lorraine</td>\n",
       "      <td>http://www.w3.org/2004/02/skos/core#broader</td>\n",
       "      <td>http://dbpedia.org/resource/Category:Wikipedia_categories_named_after_Roman_Catholic_families</td>\n",
       "      <td>NaN</td>\n",
       "      <td>NaN</td>\n",
       "      <td>http://www.w3.org/2004/02/skos/core#broader</td>\n",
       "      <td>http://dbpedia.org/resource/Category:House_of_Grimaldi</td>\n",
       "      <td>http://purl.org/dc/terms/subject</td>\n",
       "      <td>http://dbpedia.org/resource/Château_Grimaldi_(Cagnes)</td>\n",
       "    </tr>\n",
       "    <tr>\n",
       "      <th>4</th>\n",
       "      <td>http://dbpedia.org/resource/Erwin_Schulhoff</td>\n",
       "      <td>http://dbpedia.org/property/birthPlace</td>\n",
       "      <td>http://dbpedia.org/resource/Austria-Hungary</td>\n",
       "      <td>http://purl.org/dc/terms/subject</td>\n",
       "      <td>http://dbpedia.org/resource/Category:House_of_Habsburg-Lorraine</td>\n",
       "      <td>http://www.w3.org/2004/02/skos/core#broader</td>\n",
       "      <td>http://dbpedia.org/resource/Category:Wikipedia_categories_named_after_Roman_Catholic_families</td>\n",
       "      <td>NaN</td>\n",
       "      <td>NaN</td>\n",
       "      <td>http://www.w3.org/2004/02/skos/core#broader</td>\n",
       "      <td>http://dbpedia.org/resource/Category:House_of_Grimaldi</td>\n",
       "      <td>http://purl.org/dc/terms/subject</td>\n",
       "      <td>http://dbpedia.org/resource/Château_Grimaldi_(Cagnes)</td>\n",
       "    </tr>\n",
       "  </tbody>\n",
       "</table>\n",
       "</div>"
      ],
      "text/plain": [
       "                                                    entity  \\\n",
       "0  http://dbpedia.org/resource/Franz_Xaver_Wolfgang_Mozart   \n",
       "1  http://dbpedia.org/resource/Erwin_Schulhoff               \n",
       "2  http://dbpedia.org/resource/Erwin_Schulhoff               \n",
       "3  http://dbpedia.org/resource/Erwin_Schulhoff               \n",
       "4  http://dbpedia.org/resource/Erwin_Schulhoff               \n",
       "\n",
       "                                          p1  \\\n",
       "0  http://purl.org/dc/terms/subject            \n",
       "1  http://dbpedia.org/ontology/nationality     \n",
       "2  http://dbpedia.org/ontology/stateOfOrigin   \n",
       "3  http://dbpedia.org/ontology/birthPlace      \n",
       "4  http://dbpedia.org/property/birthPlace      \n",
       "\n",
       "                                                   o1  \\\n",
       "0  http://dbpedia.org/resource/Category:Mozart_family   \n",
       "1  http://dbpedia.org/resource/Austria-Hungary          \n",
       "2  http://dbpedia.org/resource/Austria-Hungary          \n",
       "3  http://dbpedia.org/resource/Austria-Hungary          \n",
       "4  http://dbpedia.org/resource/Austria-Hungary          \n",
       "\n",
       "                                            p2  \\\n",
       "0  http://www.w3.org/2004/02/skos/core#broader   \n",
       "1  http://purl.org/dc/terms/subject              \n",
       "2  http://purl.org/dc/terms/subject              \n",
       "3  http://purl.org/dc/terms/subject              \n",
       "4  http://purl.org/dc/terms/subject              \n",
       "\n",
       "                                                                o2  \\\n",
       "0  NaN                                                               \n",
       "1  http://dbpedia.org/resource/Category:House_of_Habsburg-Lorraine   \n",
       "2  http://dbpedia.org/resource/Category:House_of_Habsburg-Lorraine   \n",
       "3  http://dbpedia.org/resource/Category:House_of_Habsburg-Lorraine   \n",
       "4  http://dbpedia.org/resource/Category:House_of_Habsburg-Lorraine   \n",
       "\n",
       "                                            p3  \\\n",
       "0  NaN                                           \n",
       "1  http://www.w3.org/2004/02/skos/core#broader   \n",
       "2  http://www.w3.org/2004/02/skos/core#broader   \n",
       "3  http://www.w3.org/2004/02/skos/core#broader   \n",
       "4  http://www.w3.org/2004/02/skos/core#broader   \n",
       "\n",
       "                                                                                               o  \\\n",
       "0  http://dbpedia.org/resource/Category:Wikipedia_categories_named_after_Roman_Catholic_families   \n",
       "1  http://dbpedia.org/resource/Category:Wikipedia_categories_named_after_Roman_Catholic_families   \n",
       "2  http://dbpedia.org/resource/Category:Wikipedia_categories_named_after_Roman_Catholic_families   \n",
       "3  http://dbpedia.org/resource/Category:Wikipedia_categories_named_after_Roman_Catholic_families   \n",
       "4  http://dbpedia.org/resource/Category:Wikipedia_categories_named_after_Roman_Catholic_families   \n",
       "\n",
       "   p3_  o2_                                          p2_  \\\n",
       "0  NaN  NaN  http://www.w3.org/2004/02/skos/core#broader   \n",
       "1  NaN  NaN  http://www.w3.org/2004/02/skos/core#broader   \n",
       "2  NaN  NaN  http://www.w3.org/2004/02/skos/core#broader   \n",
       "3  NaN  NaN  http://www.w3.org/2004/02/skos/core#broader   \n",
       "4  NaN  NaN  http://www.w3.org/2004/02/skos/core#broader   \n",
       "\n",
       "                                                      o1_  \\\n",
       "0  http://dbpedia.org/resource/Category:House_of_Grimaldi   \n",
       "1  http://dbpedia.org/resource/Category:House_of_Grimaldi   \n",
       "2  http://dbpedia.org/resource/Category:House_of_Grimaldi   \n",
       "3  http://dbpedia.org/resource/Category:House_of_Grimaldi   \n",
       "4  http://dbpedia.org/resource/Category:House_of_Grimaldi   \n",
       "\n",
       "                                p1_  \\\n",
       "0  http://purl.org/dc/terms/subject   \n",
       "1  http://purl.org/dc/terms/subject   \n",
       "2  http://purl.org/dc/terms/subject   \n",
       "3  http://purl.org/dc/terms/subject   \n",
       "4  http://purl.org/dc/terms/subject   \n",
       "\n",
       "                                                     poi  \n",
       "0  http://dbpedia.org/resource/Château_Grimaldi_(Cagnes)  \n",
       "1  http://dbpedia.org/resource/Château_Grimaldi_(Cagnes)  \n",
       "2  http://dbpedia.org/resource/Château_Grimaldi_(Cagnes)  \n",
       "3  http://dbpedia.org/resource/Château_Grimaldi_(Cagnes)  \n",
       "4  http://dbpedia.org/resource/Château_Grimaldi_(Cagnes)  "
      ]
     },
     "execution_count": 57,
     "metadata": {},
     "output_type": "execute_result"
    }
   ],
   "source": [
    "input_path = 'artists_pois_paths.csv'\n",
    "df_paths = pd.read_csv(input_path)\n",
    "print(\"Total number of paths: \",len(df_paths))\n",
    "df_paths.head()"
   ]
  },
  {
   "cell_type": "markdown",
   "metadata": {
    "deletable": true,
    "editable": true
   },
   "source": [
    "<div class=\"alert alert-success\">\n",
    "As you can see we have a lot of paths(1148286), but looking at the fist ones very general resources are presented in the path. <a>http://dbpedia.org/resource/Austria-Hungary</a> for example.\n",
    "</div>"
   ]
  },
  {
   "cell_type": "markdown",
   "metadata": {
    "deletable": true,
    "editable": true
   },
   "source": [
    "### 1 - FIRST FILTERING STEP: REMOVE DOUBLE INFORMATION"
   ]
  },
  {
   "cell_type": "markdown",
   "metadata": {
    "deletable": true,
    "editable": true
   },
   "source": [
    "<div class=\"alert alert-success\">\n",
    "In first filtering step we want to remove all paths in which a resource is presented two times. In fact it means that there is a shorter path between the POI and the artist, and it is already present in our table.\n",
    "Let's suppose to have these 2 paths (the letters rappresent the resources): \n",
    "<ul>\n",
    "  <li>A->B->C</li>\n",
    "  <li>A->B->E->B->C</li>\n",
    "</ul>\n",
    "We want to preserve only the first one.\n",
    "</div>"
   ]
  },
  {
   "cell_type": "code",
   "execution_count": 42,
   "metadata": {
    "collapsed": true,
    "deletable": true,
    "editable": true
   },
   "outputs": [],
   "source": [
    "def isDuplicate(x,arr_names):\n",
    "    g = []\n",
    "    for n in arr_names:\n",
    "        if x[n] in g and type(x[n]) != float:\n",
    "            return False\n",
    "        else:\n",
    "            g.append(x[n])\n",
    "    return True"
   ]
  },
  {
   "cell_type": "code",
   "execution_count": 43,
   "metadata": {
    "collapsed": true,
    "deletable": true,
    "editable": true
   },
   "outputs": [],
   "source": [
    "starting_paths = 0\n",
    "current_paths = 0\n",
    "trace = 0"
   ]
  },
  {
   "cell_type": "code",
   "execution_count": 46,
   "metadata": {
    "collapsed": false,
    "deletable": true,
    "editable": true
   },
   "outputs": [],
   "source": [
    "for filepath in links_paths[trace:]:\n",
    "    df_paths = pd.read_pickle(filepath)\n",
    "    starting_paths += len(df_paths)\n",
    "    df_paths_rm_duplicates = df_paths[df_paths.apply(lambda x: isDuplicate(x,df_paths.columns[2:-2:2]), axis=1)]\n",
    "    current_paths += len(df_paths_rm_duplicates)\n",
    "    df_paths_rm_duplicates.to_pickle(filepath)\n",
    "    trace += 1"
   ]
  },
  {
   "cell_type": "code",
   "execution_count": 235,
   "metadata": {
    "collapsed": false,
    "deletable": true,
    "editable": true
   },
   "outputs": [],
   "source": [
    "all_middle_resources_grouped = all_middle_resources_grouped.sort_values('count', ascending=False)"
   ]
  },
  {
   "cell_type": "code",
   "execution_count": 236,
   "metadata": {
    "collapsed": true,
    "deletable": true,
    "editable": true
   },
   "outputs": [],
   "source": [
    "all_middle_resources_grouped.to_pickle('all_middle_resources_grouped')"
   ]
  },
  {
   "cell_type": "code",
   "execution_count": 56,
   "metadata": {
    "collapsed": false,
    "deletable": true,
    "editable": true
   },
   "outputs": [
    {
     "name": "stdout",
     "output_type": "stream",
     "text": [
      "Total number of paths before removing duplicates: 41802195\n",
      "Total number of paths after removing duplicates: 23237774\n"
     ]
    }
   ],
   "source": [
    "print(\"Total number of paths before removing duplicates:\",starting_paths)\n",
    "print(\"Total number of paths after removing duplicates:\",current_paths)"
   ]
  },
  {
   "cell_type": "markdown",
   "metadata": {
    "deletable": true,
    "editable": true
   },
   "source": [
    "<div class=\"alert alert-success\">\n",
    "As you can see we have filtered out an half of paths.\n",
    "</div>"
   ]
  },
  {
   "cell_type": "markdown",
   "metadata": {
    "deletable": true,
    "editable": true
   },
   "source": [
    "### 2 - SECOND FILTERING STEP: REMOVE NOT INTERESTING RESOURCES AND CATEGORIES"
   ]
  },
  {
   "cell_type": "markdown",
   "metadata": {
    "deletable": true,
    "editable": true
   },
   "source": [
    "<div class=\"alert alert-success\">\n",
    "Now we want to remove the paths formed by resources that are not interesting because they are too generic. So we'll take the resources that appears too frequently in our paths and we'll delete the paths related to these.\n",
    "</div>"
   ]
  },
  {
   "cell_type": "code",
   "execution_count": 71,
   "metadata": {
    "collapsed": true,
    "deletable": true,
    "editable": true
   },
   "outputs": [],
   "source": [
    "#columns = df_paths.columns\n",
    "number_of_cols = len(columns)\n",
    "all_middle_resources_grouped = pd.DataFrame([],columns=['resource','count'])\n",
    "trace = 0"
   ]
  },
  {
   "cell_type": "code",
   "execution_count": 72,
   "metadata": {
    "collapsed": false,
    "deletable": true,
    "editable": true
   },
   "outputs": [],
   "source": [
    "for filepath in links_paths[trace:]:\n",
    "    df_paths = pd.read_pickle(filepath)\n",
    "    frames = [df_paths.groupby(col)[col].count().reset_index(name=\"count\").rename(columns={col:'resource','count':'count'}) for col in columns[2:-2:2]]\n",
    "    all_middle_resources = pd.concat([all_middle_resources_grouped,pd.concat(frames)])\n",
    "    all_middle_resources_grouped = (all_middle_resources\n",
    "                                        .groupby('resource')[\"count\"]\n",
    "                                        .sum().reset_index(name=\"count\")\n",
    "                                       )\n",
    "    trace += 1"
   ]
  },
  {
   "cell_type": "code",
   "execution_count": 73,
   "metadata": {
    "collapsed": false,
    "deletable": true,
    "editable": true
   },
   "outputs": [],
   "source": [
    "all_middle_resources_grouped = all_middle_resources_grouped.sort_values('count', ascending=False)"
   ]
  },
  {
   "cell_type": "code",
   "execution_count": 237,
   "metadata": {
    "collapsed": false,
    "deletable": true,
    "editable": true
   },
   "outputs": [],
   "source": [
    "bad_resources_1 = list(\n",
    "    all_middle_resources_grouped[all_middle_resources_grouped['count']>10000]\n",
    "    ['resource']\n",
    ")"
   ]
  },
  {
   "cell_type": "code",
   "execution_count": 91,
   "metadata": {
    "collapsed": true,
    "deletable": true,
    "editable": true
   },
   "outputs": [],
   "source": [
    "def isBad(x,arr_names,bad_resources):\n",
    "    for n in arr_names:\n",
    "        if x[n] in bad_resources:\n",
    "            return False\n",
    "    return True"
   ]
  },
  {
   "cell_type": "code",
   "execution_count": 96,
   "metadata": {
    "collapsed": true,
    "deletable": true,
    "editable": true
   },
   "outputs": [],
   "source": [
    "my_paths = pd.DataFrame([],columns=columns)\n",
    "trace = 0"
   ]
  },
  {
   "cell_type": "code",
   "execution_count": null,
   "metadata": {
    "collapsed": true,
    "deletable": true,
    "editable": true
   },
   "outputs": [],
   "source": [
    "for filepath in links_paths[trace:]:\n",
    "    if trace % 100 == 0:\n",
    "        print(trace)\n",
    "    df_paths = pd.read_pickle(filepath)\n",
    "    df_paths_rm_outliers= df_paths[df_paths.apply(lambda x: isBad(x,columns[2:-2:2],bad_resources_1), axis=1)].drop_duplicates()\n",
    "    my_paths = pd.concat([my_paths,df_paths_rm_outliers])\n",
    "    trace += 1"
   ]
  },
  {
   "cell_type": "markdown",
   "metadata": {
    "deletable": true,
    "editable": true
   },
   "source": [
    "<div class=\"alert alert-success\">\n",
    "As you can see looking at the table above there are resources that are resources that are present in over 40000 links. They are for sure ourliers, and we want to delete the associated links because, as you can see, they are too generic resorurces.\n",
    "To understand which the distribution of our resources we'll show a plot.\n",
    "</div>"
   ]
  },
  {
   "cell_type": "code",
   "execution_count": 74,
   "metadata": {
    "collapsed": true,
    "deletable": true,
    "editable": true
   },
   "outputs": [],
   "source": [
    "all_middle_resources_grouped_1=(all_middle_resources_grouped\n",
    "                                [all_middle_resources_grouped['count']<=10000]\n",
    "                               )"
   ]
  },
  {
   "cell_type": "code",
   "execution_count": 239,
   "metadata": {
    "collapsed": false,
    "deletable": true,
    "editable": true
   },
   "outputs": [
    {
     "data": {
      "image/png": "[encoded data removed]",
      "text/plain": [
       "<matplotlib.figure.Figure at 0x10fafbd68>"
      ]
     },
     "metadata": {},
     "output_type": "display_data"
    }
   ],
   "source": [
    "plt.figure(figsize=(20,10))\n",
    "sns.distplot(all_middle_resources_grouped_1['count'])\n",
    "sns.plt.show()"
   ]
  },
  {
   "cell_type": "markdown",
   "metadata": {
    "deletable": true,
    "editable": true
   },
   "source": [
    "<div class=\"alert alert-success\">\n",
    "The majority of our resources seems to be present around 1000-2000 times in our paths. Having some outliners, the zone around 1000-2000 is note really visible in the graph below; so we'll plot only this zone below.\n",
    "</div>"
   ]
  },
  {
   "cell_type": "code",
   "execution_count": 240,
   "metadata": {
    "collapsed": false,
    "deletable": true,
    "editable": true
   },
   "outputs": [
    {
     "data": {
      "image/png": "[encoded data removed]",
      "text/plain": [
       "<matplotlib.figure.Figure at 0x10ff91390>"
      ]
     },
     "metadata": {},
     "output_type": "display_data"
    }
   ],
   "source": [
    "plt.figure(figsize=(20,10))\n",
    "sns.distplot(all_middle_resources_grouped_1['count']).set(xlim=(0, 5000))\n",
    "sns.plt.show()"
   ]
  },
  {
   "cell_type": "code",
   "execution_count": 241,
   "metadata": {
    "collapsed": false,
    "deletable": true,
    "editable": true
   },
   "outputs": [
    {
     "data": {
      "image/png": "[encoded data removed]",
      "text/plain": [
       "<matplotlib.figure.Figure at 0x10fe8a2b0>"
      ]
     },
     "metadata": {},
     "output_type": "display_data"
    }
   ],
   "source": [
    "plt.figure(figsize=(20,10))\n",
    "sns.distplot(all_middle_resources_grouped_1['count']).set(xlim=(0, 2000))\n",
    "sns.plt.show()"
   ]
  },
  {
   "cell_type": "code",
   "execution_count": 242,
   "metadata": {
    "collapsed": false,
    "deletable": true,
    "editable": true
   },
   "outputs": [
    {
     "data": {
      "image/png": "[encoded data removed]",
      "text/plain": [
       "<matplotlib.figure.Figure at 0x10f6b8a90>"
      ]
     },
     "metadata": {},
     "output_type": "display_data"
    }
   ],
   "source": [
    "plt.figure(figsize=(20,10))\n",
    "sns.distplot(all_middle_resources_grouped_1['count']).set(xlim=(250, 500))\n",
    "sns.plt.show()"
   ]
  },
  {
   "cell_type": "markdown",
   "metadata": {
    "deletable": true,
    "editable": true
   },
   "source": [
    " <div class=\"alert alert-success\">\n",
    "Looking this plot we can note that the most of the resources is present around 1800 times in our paths. We started using this value as threshold to filter out all too generic resources that rapresent noise. Howerver this threshold was too high and some noise remained in our data, so we have set 500 as threshold.\n",
    "</div>"
   ]
  },
  {
   "cell_type": "code",
   "execution_count": 243,
   "metadata": {
    "collapsed": true,
    "deletable": true,
    "editable": true
   },
   "outputs": [],
   "source": [
    "bad_resources = list(all_middle_resources_grouped_1[all_middle_resources_grouped_1['count']>400]['resource'])"
   ]
  },
  {
   "cell_type": "code",
   "execution_count": 244,
   "metadata": {
    "collapsed": true,
    "deletable": true,
    "editable": true
   },
   "outputs": [],
   "source": [
    "def isBad(x,arr_names,bad_resources):\n",
    "    for n in arr_names:\n",
    "        if x[n] in bad_resources:\n",
    "            return False\n",
    "    return True"
   ]
  },
  {
   "cell_type": "code",
   "execution_count": 245,
   "metadata": {
    "collapsed": true,
    "deletable": true,
    "editable": true
   },
   "outputs": [],
   "source": [
    "trace = 0"
   ]
  },
  {
   "cell_type": "code",
   "execution_count": 246,
   "metadata": {
    "collapsed": true,
    "deletable": true,
    "editable": true
   },
   "outputs": [],
   "source": [
    "df_paths_rm_outliers= my_paths[my_paths.apply(lambda x: isBad(x,columns[2:-2:2],bad_resources), axis=1)].drop_duplicates()"
   ]
  },
  {
   "cell_type": "code",
   "execution_count": 247,
   "metadata": {
    "collapsed": false,
    "deletable": true,
    "editable": true
   },
   "outputs": [
    {
     "name": "stdout",
     "output_type": "stream",
     "text": [
      "Total number of paths:  1757\n"
     ]
    }
   ],
   "source": [
    "print(\"Total number of paths: \",len(df_paths_rm_outliers))"
   ]
  },
  {
   "cell_type": "markdown",
   "metadata": {
    "deletable": true,
    "editable": true
   },
   "source": [
    "<div class=\"alert alert-success\">\n",
    "As you can see, we have drastically reduced the total number of paths. \n",
    "</div>"
   ]
  },
  {
   "cell_type": "code",
   "execution_count": 75,
   "metadata": {
    "collapsed": true,
    "deletable": true,
    "editable": true
   },
   "outputs": [],
   "source": [
    "df_paths_rm_outliers.to_csv(\"artists_pois_paths_rm_outliers.csv\",index=False)"
   ]
  },
  {
   "cell_type": "code",
   "execution_count": 248,
   "metadata": {
    "collapsed": true,
    "deletable": true,
    "editable": true
   },
   "outputs": [],
   "source": [
    "df_paths_rm_outliers.to_pickle(\"df_paths_rm_outliers\")"
   ]
  },
  {
   "cell_type": "code",
   "execution_count": 112,
   "metadata": {
    "collapsed": true,
    "deletable": true,
    "editable": true
   },
   "outputs": [],
   "source": [
    "my_paths.to_pickle(\"my_paths\")"
   ]
  },
  {
   "cell_type": "markdown",
   "metadata": {
    "deletable": true,
    "editable": true
   },
   "source": [
    "### 3 - THIRD FILTERING STEP: PRESERVE ONLY SHORTEST PATHS"
   ]
  },
  {
   "cell_type": "markdown",
   "metadata": {
    "deletable": true,
    "editable": true
   },
   "source": [
    "<div class=\"alert alert-success\">\n",
    "Here we want to save only the shortest path between an artist and a POI. A shorter path doesn't mean certainly a better one. However the majority of our paths is really long (6 of depth), so this step is useful to delete all informations repeated.\n",
    "Let's suppose to have these 2 paths (the letters rappresent the resources): \n",
    "<ul>\n",
    "  <li>A->B->D->E->F</li>\n",
    "  <li>A->B->C->D->E->F</li>\n",
    "</ul>\n",
    "We want to preserve only the first one.\n",
    "</div>"
   ]
  },
  {
   "cell_type": "code",
   "execution_count": 3,
   "metadata": {
    "collapsed": true,
    "deletable": true,
    "editable": true
   },
   "outputs": [],
   "source": [
    "my_paths=pd.read_pickle(\"my_paths\").drop_duplicates()\n",
    "columns = my_paths.columns"
   ]
  },
  {
   "cell_type": "code",
   "execution_count": 57,
   "metadata": {
    "collapsed": false,
    "deletable": true,
    "editable": true
   },
   "outputs": [],
   "source": [
    "paths_np = my_paths.as_matrix()"
   ]
  },
  {
   "cell_type": "code",
   "execution_count": 58,
   "metadata": {
    "collapsed": false,
    "deletable": true,
    "editable": true
   },
   "outputs": [],
   "source": [
    "filtered_np_as_dict = {}\n",
    "for count,line in enumerate(paths_np):\n",
    "    entity = line[0]\n",
    "    poi = line[-1]\n",
    "    key=entity+poi\n",
    "    #print(count)\n",
    "    if not key in filtered_np_as_dict:\n",
    "        #print(1)\n",
    "        filtered_np_as_dict[key] = [line]\n",
    "    else:\n",
    "        #print(2)\n",
    "        oldlines=filtered_np_as_dict[key]\n",
    "        #print(oldlines)\n",
    "        for i,ol in enumerate(oldlines):\n",
    "            #print (ol)\n",
    "            len1 = len([value for value in ol if type(value)!=float])\n",
    "            len2 = len([value for value in line if type(value)!=float])\n",
    "            if len1 > len2:\n",
    "                #print('a')\n",
    "                filtered_np_as_dict[key][i] = line\n",
    "            elif len1 == len2:\n",
    "                #print('b')\n",
    "                filtered_np_as_dict[key] = oldlines +[line]"
   ]
  },
  {
   "cell_type": "code",
   "execution_count": 59,
   "metadata": {
    "collapsed": false,
    "deletable": true,
    "editable": true
   },
   "outputs": [],
   "source": [
    "values_filtered_np_as_dict=filtered_np_as_dict.values()\n",
    "paths_filtered = pd.DataFrame(np.array([j for i in values_filtered_np_as_dict for j in i]),columns=columns).drop_duplicates()"
   ]
  },
  {
   "cell_type": "code",
   "execution_count": 82,
   "metadata": {
    "collapsed": false,
    "deletable": true,
    "editable": true
   },
   "outputs": [
    {
     "data": {
      "text/plain": [
       "27931"
      ]
     },
     "execution_count": 82,
     "metadata": {},
     "output_type": "execute_result"
    }
   ],
   "source": [
    "len(paths_filtered)"
   ]
  },
  {
   "cell_type": "code",
   "execution_count": 83,
   "metadata": {
    "collapsed": true,
    "deletable": true,
    "editable": true
   },
   "outputs": [],
   "source": [
    "paths_filtered.to_pickle('paths_filtered')"
   ]
  },
  {
   "cell_type": "markdown",
   "metadata": {
    "deletable": true,
    "editable": true
   },
   "source": [
    "<div class=\"alert alert-success\">\n",
    "The table above shows a sample of paths that we obtained after 3 filtering steps. There are some bad paths; however some interesting paths start appearing as at line 16.\n",
    "</div>"
   ]
  },
  {
   "cell_type": "code",
   "execution_count": 62,
   "metadata": {
    "collapsed": false,
    "deletable": true,
    "editable": true
   },
   "outputs": [],
   "source": [
    "columns =paths_filtered.columns"
   ]
  },
  {
   "cell_type": "code",
   "execution_count": null,
   "metadata": {
    "collapsed": true,
    "deletable": true,
    "editable": true
   },
   "outputs": [],
   "source": [
    "paths_filtered['path_lenght']= paths_filtered.apply(lambda row: 1+len([row[col] for col in columns[2:-2:2] if type(row[col])!=float]),axis=1)\n",
    "paths_filtered = paths_filtered.sort_values('path_lenght', ascending=True).drop_duplicates()"
   ]
  },
  {
   "cell_type": "code",
   "execution_count": 64,
   "metadata": {
    "collapsed": true,
    "deletable": true,
    "editable": true
   },
   "outputs": [],
   "source": [
    "paths_filtered_np = paths_filtered.as_matrix()"
   ]
  },
  {
   "cell_type": "code",
   "execution_count": null,
   "metadata": {
    "collapsed": true,
    "deletable": true,
    "editable": true
   },
   "outputs": [],
   "source": [
    "paths_filtered_with_generality_np = []\n",
    "for i,path in enumerate(paths_filtered_np):\n",
    "    if i % 1000 == 0:\n",
    "        print (i)\n",
    "    total_count = 0\n",
    "    full_cells = 0\n",
    "    for o in path[2:-2:2]:\n",
    "        if type(o) != float:\n",
    "            total_count += int(all_middle_resources_grouped_1[all_middle_resources_grouped_1['resource']==o]['count'])\n",
    "            full_cells += 1\n",
    "    new_path = np.append(path, total_count/full_cells)\n",
    "    paths_filtered_with_generality_np.append(new_path)"
   ]
  },
  {
   "cell_type": "code",
   "execution_count": null,
   "metadata": {
    "collapsed": true,
    "deletable": true,
    "editable": true
   },
   "outputs": [],
   "source": [
    "from math import log\n",
    "def getScore(dist,generality,min_generality,max_generality,max_dist,a=0.3,b=0.7):\n",
    "    normalized_generality = (generality -min_generality)/(max_generality-min_generality)\n",
    "    return 1- a*(log(dist + 2)/log(2*(max_dist-1))) - b*normalized_generality\n",
    "\n",
    "paths_filtered_with_score_np = []\n",
    "min_generality = np.min(np.transpose(np.array(paths_filtered_with_generality_np))[-1])\n",
    "max_generality = np.max(np.transpose(np.array(paths_filtered_with_generality_np))[-1])\n",
    "max_dist = np.max(np.transpose(np.array(paths_filtered_with_generality_np))[-2])\n",
    "for i,path in enumerate(paths_filtered_with_generality_np):\n",
    "    if i % 1000 == 0:\n",
    "        print (i)\n",
    "    total_count = 0\n",
    "    full_cells = 0\n",
    "    generality = path[-1]\n",
    "    dist = path[-2]\n",
    "    score = getScore(dist,generality,min_generality,max_generality,max_dist,a=0.3,b=0.7)\n",
    "    new_path = np.append(path[:-2], score)\n",
    "    paths_filtered_with_score_np.append(new_path)\n",
    "    #print(paths_filtered_with_score_np)\n"
   ]
  },
  {
   "cell_type": "code",
   "execution_count": 77,
   "metadata": {
    "collapsed": true,
    "deletable": true,
    "editable": true
   },
   "outputs": [],
   "source": [
    "paths_filtered_with_score_np_t = list(np.transpose(np.array(paths_filtered_with_score_np)))\n",
    "scores = paths_filtered_with_score_np_t[-1]\n",
    "normalized_scores = (scores - np.mean(scores))/np.std(scores)\n",
    "paths_filtered_with_score_np_final = np.transpose(np.array(paths_filtered_with_score_np_t+[normalized_scores]))"
   ]
  },
  {
   "cell_type": "code",
   "execution_count": null,
   "metadata": {
    "collapsed": true,
    "deletable": true,
    "editable": true
   },
   "outputs": [],
   "source": [
    "new_cols = ['entity', 'p1', 'o1', 'p2', 'o2', 'p3', 'o', 'p3_', 'o2_', 'p2_', 'o1_','p1_', 'poi','score','gaussian_score']\n",
    "paths_filtered_with_score = pd.DataFrame(paths_filtered_with_score_np_final,columns=new_cols).sort_values('score', ascending=False).drop_duplicates()\n"
   ]
  },
  {
   "cell_type": "code",
   "execution_count": 79,
   "metadata": {
    "collapsed": false,
    "deletable": true,
    "editable": true
   },
   "outputs": [
    {
     "data": {
      "image/png": "[encoded data removed]",
      "text/plain": [
       "<matplotlib.figure.Figure at 0x10c7285f8>"
      ]
     },
     "metadata": {},
     "output_type": "display_data"
    }
   ],
   "source": [
    "sns.distplot(paths_filtered_with_score['score'])\n",
    "plt.show()"
   ]
  },
  {
   "cell_type": "code",
   "execution_count": 80,
   "metadata": {
    "collapsed": false,
    "deletable": true,
    "editable": true
   },
   "outputs": [
    {
     "data": {
      "image/png": "[encoded data removed]",
      "text/plain": [
       "<matplotlib.figure.Figure at 0x10c728f28>"
      ]
     },
     "metadata": {},
     "output_type": "display_data"
    }
   ],
   "source": [
    "sns.distplot(paths_filtered_with_score['gaussian_score'])\n",
    "plt.show()"
   ]
  },
  {
   "cell_type": "code",
   "execution_count": 81,
   "metadata": {
    "collapsed": true,
    "deletable": true,
    "editable": true
   },
   "outputs": [],
   "source": [
    "paths_filtered_with_score.to_pickle('paths_filtered_with_score')"
   ]
  },
  {
   "cell_type": "code",
   "execution_count": 97,
   "metadata": {
    "collapsed": false
   },
   "outputs": [],
   "source": [
    "final_pois = list(pd.read_csv(input_directory+'dbpedia_match_nogeo_distinct.csv')['dbpedia_uri'].drop_duplicates())"
   ]
  },
  {
   "cell_type": "code",
   "execution_count": 84,
   "metadata": {
    "collapsed": true,
    "deletable": true,
    "editable": true
   },
   "outputs": [],
   "source": [
    "input_directory = \"input_files/\"\n",
    "import json\n",
    "with open(input_directory+'artists_tracks_start.json','r') as f:\n",
    "    df_artist_spotify  = json.load(f).keys()\n",
    "pickle.dump(list(df_artist_spotify), open( \"df_artist_spotify\", \"wb\" ) )\n",
    "with open(\"df_artist_spotify\",'rb') as f:\n",
    "    df_artist_spotify = pickle.load(f)\n",
    "    \n"
   ]
  },
  {
   "cell_type": "code",
   "execution_count": 103,
   "metadata": {
    "collapsed": true
   },
   "outputs": [],
   "source": [
    "paths_sportify = paths_filtered_with_score[paths_filtered_with_score['entity'].isin(df_artist_spotify)]"
   ]
  },
  {
   "cell_type": "code",
   "execution_count": 107,
   "metadata": {
    "collapsed": false
   },
   "outputs": [],
   "source": [
    "paths_final = paths_sportify[paths_sportify['poi'].isin(final_pois)]"
   ]
  },
  {
   "cell_type": "code",
   "execution_count": 116,
   "metadata": {
    "collapsed": true
   },
   "outputs": [],
   "source": [
    "paths_final.columns = ['artist']+[c for c in paths_final.columns[1:]]"
   ]
  },
  {
   "cell_type": "code",
   "execution_count": 119,
   "metadata": {
    "collapsed": true
   },
   "outputs": [],
   "source": [
    "paths_final.to_csv('myPaths.csv',index=False)"
   ]
  },
  {
   "cell_type": "code",
   "execution_count": null,
   "metadata": {
    "collapsed": true
   },
   "outputs": [],
   "source": []
  }
 ],
 "metadata": {
  "kernelspec": {
   "display_name": "Python 3",
   "language": "python",
   "name": "python3"
  },
  "language_info": {
   "codemirror_mode": {
    "name": "ipython",
    "version": 3
   },
   "file_extension": ".py",
   "mimetype": "text/x-python",
   "name": "python",
   "nbconvert_exporter": "python",
   "pygments_lexer": "ipython3",
   "version": "3.5.2"
  }
 },
 "nbformat": 4,
 "nbformat_minor": 2
}
