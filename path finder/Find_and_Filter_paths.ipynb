{
 "cells": [
  {
   "cell_type": "code",
   "execution_count": null,
   "metadata": {
    "collapsed": true,
    "deletable": true,
    "editable": true
   },
   "outputs": [],
   "source": [
    "#THE NOTEBOOK IS INCOMPLETE....only the code is finsihed, but we have to finish the comments"
   ]
  },
  {
   "cell_type": "code",
   "execution_count": 1,
   "metadata": {
    "collapsed": true,
    "deletable": true,
    "editable": true
   },
   "outputs": [],
   "source": [
    "import pandas as pd\n",
    "import csv\n",
    "import numpy as np\n",
    "from os import listdir\n",
    "from os.path import isfile, join\n",
    "import re\n",
    "import seaborn as sns\n",
    "import matplotlib.pyplot as plt\n",
    "import urllib.request, urllib.error, urllib.parse\n",
    "pd.set_option('display.max_colwidth', -1)"
   ]
  },
  {
   "cell_type": "code",
   "execution_count": 3,
   "metadata": {
    "collapsed": false,
    "deletable": true,
    "editable": true
   },
   "outputs": [],
   "source": [
    "input_directory = \"input_files/\"\n",
    "poi_filepath = input_directory + '3cixty_dbpedia_match.csv'\n",
    "df_pois = pd.read_csv(poi_filepath)\n",
    "POIs_list = list(df_pois[df_pois.columns[0]].drop_duplicates())\n",
    "\n",
    "artists_filepath1 = input_directory + '5_0_doremus_dbpedia_artists.csv'\n",
    "artists_filepath2 = input_directory + 'series_artist.csv'\n",
    "df_artists = pd.read_csv(artists_filepath1)\n",
    "artists_list = list(df_artists[df_artists.columns[1]].drop_duplicates())+list(pd.read_csv(artists_filepath2)['dbpedia'])"
   ]
  },
  {
   "cell_type": "code",
   "execution_count": 14,
   "metadata": {
    "collapsed": true,
    "deletable": true,
    "editable": true
   },
   "outputs": [],
   "source": [
    "def getQueryResponse(query,endpointURL='http://dbpedia.org/sparql'):\n",
    "    escapedQuery = urllib.parse.quote(query)\n",
    "    requestURL = endpointURL + \"?query=\" + escapedQuery +\"&format=CSV\"\n",
    "    try:\n",
    "        request = urllib.request.Request(requestURL)\n",
    "        result = urllib.request.urlopen(request)\n",
    "        return result\n",
    "    except:\n",
    "        raise Exception"
   ]
  },
  {
   "cell_type": "markdown",
   "metadata": {
    "deletable": true,
    "editable": true
   },
   "source": [
    "# PATHS DISCOVERING"
   ]
  },
  {
   "cell_type": "markdown",
   "metadata": {
    "deletable": true,
    "editable": true
   },
   "source": [
    "<div class=\"alert alert-success\">\n",
    "The purpose of this Notebook is to find the paths bewteen artists and POIs. The considered POIs are the ones that we have matched between Dbpedia and 3cixty and the considered artists are the ones matched between Dbpedia and Doremus. \n",
    "The method that we'll use to find paths can be better understood looking at the graph below. \n",
    "<img src=\"path_discovering.jpg\" height=\"465\">\n",
    "\n",
    "</div>"
   ]
  },
  {
   "cell_type": "code",
   "execution_count": 15,
   "metadata": {
    "collapsed": true,
    "deletable": true,
    "editable": true
   },
   "outputs": [],
   "source": [
    "basic_query_artists = '''\n",
    "select distinct ?artist ?p1 ?o1 ?p2 ?o2 ?p3 ?o\n",
    "where{\n",
    "values ?artist { <STR_TO_SUB> }\n",
    "{?s ?p1 ?o}\n",
    "UNION\n",
    "{\n",
    "?artist ?p1 ?o1.\n",
    "?o1 ?p2 ?o.\n",
    "}\n",
    "UNION\n",
    "{\n",
    "?artist ?p1 ?o1.\n",
    "?o1 ?p2 ?o2.\n",
    "?o2 ?p3 ?o.\n",
    "}\n",
    "\n",
    "filter (?o1 != <http://dbpedia.org/resource/France>)\n",
    "filter (?o1 != <http://dbpedia.org/resource/Nice>)\n",
    "filter (?o1 != <http://dbpedia.org/resource/Category:Nice>)\n",
    "filter (?p1 != <http://dbpedia.org/ontology/type>)\n",
    "filter (?p1 != <http://dbpedia.org/property/type>)\n",
    "\n",
    "\n",
    "filter (?o2 != <http://dbpedia.org/resource/France>)\n",
    "filter (?o2 != <http://dbpedia.org/resource/Nice>)\n",
    "filter (?o2 != <http://dbpedia.org/resource/Category:Nice>)\n",
    "filter (?p2 != <http://dbpedia.org/ontology/type>)\n",
    "filter (?p2 != <http://dbpedia.org/property/type>)\n",
    "\n",
    "filter (?o != <http://dbpedia.org/resource/France>)\n",
    "filter (?o != <http://dbpedia.org/resource/Nice>)\n",
    "filter (?o != <http://dbpedia.org/resource/Category:Nice>)\n",
    "filter (?p3 != <http://dbpedia.org/ontology/type>)\n",
    "filter (?p3 != <http://dbpedia.org/property/type>)\n",
    "\n",
    "\n",
    "FILTER(!isLiteral(?o))\n",
    "FILTER contains(str(?o),\"http://dbpedia.org/resource\")\n",
    "}\n",
    "'''"
   ]
  },
  {
   "cell_type": "code",
   "execution_count": 16,
   "metadata": {
    "collapsed": true,
    "deletable": true,
    "editable": true
   },
   "outputs": [],
   "source": [
    "basic_query_pois = '''\n",
    "select distinct ?o ?p3_ ?o2_ ?p2_ ?o1_ ?p1_ ?poi\n",
    "where{\n",
    "values ?poi { <STR_TO_SUB> }\n",
    "{?poi ?p1_ ?o}\n",
    "UNION\n",
    "{\n",
    "?poi ?p1_ ?o1_.\n",
    "?o1_ ?p2_ ?o.\n",
    "}\n",
    "UNION\n",
    "{\n",
    "?poi ?p1_ ?o1_.\n",
    "?o1_ ?p2_ ?o2_.\n",
    "?o2_ ?p3_ ?o.\n",
    "}\n",
    "\n",
    "filter (?o1_ != <http://dbpedia.org/resource/France>)\n",
    "filter (?o1_ != <http://dbpedia.org/resource/Nice>)\n",
    "filter (?o1_ != <http://dbpedia.org/resource/Category:Nice>)\n",
    "filter (?p1_ != <http://dbpedia.org/ontology/type>)\n",
    "filter (?p1_ != <http://dbpedia.org/property/type>)\n",
    "\n",
    "\n",
    "filter (?o2_ != <http://dbpedia.org/resource/France>)\n",
    "filter (?o2_ != <http://dbpedia.org/resource/Nice>)\n",
    "filter (?o2_ != <http://dbpedia.org/resource/Category:Nice>)\n",
    "filter (?p2_ != <http://dbpedia.org/ontology/type>)\n",
    "filter (?p2_ != <http://dbpedia.org/property/type>)\n",
    "\n",
    "filter (?o != <http://dbpedia.org/resource/France>)\n",
    "filter (?o != <http://dbpedia.org/resource/Nice>)\n",
    "filter (?o != <http://dbpedia.org/resource/Category:Nice>)\n",
    "filter (?p3_ != <http://dbpedia.org/ontology/type>)\n",
    "filter (?p3_ != <http://dbpedia.org/property/type>)\n",
    "\n",
    "\n",
    "FILTER(!isLiteral(?o))\n",
    "FILTER contains(str(?o),\"http://dbpedia.org/resource\")\n",
    "}\n",
    "'''"
   ]
  },
  {
   "cell_type": "code",
   "execution_count": 17,
   "metadata": {
    "collapsed": true,
    "deletable": true,
    "editable": true
   },
   "outputs": [],
   "source": [
    "all_pois_links = pd.DataFrame([],columns=['o','p3_','o2_','p2_','o1_','p1_','poi'])"
   ]
  },
  {
   "cell_type": "code",
   "execution_count": 18,
   "metadata": {
    "collapsed": true,
    "deletable": true,
    "editable": true
   },
   "outputs": [],
   "source": [
    "start_index = 0"
   ]
  },
  {
   "cell_type": "code",
   "execution_count": 19,
   "metadata": {
    "collapsed": false,
    "deletable": true,
    "editable": true
   },
   "outputs": [],
   "source": [
    "for i,poi in enumerate(POIs_list[start_index:]):\n",
    "    query = basic_query_pois.replace('STR_TO_SUB',poi)\n",
    "    result = pd.read_csv(getQueryResponse(query))\n",
    "    all_pois_links = all_pois_links.append(result, ignore_index=True)\n",
    "    start_index = i\n",
    "    "
   ]
  },
  {
   "cell_type": "code",
   "execution_count": 20,
   "metadata": {
    "collapsed": true,
    "deletable": true,
    "editable": true
   },
   "outputs": [],
   "source": [
    "import pickle\n",
    "all_pois_links.to_pickle('all_pois_links')"
   ]
  },
  {
   "cell_type": "code",
   "execution_count": 24,
   "metadata": {
    "collapsed": true,
    "deletable": true,
    "editable": true
   },
   "outputs": [],
   "source": [
    "start_index = 0\n",
    "trace = 0"
   ]
  },
  {
   "cell_type": "code",
   "execution_count": 69,
   "metadata": {
    "collapsed": true,
    "deletable": true,
    "editable": true
   },
   "outputs": [],
   "source": [
    "links_folder = \"links/\""
   ]
  },
  {
   "cell_type": "code",
   "execution_count": 37,
   "metadata": {
    "collapsed": false,
    "deletable": true,
    "editable": true
   },
   "outputs": [
    {
     "name": "stdout",
     "output_type": "stream",
     "text": [
      "200\n",
      "700\n",
      "1200\n"
     ]
    }
   ],
   "source": [
    "l = artists_list[trace:]\n",
    "for i,artist in enumerate(l):\n",
    "    if (trace) % 500 == 0:\n",
    "        print(i)\n",
    "    query = basic_query_artists.replace('STR_TO_SUB',artist)\n",
    "    result = pd.read_csv(getQueryResponse(query))\n",
    "    df_artist_pois = pd.merge(result, all_pois_links, on='o', how='inner').drop_duplicates()\n",
    "    if len(df_artist_pois)>0:\n",
    "        df_artist_pois.to_pickle(links_folder+str(trace))\n",
    "    trace += 1"
   ]
  },
  {
   "cell_type": "code",
   "execution_count": 69,
   "metadata": {
    "collapsed": false,
    "deletable": true,
    "editable": true
   },
   "outputs": [
    {
     "data": {
      "text/plain": [
       "41690527"
      ]
     },
     "execution_count": 69,
     "metadata": {},
     "output_type": "execute_result"
    }
   ],
   "source": [
    "len(df_paths)"
   ]
  },
  {
   "cell_type": "code",
   "execution_count": 70,
   "metadata": {
    "collapsed": false,
    "deletable": true,
    "editable": true
   },
   "outputs": [
    {
     "data": {
      "text/html": [
       "<div>\n",
       "<style>\n",
       "    .dataframe thead tr:only-child th {\n",
       "        text-align: right;\n",
       "    }\n",
       "\n",
       "    .dataframe thead th {\n",
       "        text-align: left;\n",
       "    }\n",
       "\n",
       "    .dataframe tbody tr th {\n",
       "        vertical-align: top;\n",
       "    }\n",
       "</style>\n",
       "<table border=\"1\" class=\"dataframe\">\n",
       "  <thead>\n",
       "    <tr style=\"text-align: right;\">\n",
       "      <th></th>\n",
       "      <th>artist</th>\n",
       "      <th>p1</th>\n",
       "      <th>o1</th>\n",
       "      <th>p2</th>\n",
       "      <th>o2</th>\n",
       "      <th>p3</th>\n",
       "      <th>o</th>\n",
       "      <th>p3_</th>\n",
       "      <th>o2_</th>\n",
       "      <th>p2_</th>\n",
       "      <th>o1_</th>\n",
       "      <th>p1_</th>\n",
       "      <th>poi</th>\n",
       "    </tr>\n",
       "  </thead>\n",
       "  <tbody>\n",
       "    <tr>\n",
       "      <th>0</th>\n",
       "      <td>http://dbpedia.org/resource/Jean_Nouguès</td>\n",
       "      <td>http://purl.org/dc/terms/subject</td>\n",
       "      <td>http://dbpedia.org/resource/Category:People_from_Bordeaux</td>\n",
       "      <td>http://www.w3.org/2004/02/skos/core#broader</td>\n",
       "      <td>http://dbpedia.org/resource/Category:Bordeaux</td>\n",
       "      <td>http://www.w3.org/2004/02/skos/core#broader</td>\n",
       "      <td>http://dbpedia.org/resource/Category:Cities_in_France</td>\n",
       "      <td>http://purl.org/dc/terms/subject</td>\n",
       "      <td>http://dbpedia.org/resource/Paris</td>\n",
       "      <td>http://dbpedia.org/ontology/significantProject</td>\n",
       "      <td>http://dbpedia.org/resource/Jean-Michel_Wilmotte</td>\n",
       "      <td>http://dbpedia.org/ontology/architect</td>\n",
       "      <td>http://dbpedia.org/resource/Allianz_Riviera</td>\n",
       "    </tr>\n",
       "    <tr>\n",
       "      <th>1</th>\n",
       "      <td>http://dbpedia.org/resource/Jean_Nouguès</td>\n",
       "      <td>http://purl.org/dc/terms/subject</td>\n",
       "      <td>http://dbpedia.org/resource/Category:People_from_Bordeaux</td>\n",
       "      <td>http://www.w3.org/2004/02/skos/core#broader</td>\n",
       "      <td>http://dbpedia.org/resource/Category:Bordeaux</td>\n",
       "      <td>http://www.w3.org/2004/02/skos/core#broader</td>\n",
       "      <td>http://dbpedia.org/resource/Category:Cities_in_France</td>\n",
       "      <td>http://purl.org/dc/terms/subject</td>\n",
       "      <td>http://dbpedia.org/resource/Paris</td>\n",
       "      <td>http://dbpedia.org/ontology/significantProject</td>\n",
       "      <td>http://dbpedia.org/resource/Jean-Michel_Wilmotte</td>\n",
       "      <td>http://dbpedia.org/property/architect</td>\n",
       "      <td>http://dbpedia.org/resource/Allianz_Riviera</td>\n",
       "    </tr>\n",
       "    <tr>\n",
       "      <th>2</th>\n",
       "      <td>http://dbpedia.org/resource/Jean_Nouguès</td>\n",
       "      <td>http://purl.org/dc/terms/subject</td>\n",
       "      <td>http://dbpedia.org/resource/Category:People_from_Bordeaux</td>\n",
       "      <td>http://www.w3.org/2004/02/skos/core#broader</td>\n",
       "      <td>http://dbpedia.org/resource/Category:Bordeaux</td>\n",
       "      <td>http://www.w3.org/2004/02/skos/core#broader</td>\n",
       "      <td>http://dbpedia.org/resource/Category:Cities_in_France</td>\n",
       "      <td>http://www.w3.org/2004/02/skos/core#broader</td>\n",
       "      <td>http://dbpedia.org/resource/Category:Port_cities_and_towns_in_France</td>\n",
       "      <td>http://www.w3.org/2004/02/skos/core#broader</td>\n",
       "      <td>http://dbpedia.org/resource/Category:Mediterranean_port_cities_and_towns_in_France</td>\n",
       "      <td>http://purl.org/dc/terms/subject</td>\n",
       "      <td>http://dbpedia.org/resource/Villefranche-sur-Mer</td>\n",
       "    </tr>\n",
       "    <tr>\n",
       "      <th>3</th>\n",
       "      <td>http://dbpedia.org/resource/Jean_Nouguès</td>\n",
       "      <td>http://purl.org/dc/terms/subject</td>\n",
       "      <td>http://dbpedia.org/resource/Category:People_from_Bordeaux</td>\n",
       "      <td>http://www.w3.org/2004/02/skos/core#broader</td>\n",
       "      <td>http://dbpedia.org/resource/Category:Bordeaux</td>\n",
       "      <td>http://www.w3.org/2004/02/skos/core#broader</td>\n",
       "      <td>http://dbpedia.org/resource/Category:Cities_in_France</td>\n",
       "      <td>http://purl.org/dc/terms/subject</td>\n",
       "      <td>http://dbpedia.org/resource/Paris</td>\n",
       "      <td>http://dbpedia.org/ontology/birthPlace</td>\n",
       "      <td>http://dbpedia.org/resource/Kévin_Gomis</td>\n",
       "      <td>http://dbpedia.org/property/name</td>\n",
       "      <td>http://dbpedia.org/resource/OGC_Nice</td>\n",
       "    </tr>\n",
       "    <tr>\n",
       "      <th>4</th>\n",
       "      <td>http://dbpedia.org/resource/Jean_Nouguès</td>\n",
       "      <td>http://purl.org/dc/terms/subject</td>\n",
       "      <td>http://dbpedia.org/resource/Category:People_from_Bordeaux</td>\n",
       "      <td>http://www.w3.org/2004/02/skos/core#broader</td>\n",
       "      <td>http://dbpedia.org/resource/Category:Bordeaux</td>\n",
       "      <td>http://www.w3.org/2004/02/skos/core#broader</td>\n",
       "      <td>http://dbpedia.org/resource/Category:Cities_in_France</td>\n",
       "      <td>http://purl.org/dc/terms/subject</td>\n",
       "      <td>http://dbpedia.org/resource/Paris</td>\n",
       "      <td>http://dbpedia.org/ontology/locationCity</td>\n",
       "      <td>http://dbpedia.org/resource/Transdev</td>\n",
       "      <td>http://dbpedia.org/ontology/operatedBy</td>\n",
       "      <td>http://dbpedia.org/resource/Nice_tramway</td>\n",
       "    </tr>\n",
       "  </tbody>\n",
       "</table>\n",
       "</div>"
      ],
      "text/plain": [
       "                                     artist                                p1  \\\n",
       "0  http://dbpedia.org/resource/Jean_Nouguès  http://purl.org/dc/terms/subject   \n",
       "1  http://dbpedia.org/resource/Jean_Nouguès  http://purl.org/dc/terms/subject   \n",
       "2  http://dbpedia.org/resource/Jean_Nouguès  http://purl.org/dc/terms/subject   \n",
       "3  http://dbpedia.org/resource/Jean_Nouguès  http://purl.org/dc/terms/subject   \n",
       "4  http://dbpedia.org/resource/Jean_Nouguès  http://purl.org/dc/terms/subject   \n",
       "\n",
       "                                                          o1  \\\n",
       "0  http://dbpedia.org/resource/Category:People_from_Bordeaux   \n",
       "1  http://dbpedia.org/resource/Category:People_from_Bordeaux   \n",
       "2  http://dbpedia.org/resource/Category:People_from_Bordeaux   \n",
       "3  http://dbpedia.org/resource/Category:People_from_Bordeaux   \n",
       "4  http://dbpedia.org/resource/Category:People_from_Bordeaux   \n",
       "\n",
       "                                            p2  \\\n",
       "0  http://www.w3.org/2004/02/skos/core#broader   \n",
       "1  http://www.w3.org/2004/02/skos/core#broader   \n",
       "2  http://www.w3.org/2004/02/skos/core#broader   \n",
       "3  http://www.w3.org/2004/02/skos/core#broader   \n",
       "4  http://www.w3.org/2004/02/skos/core#broader   \n",
       "\n",
       "                                              o2  \\\n",
       "0  http://dbpedia.org/resource/Category:Bordeaux   \n",
       "1  http://dbpedia.org/resource/Category:Bordeaux   \n",
       "2  http://dbpedia.org/resource/Category:Bordeaux   \n",
       "3  http://dbpedia.org/resource/Category:Bordeaux   \n",
       "4  http://dbpedia.org/resource/Category:Bordeaux   \n",
       "\n",
       "                                            p3  \\\n",
       "0  http://www.w3.org/2004/02/skos/core#broader   \n",
       "1  http://www.w3.org/2004/02/skos/core#broader   \n",
       "2  http://www.w3.org/2004/02/skos/core#broader   \n",
       "3  http://www.w3.org/2004/02/skos/core#broader   \n",
       "4  http://www.w3.org/2004/02/skos/core#broader   \n",
       "\n",
       "                                                       o  \\\n",
       "0  http://dbpedia.org/resource/Category:Cities_in_France   \n",
       "1  http://dbpedia.org/resource/Category:Cities_in_France   \n",
       "2  http://dbpedia.org/resource/Category:Cities_in_France   \n",
       "3  http://dbpedia.org/resource/Category:Cities_in_France   \n",
       "4  http://dbpedia.org/resource/Category:Cities_in_France   \n",
       "\n",
       "                                           p3_  \\\n",
       "0  http://purl.org/dc/terms/subject              \n",
       "1  http://purl.org/dc/terms/subject              \n",
       "2  http://www.w3.org/2004/02/skos/core#broader   \n",
       "3  http://purl.org/dc/terms/subject              \n",
       "4  http://purl.org/dc/terms/subject              \n",
       "\n",
       "                                                                    o2_  \\\n",
       "0  http://dbpedia.org/resource/Paris                                      \n",
       "1  http://dbpedia.org/resource/Paris                                      \n",
       "2  http://dbpedia.org/resource/Category:Port_cities_and_towns_in_France   \n",
       "3  http://dbpedia.org/resource/Paris                                      \n",
       "4  http://dbpedia.org/resource/Paris                                      \n",
       "\n",
       "                                              p2_  \\\n",
       "0  http://dbpedia.org/ontology/significantProject   \n",
       "1  http://dbpedia.org/ontology/significantProject   \n",
       "2  http://www.w3.org/2004/02/skos/core#broader      \n",
       "3  http://dbpedia.org/ontology/birthPlace           \n",
       "4  http://dbpedia.org/ontology/locationCity         \n",
       "\n",
       "                                                                                  o1_  \\\n",
       "0  http://dbpedia.org/resource/Jean-Michel_Wilmotte                                     \n",
       "1  http://dbpedia.org/resource/Jean-Michel_Wilmotte                                     \n",
       "2  http://dbpedia.org/resource/Category:Mediterranean_port_cities_and_towns_in_France   \n",
       "3  http://dbpedia.org/resource/Kévin_Gomis                                              \n",
       "4  http://dbpedia.org/resource/Transdev                                                 \n",
       "\n",
       "                                      p1_  \\\n",
       "0  http://dbpedia.org/ontology/architect    \n",
       "1  http://dbpedia.org/property/architect    \n",
       "2  http://purl.org/dc/terms/subject         \n",
       "3  http://dbpedia.org/property/name         \n",
       "4  http://dbpedia.org/ontology/operatedBy   \n",
       "\n",
       "                                                poi  \n",
       "0  http://dbpedia.org/resource/Allianz_Riviera       \n",
       "1  http://dbpedia.org/resource/Allianz_Riviera       \n",
       "2  http://dbpedia.org/resource/Villefranche-sur-Mer  \n",
       "3  http://dbpedia.org/resource/OGC_Nice              \n",
       "4  http://dbpedia.org/resource/Nice_tramway          "
      ]
     },
     "execution_count": 70,
     "metadata": {},
     "output_type": "execute_result"
    }
   ],
   "source": [
    "df_paths.head()"
   ]
  },
  {
   "cell_type": "markdown",
   "metadata": {
    "deletable": true,
    "editable": true
   },
   "source": [
    "# PATHS FILTERING"
   ]
  },
  {
   "cell_type": "markdown",
   "metadata": {
    "deletable": true,
    "editable": true
   },
   "source": [
    "<div class=\"alert alert-success\">\n",
    "Using our method to find links between artists and POIs we have get a lot of of links,but the majority of them is probably not very interesting.\n",
    "The purpose of this Notebook is to discover which are the best links.\n",
    "</div>"
   ]
  },
  {
   "cell_type": "markdown",
   "metadata": {
    "deletable": true,
    "editable": true
   },
   "source": [
    "<div class=\"alert alert-success\">\n",
    "Below we'll save in a pandas dataframe all paths. The dataframe is formed by columns; every columns rapresents a resource(<strong>?o1 ?o2</strong>) or a property(<strong>?p1 ?p2 ?p3</strong>) of the path. They are numerated and  the max depth is 6. The central resource that links POI and enetity is rapresented by the column <strong>?o</strong>.\n",
    "</div>"
   ]
  },
  {
   "cell_type": "code",
   "execution_count": 70,
   "metadata": {
    "collapsed": false,
    "deletable": true,
    "editable": true
   },
   "outputs": [],
   "source": [
    "from os import listdir\n",
    "from os.path import isfile, join\n",
    "links_paths = [links_folder+f for f in listdir(links_folder) if isfile(join(links_folder, f)) and not 'DS_Store' in f]"
   ]
  },
  {
   "cell_type": "code",
   "execution_count": 57,
   "metadata": {
    "collapsed": false,
    "deletable": true,
    "editable": true
   },
   "outputs": [
    {
     "name": "stdout",
     "output_type": "stream",
     "text": [
      "Total number of paths:  1148286\n"
     ]
    },
    {
     "data": {
      "text/html": [
       "<div>\n",
       "<style>\n",
       "    .dataframe thead tr:only-child th {\n",
       "        text-align: right;\n",
       "    }\n",
       "\n",
       "    .dataframe thead th {\n",
       "        text-align: left;\n",
       "    }\n",
       "\n",
       "    .dataframe tbody tr th {\n",
       "        vertical-align: top;\n",
       "    }\n",
       "</style>\n",
       "<table border=\"1\" class=\"dataframe\">\n",
       "  <thead>\n",
       "    <tr style=\"text-align: right;\">\n",
       "      <th></th>\n",
       "      <th>entity</th>\n",
       "      <th>p1</th>\n",
       "      <th>o1</th>\n",
       "      <th>p2</th>\n",
       "      <th>o2</th>\n",
       "      <th>p3</th>\n",
       "      <th>o</th>\n",
       "      <th>p3_</th>\n",
       "      <th>o2_</th>\n",
       "      <th>p2_</th>\n",
       "      <th>o1_</th>\n",
       "      <th>p1_</th>\n",
       "      <th>poi</th>\n",
       "    </tr>\n",
       "  </thead>\n",
       "  <tbody>\n",
       "    <tr>\n",
       "      <th>0</th>\n",
       "      <td>http://dbpedia.org/resource/Franz_Xaver_Wolfgang_Mozart</td>\n",
       "      <td>http://purl.org/dc/terms/subject</td>\n",
       "      <td>http://dbpedia.org/resource/Category:Mozart_family</td>\n",
       "      <td>http://www.w3.org/2004/02/skos/core#broader</td>\n",
       "      <td>NaN</td>\n",
       "      <td>NaN</td>\n",
       "      <td>http://dbpedia.org/resource/Category:Wikipedia_categories_named_after_Roman_Catholic_families</td>\n",
       "      <td>NaN</td>\n",
       "      <td>NaN</td>\n",
       "      <td>http://www.w3.org/2004/02/skos/core#broader</td>\n",
       "      <td>http://dbpedia.org/resource/Category:House_of_Grimaldi</td>\n",
       "      <td>http://purl.org/dc/terms/subject</td>\n",
       "      <td>http://dbpedia.org/resource/Château_Grimaldi_(Cagnes)</td>\n",
       "    </tr>\n",
       "    <tr>\n",
       "      <th>1</th>\n",
       "      <td>http://dbpedia.org/resource/Erwin_Schulhoff</td>\n",
       "      <td>http://dbpedia.org/ontology/nationality</td>\n",
       "      <td>http://dbpedia.org/resource/Austria-Hungary</td>\n",
       "      <td>http://purl.org/dc/terms/subject</td>\n",
       "      <td>http://dbpedia.org/resource/Category:House_of_Habsburg-Lorraine</td>\n",
       "      <td>http://www.w3.org/2004/02/skos/core#broader</td>\n",
       "      <td>http://dbpedia.org/resource/Category:Wikipedia_categories_named_after_Roman_Catholic_families</td>\n",
       "      <td>NaN</td>\n",
       "      <td>NaN</td>\n",
       "      <td>http://www.w3.org/2004/02/skos/core#broader</td>\n",
       "      <td>http://dbpedia.org/resource/Category:House_of_Grimaldi</td>\n",
       "      <td>http://purl.org/dc/terms/subject</td>\n",
       "      <td>http://dbpedia.org/resource/Château_Grimaldi_(Cagnes)</td>\n",
       "    </tr>\n",
       "    <tr>\n",
       "      <th>2</th>\n",
       "      <td>http://dbpedia.org/resource/Erwin_Schulhoff</td>\n",
       "      <td>http://dbpedia.org/ontology/stateOfOrigin</td>\n",
       "      <td>http://dbpedia.org/resource/Austria-Hungary</td>\n",
       "      <td>http://purl.org/dc/terms/subject</td>\n",
       "      <td>http://dbpedia.org/resource/Category:House_of_Habsburg-Lorraine</td>\n",
       "      <td>http://www.w3.org/2004/02/skos/core#broader</td>\n",
       "      <td>http://dbpedia.org/resource/Category:Wikipedia_categories_named_after_Roman_Catholic_families</td>\n",
       "      <td>NaN</td>\n",
       "      <td>NaN</td>\n",
       "      <td>http://www.w3.org/2004/02/skos/core#broader</td>\n",
       "      <td>http://dbpedia.org/resource/Category:House_of_Grimaldi</td>\n",
       "      <td>http://purl.org/dc/terms/subject</td>\n",
       "      <td>http://dbpedia.org/resource/Château_Grimaldi_(Cagnes)</td>\n",
       "    </tr>\n",
       "    <tr>\n",
       "      <th>3</th>\n",
       "      <td>http://dbpedia.org/resource/Erwin_Schulhoff</td>\n",
       "      <td>http://dbpedia.org/ontology/birthPlace</td>\n",
       "      <td>http://dbpedia.org/resource/Austria-Hungary</td>\n",
       "      <td>http://purl.org/dc/terms/subject</td>\n",
       "      <td>http://dbpedia.org/resource/Category:House_of_Habsburg-Lorraine</td>\n",
       "      <td>http://www.w3.org/2004/02/skos/core#broader</td>\n",
       "      <td>http://dbpedia.org/resource/Category:Wikipedia_categories_named_after_Roman_Catholic_families</td>\n",
       "      <td>NaN</td>\n",
       "      <td>NaN</td>\n",
       "      <td>http://www.w3.org/2004/02/skos/core#broader</td>\n",
       "      <td>http://dbpedia.org/resource/Category:House_of_Grimaldi</td>\n",
       "      <td>http://purl.org/dc/terms/subject</td>\n",
       "      <td>http://dbpedia.org/resource/Château_Grimaldi_(Cagnes)</td>\n",
       "    </tr>\n",
       "    <tr>\n",
       "      <th>4</th>\n",
       "      <td>http://dbpedia.org/resource/Erwin_Schulhoff</td>\n",
       "      <td>http://dbpedia.org/property/birthPlace</td>\n",
       "      <td>http://dbpedia.org/resource/Austria-Hungary</td>\n",
       "      <td>http://purl.org/dc/terms/subject</td>\n",
       "      <td>http://dbpedia.org/resource/Category:House_of_Habsburg-Lorraine</td>\n",
       "      <td>http://www.w3.org/2004/02/skos/core#broader</td>\n",
       "      <td>http://dbpedia.org/resource/Category:Wikipedia_categories_named_after_Roman_Catholic_families</td>\n",
       "      <td>NaN</td>\n",
       "      <td>NaN</td>\n",
       "      <td>http://www.w3.org/2004/02/skos/core#broader</td>\n",
       "      <td>http://dbpedia.org/resource/Category:House_of_Grimaldi</td>\n",
       "      <td>http://purl.org/dc/terms/subject</td>\n",
       "      <td>http://dbpedia.org/resource/Château_Grimaldi_(Cagnes)</td>\n",
       "    </tr>\n",
       "  </tbody>\n",
       "</table>\n",
       "</div>"
      ],
      "text/plain": [
       "                                                    entity  \\\n",
       "0  http://dbpedia.org/resource/Franz_Xaver_Wolfgang_Mozart   \n",
       "1  http://dbpedia.org/resource/Erwin_Schulhoff               \n",
       "2  http://dbpedia.org/resource/Erwin_Schulhoff               \n",
       "3  http://dbpedia.org/resource/Erwin_Schulhoff               \n",
       "4  http://dbpedia.org/resource/Erwin_Schulhoff               \n",
       "\n",
       "                                          p1  \\\n",
       "0  http://purl.org/dc/terms/subject            \n",
       "1  http://dbpedia.org/ontology/nationality     \n",
       "2  http://dbpedia.org/ontology/stateOfOrigin   \n",
       "3  http://dbpedia.org/ontology/birthPlace      \n",
       "4  http://dbpedia.org/property/birthPlace      \n",
       "\n",
       "                                                   o1  \\\n",
       "0  http://dbpedia.org/resource/Category:Mozart_family   \n",
       "1  http://dbpedia.org/resource/Austria-Hungary          \n",
       "2  http://dbpedia.org/resource/Austria-Hungary          \n",
       "3  http://dbpedia.org/resource/Austria-Hungary          \n",
       "4  http://dbpedia.org/resource/Austria-Hungary          \n",
       "\n",
       "                                            p2  \\\n",
       "0  http://www.w3.org/2004/02/skos/core#broader   \n",
       "1  http://purl.org/dc/terms/subject              \n",
       "2  http://purl.org/dc/terms/subject              \n",
       "3  http://purl.org/dc/terms/subject              \n",
       "4  http://purl.org/dc/terms/subject              \n",
       "\n",
       "                                                                o2  \\\n",
       "0  NaN                                                               \n",
       "1  http://dbpedia.org/resource/Category:House_of_Habsburg-Lorraine   \n",
       "2  http://dbpedia.org/resource/Category:House_of_Habsburg-Lorraine   \n",
       "3  http://dbpedia.org/resource/Category:House_of_Habsburg-Lorraine   \n",
       "4  http://dbpedia.org/resource/Category:House_of_Habsburg-Lorraine   \n",
       "\n",
       "                                            p3  \\\n",
       "0  NaN                                           \n",
       "1  http://www.w3.org/2004/02/skos/core#broader   \n",
       "2  http://www.w3.org/2004/02/skos/core#broader   \n",
       "3  http://www.w3.org/2004/02/skos/core#broader   \n",
       "4  http://www.w3.org/2004/02/skos/core#broader   \n",
       "\n",
       "                                                                                               o  \\\n",
       "0  http://dbpedia.org/resource/Category:Wikipedia_categories_named_after_Roman_Catholic_families   \n",
       "1  http://dbpedia.org/resource/Category:Wikipedia_categories_named_after_Roman_Catholic_families   \n",
       "2  http://dbpedia.org/resource/Category:Wikipedia_categories_named_after_Roman_Catholic_families   \n",
       "3  http://dbpedia.org/resource/Category:Wikipedia_categories_named_after_Roman_Catholic_families   \n",
       "4  http://dbpedia.org/resource/Category:Wikipedia_categories_named_after_Roman_Catholic_families   \n",
       "\n",
       "   p3_  o2_                                          p2_  \\\n",
       "0  NaN  NaN  http://www.w3.org/2004/02/skos/core#broader   \n",
       "1  NaN  NaN  http://www.w3.org/2004/02/skos/core#broader   \n",
       "2  NaN  NaN  http://www.w3.org/2004/02/skos/core#broader   \n",
       "3  NaN  NaN  http://www.w3.org/2004/02/skos/core#broader   \n",
       "4  NaN  NaN  http://www.w3.org/2004/02/skos/core#broader   \n",
       "\n",
       "                                                      o1_  \\\n",
       "0  http://dbpedia.org/resource/Category:House_of_Grimaldi   \n",
       "1  http://dbpedia.org/resource/Category:House_of_Grimaldi   \n",
       "2  http://dbpedia.org/resource/Category:House_of_Grimaldi   \n",
       "3  http://dbpedia.org/resource/Category:House_of_Grimaldi   \n",
       "4  http://dbpedia.org/resource/Category:House_of_Grimaldi   \n",
       "\n",
       "                                p1_  \\\n",
       "0  http://purl.org/dc/terms/subject   \n",
       "1  http://purl.org/dc/terms/subject   \n",
       "2  http://purl.org/dc/terms/subject   \n",
       "3  http://purl.org/dc/terms/subject   \n",
       "4  http://purl.org/dc/terms/subject   \n",
       "\n",
       "                                                     poi  \n",
       "0  http://dbpedia.org/resource/Château_Grimaldi_(Cagnes)  \n",
       "1  http://dbpedia.org/resource/Château_Grimaldi_(Cagnes)  \n",
       "2  http://dbpedia.org/resource/Château_Grimaldi_(Cagnes)  \n",
       "3  http://dbpedia.org/resource/Château_Grimaldi_(Cagnes)  \n",
       "4  http://dbpedia.org/resource/Château_Grimaldi_(Cagnes)  "
      ]
     },
     "execution_count": 57,
     "metadata": {},
     "output_type": "execute_result"
    }
   ],
   "source": [
    "input_path = 'artists_pois_paths.csv'\n",
    "df_paths = pd.read_csv(input_path)\n",
    "print(\"Total number of paths: \",len(df_paths))\n",
    "df_paths.head()"
   ]
  },
  {
   "cell_type": "markdown",
   "metadata": {
    "deletable": true,
    "editable": true
   },
   "source": [
    "<div class=\"alert alert-success\">\n",
    "As you can see we have a lot of paths(1148286), but looking at the fist ones very general resources are presented in the path. <a>http://dbpedia.org/resource/Austria-Hungary</a> for example.\n",
    "</div>"
   ]
  },
  {
   "cell_type": "markdown",
   "metadata": {
    "deletable": true,
    "editable": true
   },
   "source": [
    "### 1 - FIRST FILTERING STEP: REMOVE DOUBLE INFORMATION"
   ]
  },
  {
   "cell_type": "markdown",
   "metadata": {
    "deletable": true,
    "editable": true
   },
   "source": [
    "<div class=\"alert alert-success\">\n",
    "In first filtering step we want to remove all paths in which a resource is presented two times. In fact it means that there is a shorter path between the POI and the artist, and it is already present in our table.\n",
    "Let's suppose to have these 2 paths (the letters rappresent the resources): \n",
    "<ul>\n",
    "  <li>A->B->C</li>\n",
    "  <li>A->B->E->B->C</li>\n",
    "</ul>\n",
    "We want to preserve only the first one.\n",
    "</div>"
   ]
  },
  {
   "cell_type": "code",
   "execution_count": 42,
   "metadata": {
    "collapsed": true,
    "deletable": true,
    "editable": true
   },
   "outputs": [],
   "source": [
    "def isDuplicate(x,arr_names):\n",
    "    g = []\n",
    "    for n in arr_names:\n",
    "        if x[n] in g and type(x[n]) != float:\n",
    "            return False\n",
    "        else:\n",
    "            g.append(x[n])\n",
    "    return True"
   ]
  },
  {
   "cell_type": "code",
   "execution_count": 43,
   "metadata": {
    "collapsed": true,
    "deletable": true,
    "editable": true
   },
   "outputs": [],
   "source": [
    "starting_paths = 0\n",
    "current_paths = 0\n",
    "trace = 0"
   ]
  },
  {
   "cell_type": "code",
   "execution_count": 46,
   "metadata": {
    "collapsed": false,
    "deletable": true,
    "editable": true
   },
   "outputs": [],
   "source": [
    "for filepath in links_paths[trace:]:\n",
    "    df_paths = pd.read_pickle(filepath)\n",
    "    starting_paths += len(df_paths)\n",
    "    df_paths_rm_duplicates = df_paths[df_paths.apply(lambda x: isDuplicate(x,df_paths.columns[2:-2:2]), axis=1)]\n",
    "    current_paths += len(df_paths_rm_duplicates)\n",
    "    df_paths_rm_duplicates.to_pickle(filepath)\n",
    "    trace += 1"
   ]
  },
  {
   "cell_type": "code",
   "execution_count": 235,
   "metadata": {
    "collapsed": false,
    "deletable": true,
    "editable": true
   },
   "outputs": [],
   "source": [
    "all_middle_resources_grouped = all_middle_resources_grouped.sort_values('count', ascending=False)"
   ]
  },
  {
   "cell_type": "code",
   "execution_count": 236,
   "metadata": {
    "collapsed": true,
    "deletable": true,
    "editable": true
   },
   "outputs": [],
   "source": [
    "all_middle_resources_grouped.to_pickle('all_middle_resources_grouped')"
   ]
  },
  {
   "cell_type": "code",
   "execution_count": 9,
   "metadata": {
    "collapsed": false,
    "deletable": true,
    "editable": true
   },
   "outputs": [],
   "source": [
    "all_middle_resources_grouped=pd.read_pickle('all_middle_resources_grouped')"
   ]
  },
  {
   "cell_type": "code",
   "execution_count": 5,
   "metadata": {
    "collapsed": false,
    "deletable": true,
    "editable": true
   },
   "outputs": [
    {
     "data": {
      "text/html": [
       "<div>\n",
       "<style>\n",
       "    .dataframe thead tr:only-child th {\n",
       "        text-align: right;\n",
       "    }\n",
       "\n",
       "    .dataframe thead th {\n",
       "        text-align: left;\n",
       "    }\n",
       "\n",
       "    .dataframe tbody tr th {\n",
       "        vertical-align: top;\n",
       "    }\n",
       "</style>\n",
       "<table border=\"1\" class=\"dataframe\">\n",
       "  <thead>\n",
       "    <tr style=\"text-align: right;\">\n",
       "      <th></th>\n",
       "      <th>resource</th>\n",
       "      <th>count</th>\n",
       "    </tr>\n",
       "  </thead>\n",
       "  <tbody>\n",
       "    <tr>\n",
       "      <th>5433</th>\n",
       "      <td>http://dbpedia.org/resource/Category:Living_people</td>\n",
       "      <td>10399615</td>\n",
       "    </tr>\n",
       "    <tr>\n",
       "      <th>12722</th>\n",
       "      <td>http://dbpedia.org/resource/Mediterranean_Sea</td>\n",
       "      <td>6656918</td>\n",
       "    </tr>\n",
       "    <tr>\n",
       "      <th>13496</th>\n",
       "      <td>http://dbpedia.org/resource/OGC_Nice</td>\n",
       "      <td>5353452</td>\n",
       "    </tr>\n",
       "    <tr>\n",
       "      <th>8113</th>\n",
       "      <td>http://dbpedia.org/resource/Central_European_Time</td>\n",
       "      <td>4166524</td>\n",
       "    </tr>\n",
       "    <tr>\n",
       "      <th>10877</th>\n",
       "      <td>http://dbpedia.org/resource/Italy</td>\n",
       "      <td>2790630</td>\n",
       "    </tr>\n",
       "    <tr>\n",
       "      <th>369</th>\n",
       "      <td>http://dbpedia.org/resource/Alpes-Maritimes</td>\n",
       "      <td>2461545</td>\n",
       "    </tr>\n",
       "    <tr>\n",
       "      <th>8289</th>\n",
       "      <td>http://dbpedia.org/resource/Christian_Estrosi</td>\n",
       "      <td>1785594</td>\n",
       "    </tr>\n",
       "    <tr>\n",
       "      <th>8034</th>\n",
       "      <td>http://dbpedia.org/resource/Category:Year_of_birth_unknown</td>\n",
       "      <td>1699992</td>\n",
       "    </tr>\n",
       "    <tr>\n",
       "      <th>14697</th>\n",
       "      <td>http://dbpedia.org/resource/Rome</td>\n",
       "      <td>1419388</td>\n",
       "    </tr>\n",
       "    <tr>\n",
       "      <th>6549</th>\n",
       "      <td>http://dbpedia.org/resource/Category:Place_of_birth_missing_(living_people)</td>\n",
       "      <td>1220785</td>\n",
       "    </tr>\n",
       "    <tr>\n",
       "      <th>8112</th>\n",
       "      <td>http://dbpedia.org/resource/Central_European_Summer_Time</td>\n",
       "      <td>1170924</td>\n",
       "    </tr>\n",
       "    <tr>\n",
       "      <th>15998</th>\n",
       "      <td>http://dbpedia.org/resource/Twin_towns_and_sister_cities</td>\n",
       "      <td>1115993</td>\n",
       "    </tr>\n",
       "    <tr>\n",
       "      <th>12175</th>\n",
       "      <td>http://dbpedia.org/resource/Lists_of_twin_towns_and_sister_cities</td>\n",
       "      <td>1014399</td>\n",
       "    </tr>\n",
       "    <tr>\n",
       "      <th>16411</th>\n",
       "      <td>http://dbpedia.org/resource/Wallyson_Mallmann</td>\n",
       "      <td>981347</td>\n",
       "    </tr>\n",
       "    <tr>\n",
       "      <th>8037</th>\n",
       "      <td>http://dbpedia.org/resource/Category:Year_of_death_unknown</td>\n",
       "      <td>911279</td>\n",
       "    </tr>\n",
       "    <tr>\n",
       "      <th>16056</th>\n",
       "      <td>http://dbpedia.org/resource/United_States</td>\n",
       "      <td>889746</td>\n",
       "    </tr>\n",
       "    <tr>\n",
       "      <th>15949</th>\n",
       "      <td>http://dbpedia.org/resource/Tripoli</td>\n",
       "      <td>841476</td>\n",
       "    </tr>\n",
       "    <tr>\n",
       "      <th>9000</th>\n",
       "      <td>http://dbpedia.org/resource/Dubrovnik</td>\n",
       "      <td>829656</td>\n",
       "    </tr>\n",
       "    <tr>\n",
       "      <th>13396</th>\n",
       "      <td>http://dbpedia.org/resource/Niklas_Hult</td>\n",
       "      <td>686010</td>\n",
       "    </tr>\n",
       "    <tr>\n",
       "      <th>13716</th>\n",
       "      <td>http://dbpedia.org/resource/Paris</td>\n",
       "      <td>673561</td>\n",
       "    </tr>\n",
       "    <tr>\n",
       "      <th>320</th>\n",
       "      <td>http://dbpedia.org/resource/Algiers</td>\n",
       "      <td>668964</td>\n",
       "    </tr>\n",
       "    <tr>\n",
       "      <th>15288</th>\n",
       "      <td>http://dbpedia.org/resource/Spain</td>\n",
       "      <td>629510</td>\n",
       "    </tr>\n",
       "    <tr>\n",
       "      <th>15982</th>\n",
       "      <td>http://dbpedia.org/resource/Tunis</td>\n",
       "      <td>619006</td>\n",
       "    </tr>\n",
       "    <tr>\n",
       "      <th>10020</th>\n",
       "      <td>http://dbpedia.org/resource/Germany</td>\n",
       "      <td>617060</td>\n",
       "    </tr>\n",
       "    <tr>\n",
       "      <th>11090</th>\n",
       "      <td>http://dbpedia.org/resource/Jean-Michel_Wilmotte</td>\n",
       "      <td>607520</td>\n",
       "    </tr>\n",
       "    <tr>\n",
       "      <th>14980</th>\n",
       "      <td>http://dbpedia.org/resource/Saïd_Benrahma</td>\n",
       "      <td>601202</td>\n",
       "    </tr>\n",
       "    <tr>\n",
       "      <th>8032</th>\n",
       "      <td>http://dbpedia.org/resource/Category:Year_of_birth_missing_(living_people)</td>\n",
       "      <td>585398</td>\n",
       "    </tr>\n",
       "    <tr>\n",
       "      <th>8087</th>\n",
       "      <td>http://dbpedia.org/resource/Catholic_Church</td>\n",
       "      <td>559972</td>\n",
       "    </tr>\n",
       "    <tr>\n",
       "      <th>14869</th>\n",
       "      <td>http://dbpedia.org/resource/Saint_Reparata</td>\n",
       "      <td>548203</td>\n",
       "    </tr>\n",
       "    <tr>\n",
       "      <th>13545</th>\n",
       "      <td>http://dbpedia.org/resource/Olivier_Boscagli</td>\n",
       "      <td>531064</td>\n",
       "    </tr>\n",
       "    <tr>\n",
       "      <th>14068</th>\n",
       "      <td>http://dbpedia.org/resource/Po_(river)</td>\n",
       "      <td>523440</td>\n",
       "    </tr>\n",
       "    <tr>\n",
       "      <th>16796</th>\n",
       "      <td>http://dbpedia.org/resource/Éric_Ciotti</td>\n",
       "      <td>502252</td>\n",
       "    </tr>\n",
       "    <tr>\n",
       "      <th>3554</th>\n",
       "      <td>http://dbpedia.org/resource/Category:Date_of_death_unknown</td>\n",
       "      <td>499106</td>\n",
       "    </tr>\n",
       "    <tr>\n",
       "      <th>888</th>\n",
       "      <td>http://dbpedia.org/resource/Barcelona</td>\n",
       "      <td>498096</td>\n",
       "    </tr>\n",
       "    <tr>\n",
       "      <th>8405</th>\n",
       "      <td>http://dbpedia.org/resource/Claude_Puel</td>\n",
       "      <td>490106</td>\n",
       "    </tr>\n",
       "    <tr>\n",
       "      <th>6551</th>\n",
       "      <td>http://dbpedia.org/resource/Category:Place_of_death_missing</td>\n",
       "      <td>488080</td>\n",
       "    </tr>\n",
       "    <tr>\n",
       "      <th>15496</th>\n",
       "      <td>http://dbpedia.org/resource/Sweden</td>\n",
       "      <td>482083</td>\n",
       "    </tr>\n",
       "    <tr>\n",
       "      <th>2287</th>\n",
       "      <td>http://dbpedia.org/resource/Category:Articles_containing_video_clips</td>\n",
       "      <td>481088</td>\n",
       "    </tr>\n",
       "    <tr>\n",
       "      <th>3559</th>\n",
       "      <td>http://dbpedia.org/resource/Category:Dead_people</td>\n",
       "      <td>460707</td>\n",
       "    </tr>\n",
       "    <tr>\n",
       "      <th>3551</th>\n",
       "      <td>http://dbpedia.org/resource/Category:Date_of_birth_missing_(living_people)</td>\n",
       "      <td>453819</td>\n",
       "    </tr>\n",
       "  </tbody>\n",
       "</table>\n",
       "</div>"
      ],
      "text/plain": [
       "                                                                          resource  \\\n",
       "5433   http://dbpedia.org/resource/Category:Living_people                            \n",
       "12722  http://dbpedia.org/resource/Mediterranean_Sea                                 \n",
       "13496  http://dbpedia.org/resource/OGC_Nice                                          \n",
       "8113   http://dbpedia.org/resource/Central_European_Time                             \n",
       "10877  http://dbpedia.org/resource/Italy                                             \n",
       "369    http://dbpedia.org/resource/Alpes-Maritimes                                   \n",
       "8289   http://dbpedia.org/resource/Christian_Estrosi                                 \n",
       "8034   http://dbpedia.org/resource/Category:Year_of_birth_unknown                    \n",
       "14697  http://dbpedia.org/resource/Rome                                              \n",
       "6549   http://dbpedia.org/resource/Category:Place_of_birth_missing_(living_people)   \n",
       "8112   http://dbpedia.org/resource/Central_European_Summer_Time                      \n",
       "15998  http://dbpedia.org/resource/Twin_towns_and_sister_cities                      \n",
       "12175  http://dbpedia.org/resource/Lists_of_twin_towns_and_sister_cities             \n",
       "16411  http://dbpedia.org/resource/Wallyson_Mallmann                                 \n",
       "8037   http://dbpedia.org/resource/Category:Year_of_death_unknown                    \n",
       "16056  http://dbpedia.org/resource/United_States                                     \n",
       "15949  http://dbpedia.org/resource/Tripoli                                           \n",
       "9000   http://dbpedia.org/resource/Dubrovnik                                         \n",
       "13396  http://dbpedia.org/resource/Niklas_Hult                                       \n",
       "13716  http://dbpedia.org/resource/Paris                                             \n",
       "320    http://dbpedia.org/resource/Algiers                                           \n",
       "15288  http://dbpedia.org/resource/Spain                                             \n",
       "15982  http://dbpedia.org/resource/Tunis                                             \n",
       "10020  http://dbpedia.org/resource/Germany                                           \n",
       "11090  http://dbpedia.org/resource/Jean-Michel_Wilmotte                              \n",
       "14980  http://dbpedia.org/resource/Saïd_Benrahma                                     \n",
       "8032   http://dbpedia.org/resource/Category:Year_of_birth_missing_(living_people)    \n",
       "8087   http://dbpedia.org/resource/Catholic_Church                                   \n",
       "14869  http://dbpedia.org/resource/Saint_Reparata                                    \n",
       "13545  http://dbpedia.org/resource/Olivier_Boscagli                                  \n",
       "14068  http://dbpedia.org/resource/Po_(river)                                        \n",
       "16796  http://dbpedia.org/resource/Éric_Ciotti                                       \n",
       "3554   http://dbpedia.org/resource/Category:Date_of_death_unknown                    \n",
       "888    http://dbpedia.org/resource/Barcelona                                         \n",
       "8405   http://dbpedia.org/resource/Claude_Puel                                       \n",
       "6551   http://dbpedia.org/resource/Category:Place_of_death_missing                   \n",
       "15496  http://dbpedia.org/resource/Sweden                                            \n",
       "2287   http://dbpedia.org/resource/Category:Articles_containing_video_clips          \n",
       "3559   http://dbpedia.org/resource/Category:Dead_people                              \n",
       "3551   http://dbpedia.org/resource/Category:Date_of_birth_missing_(living_people)    \n",
       "\n",
       "          count  \n",
       "5433   10399615  \n",
       "12722  6656918   \n",
       "13496  5353452   \n",
       "8113   4166524   \n",
       "10877  2790630   \n",
       "369    2461545   \n",
       "8289   1785594   \n",
       "8034   1699992   \n",
       "14697  1419388   \n",
       "6549   1220785   \n",
       "8112   1170924   \n",
       "15998  1115993   \n",
       "12175  1014399   \n",
       "16411  981347    \n",
       "8037   911279    \n",
       "16056  889746    \n",
       "15949  841476    \n",
       "9000   829656    \n",
       "13396  686010    \n",
       "13716  673561    \n",
       "320    668964    \n",
       "15288  629510    \n",
       "15982  619006    \n",
       "10020  617060    \n",
       "11090  607520    \n",
       "14980  601202    \n",
       "8032   585398    \n",
       "8087   559972    \n",
       "14869  548203    \n",
       "13545  531064    \n",
       "14068  523440    \n",
       "16796  502252    \n",
       "3554   499106    \n",
       "888    498096    \n",
       "8405   490106    \n",
       "6551   488080    \n",
       "15496  482083    \n",
       "2287   481088    \n",
       "3559   460707    \n",
       "3551   453819    "
      ]
     },
     "execution_count": 5,
     "metadata": {},
     "output_type": "execute_result"
    }
   ],
   "source": [
    "all_middle_resources_grouped.head(40)"
   ]
  },
  {
   "cell_type": "code",
   "execution_count": 8,
   "metadata": {
    "collapsed": false,
    "deletable": true,
    "editable": true
   },
   "outputs": [
    {
     "data": {
      "text/html": [
       "<div>\n",
       "<style>\n",
       "    .dataframe thead tr:only-child th {\n",
       "        text-align: right;\n",
       "    }\n",
       "\n",
       "    .dataframe thead th {\n",
       "        text-align: left;\n",
       "    }\n",
       "\n",
       "    .dataframe tbody tr th {\n",
       "        vertical-align: top;\n",
       "    }\n",
       "</style>\n",
       "<table border=\"1\" class=\"dataframe\">\n",
       "  <thead>\n",
       "    <tr style=\"text-align: right;\">\n",
       "      <th></th>\n",
       "      <th>resource</th>\n",
       "      <th>count</th>\n",
       "    </tr>\n",
       "  </thead>\n",
       "  <tbody>\n",
       "    <tr>\n",
       "      <th>5125</th>\n",
       "      <td>http://dbpedia.org/resource/Category:Italian_geographers</td>\n",
       "      <td>1</td>\n",
       "    </tr>\n",
       "    <tr>\n",
       "      <th>2113</th>\n",
       "      <td>http://dbpedia.org/resource/Category:American_schoolteachers</td>\n",
       "      <td>1</td>\n",
       "    </tr>\n",
       "    <tr>\n",
       "      <th>6094</th>\n",
       "      <td>http://dbpedia.org/resource/Category:Pastor_family</td>\n",
       "      <td>1</td>\n",
       "    </tr>\n",
       "    <tr>\n",
       "      <th>6068</th>\n",
       "      <td>http://dbpedia.org/resource/Category:Oulipo_members</td>\n",
       "      <td>1</td>\n",
       "    </tr>\n",
       "    <tr>\n",
       "      <th>7986</th>\n",
       "      <td>http://dbpedia.org/resource/Category:Wikipedia_categories_named_after_universities_and_colleges_in_Argentina</td>\n",
       "      <td>1</td>\n",
       "    </tr>\n",
       "    <tr>\n",
       "      <th>7320</th>\n",
       "      <td>http://dbpedia.org/resource/Category:Socialists_by_nationality</td>\n",
       "      <td>1</td>\n",
       "    </tr>\n",
       "    <tr>\n",
       "      <th>5142</th>\n",
       "      <td>http://dbpedia.org/resource/Category:Italian_nobility_by_title</td>\n",
       "      <td>1</td>\n",
       "    </tr>\n",
       "    <tr>\n",
       "      <th>5135</th>\n",
       "      <td>http://dbpedia.org/resource/Category:Italian_murder_victims</td>\n",
       "      <td>1</td>\n",
       "    </tr>\n",
       "    <tr>\n",
       "      <th>5692</th>\n",
       "      <td>http://dbpedia.org/resource/Category:Monegasque_male_singers</td>\n",
       "      <td>1</td>\n",
       "    </tr>\n",
       "    <tr>\n",
       "      <th>5138</th>\n",
       "      <td>http://dbpedia.org/resource/Category:Italian_music_publishers_(people)</td>\n",
       "      <td>1</td>\n",
       "    </tr>\n",
       "    <tr>\n",
       "      <th>2169</th>\n",
       "      <td>http://dbpedia.org/resource/Category:Apocalypticism</td>\n",
       "      <td>1</td>\n",
       "    </tr>\n",
       "    <tr>\n",
       "      <th>2170</th>\n",
       "      <td>http://dbpedia.org/resource/Category:Apocalypticists</td>\n",
       "      <td>1</td>\n",
       "    </tr>\n",
       "    <tr>\n",
       "      <th>14510</th>\n",
       "      <td>http://dbpedia.org/resource/Richard_Carlton</td>\n",
       "      <td>1</td>\n",
       "    </tr>\n",
       "    <tr>\n",
       "      <th>6039</th>\n",
       "      <td>http://dbpedia.org/resource/Category:Operetta</td>\n",
       "      <td>1</td>\n",
       "    </tr>\n",
       "    <tr>\n",
       "      <th>2161</th>\n",
       "      <td>http://dbpedia.org/resource/Category:Annual_events_in_Europe</td>\n",
       "      <td>1</td>\n",
       "    </tr>\n",
       "    <tr>\n",
       "      <th>7183</th>\n",
       "      <td>http://dbpedia.org/resource/Category:Sardinia</td>\n",
       "      <td>1</td>\n",
       "    </tr>\n",
       "    <tr>\n",
       "      <th>8655</th>\n",
       "      <td>http://dbpedia.org/resource/Dance</td>\n",
       "      <td>1</td>\n",
       "    </tr>\n",
       "    <tr>\n",
       "      <th>5149</th>\n",
       "      <td>http://dbpedia.org/resource/Category:Italian_philanthropists</td>\n",
       "      <td>1</td>\n",
       "    </tr>\n",
       "    <tr>\n",
       "      <th>5413</th>\n",
       "      <td>http://dbpedia.org/resource/Category:Lists_of_royal_consorts</td>\n",
       "      <td>1</td>\n",
       "    </tr>\n",
       "    <tr>\n",
       "      <th>5698</th>\n",
       "      <td>http://dbpedia.org/resource/Category:Monegasque_people_by_occupation</td>\n",
       "      <td>1</td>\n",
       "    </tr>\n",
       "    <tr>\n",
       "      <th>6035</th>\n",
       "      <td>http://dbpedia.org/resource/Category:Operatic_countertenors</td>\n",
       "      <td>1</td>\n",
       "    </tr>\n",
       "    <tr>\n",
       "      <th>7516</th>\n",
       "      <td>http://dbpedia.org/resource/Category:Swedish_accordionists</td>\n",
       "      <td>1</td>\n",
       "    </tr>\n",
       "    <tr>\n",
       "      <th>2160</th>\n",
       "      <td>http://dbpedia.org/resource/Category:Annual_events_by_country</td>\n",
       "      <td>1</td>\n",
       "    </tr>\n",
       "    <tr>\n",
       "      <th>13950</th>\n",
       "      <td>http://dbpedia.org/resource/Philip_Phile</td>\n",
       "      <td>1</td>\n",
       "    </tr>\n",
       "    <tr>\n",
       "      <th>7989</th>\n",
       "      <td>http://dbpedia.org/resource/Category:Wikipedia_categories_named_after_universities_and_colleges_in_the_United_Kingdom</td>\n",
       "      <td>1</td>\n",
       "    </tr>\n",
       "    <tr>\n",
       "      <th>6059</th>\n",
       "      <td>http://dbpedia.org/resource/Category:Ornithologists_by_nationality</td>\n",
       "      <td>1</td>\n",
       "    </tr>\n",
       "    <tr>\n",
       "      <th>6056</th>\n",
       "      <td>http://dbpedia.org/resource/Category:Orientalism</td>\n",
       "      <td>1</td>\n",
       "    </tr>\n",
       "    <tr>\n",
       "      <th>7179</th>\n",
       "      <td>http://dbpedia.org/resource/Category:Salvationists_by_nationality</td>\n",
       "      <td>1</td>\n",
       "    </tr>\n",
       "    <tr>\n",
       "      <th>6054</th>\n",
       "      <td>http://dbpedia.org/resource/Category:Organology</td>\n",
       "      <td>1</td>\n",
       "    </tr>\n",
       "    <tr>\n",
       "      <th>2146</th>\n",
       "      <td>http://dbpedia.org/resource/Category:Anglican_pacifists</td>\n",
       "      <td>1</td>\n",
       "    </tr>\n",
       "    <tr>\n",
       "      <th>5690</th>\n",
       "      <td>http://dbpedia.org/resource/Category:Monegasque_families</td>\n",
       "      <td>1</td>\n",
       "    </tr>\n",
       "    <tr>\n",
       "      <th>2151</th>\n",
       "      <td>http://dbpedia.org/resource/Category:Anglo-Catholics</td>\n",
       "      <td>1</td>\n",
       "    </tr>\n",
       "    <tr>\n",
       "      <th>7520</th>\n",
       "      <td>http://dbpedia.org/resource/Category:Swedish_atheists</td>\n",
       "      <td>1</td>\n",
       "    </tr>\n",
       "    <tr>\n",
       "      <th>2152</th>\n",
       "      <td>http://dbpedia.org/resource/Category:Anglo-Scots</td>\n",
       "      <td>1</td>\n",
       "    </tr>\n",
       "    <tr>\n",
       "      <th>7522</th>\n",
       "      <td>http://dbpedia.org/resource/Category:Swedish_businesspeople</td>\n",
       "      <td>1</td>\n",
       "    </tr>\n",
       "    <tr>\n",
       "      <th>7991</th>\n",
       "      <td>http://dbpedia.org/resource/Category:Wikipedia_categories_named_after_wars</td>\n",
       "      <td>1</td>\n",
       "    </tr>\n",
       "    <tr>\n",
       "      <th>2155</th>\n",
       "      <td>http://dbpedia.org/resource/Category:Angolan_folk_singers</td>\n",
       "      <td>1</td>\n",
       "    </tr>\n",
       "    <tr>\n",
       "      <th>6052</th>\n",
       "      <td>http://dbpedia.org/resource/Category:Organizations_established_in_1991</td>\n",
       "      <td>1</td>\n",
       "    </tr>\n",
       "    <tr>\n",
       "      <th>7521</th>\n",
       "      <td>http://dbpedia.org/resource/Category:Swedish_autobiographers</td>\n",
       "      <td>1</td>\n",
       "    </tr>\n",
       "    <tr>\n",
       "      <th>7363</th>\n",
       "      <td>http://dbpedia.org/resource/Category:Soviet_classical_violists</td>\n",
       "      <td>1</td>\n",
       "    </tr>\n",
       "  </tbody>\n",
       "</table>\n",
       "</div>"
      ],
      "text/plain": [
       "                                                                                                                    resource  \\\n",
       "5125   http://dbpedia.org/resource/Category:Italian_geographers                                                                \n",
       "2113   http://dbpedia.org/resource/Category:American_schoolteachers                                                            \n",
       "6094   http://dbpedia.org/resource/Category:Pastor_family                                                                      \n",
       "6068   http://dbpedia.org/resource/Category:Oulipo_members                                                                     \n",
       "7986   http://dbpedia.org/resource/Category:Wikipedia_categories_named_after_universities_and_colleges_in_Argentina            \n",
       "7320   http://dbpedia.org/resource/Category:Socialists_by_nationality                                                          \n",
       "5142   http://dbpedia.org/resource/Category:Italian_nobility_by_title                                                          \n",
       "5135   http://dbpedia.org/resource/Category:Italian_murder_victims                                                             \n",
       "5692   http://dbpedia.org/resource/Category:Monegasque_male_singers                                                            \n",
       "5138   http://dbpedia.org/resource/Category:Italian_music_publishers_(people)                                                  \n",
       "2169   http://dbpedia.org/resource/Category:Apocalypticism                                                                     \n",
       "2170   http://dbpedia.org/resource/Category:Apocalypticists                                                                    \n",
       "14510  http://dbpedia.org/resource/Richard_Carlton                                                                             \n",
       "6039   http://dbpedia.org/resource/Category:Operetta                                                                           \n",
       "2161   http://dbpedia.org/resource/Category:Annual_events_in_Europe                                                            \n",
       "7183   http://dbpedia.org/resource/Category:Sardinia                                                                           \n",
       "8655   http://dbpedia.org/resource/Dance                                                                                       \n",
       "5149   http://dbpedia.org/resource/Category:Italian_philanthropists                                                            \n",
       "5413   http://dbpedia.org/resource/Category:Lists_of_royal_consorts                                                            \n",
       "5698   http://dbpedia.org/resource/Category:Monegasque_people_by_occupation                                                    \n",
       "6035   http://dbpedia.org/resource/Category:Operatic_countertenors                                                             \n",
       "7516   http://dbpedia.org/resource/Category:Swedish_accordionists                                                              \n",
       "2160   http://dbpedia.org/resource/Category:Annual_events_by_country                                                           \n",
       "13950  http://dbpedia.org/resource/Philip_Phile                                                                                \n",
       "7989   http://dbpedia.org/resource/Category:Wikipedia_categories_named_after_universities_and_colleges_in_the_United_Kingdom   \n",
       "6059   http://dbpedia.org/resource/Category:Ornithologists_by_nationality                                                      \n",
       "6056   http://dbpedia.org/resource/Category:Orientalism                                                                        \n",
       "7179   http://dbpedia.org/resource/Category:Salvationists_by_nationality                                                       \n",
       "6054   http://dbpedia.org/resource/Category:Organology                                                                         \n",
       "2146   http://dbpedia.org/resource/Category:Anglican_pacifists                                                                 \n",
       "5690   http://dbpedia.org/resource/Category:Monegasque_families                                                                \n",
       "2151   http://dbpedia.org/resource/Category:Anglo-Catholics                                                                    \n",
       "7520   http://dbpedia.org/resource/Category:Swedish_atheists                                                                   \n",
       "2152   http://dbpedia.org/resource/Category:Anglo-Scots                                                                        \n",
       "7522   http://dbpedia.org/resource/Category:Swedish_businesspeople                                                             \n",
       "7991   http://dbpedia.org/resource/Category:Wikipedia_categories_named_after_wars                                              \n",
       "2155   http://dbpedia.org/resource/Category:Angolan_folk_singers                                                               \n",
       "6052   http://dbpedia.org/resource/Category:Organizations_established_in_1991                                                  \n",
       "7521   http://dbpedia.org/resource/Category:Swedish_autobiographers                                                            \n",
       "7363   http://dbpedia.org/resource/Category:Soviet_classical_violists                                                          \n",
       "\n",
       "       count  \n",
       "5125   1      \n",
       "2113   1      \n",
       "6094   1      \n",
       "6068   1      \n",
       "7986   1      \n",
       "7320   1      \n",
       "5142   1      \n",
       "5135   1      \n",
       "5692   1      \n",
       "5138   1      \n",
       "2169   1      \n",
       "2170   1      \n",
       "14510  1      \n",
       "6039   1      \n",
       "2161   1      \n",
       "7183   1      \n",
       "8655   1      \n",
       "5149   1      \n",
       "5413   1      \n",
       "5698   1      \n",
       "6035   1      \n",
       "7516   1      \n",
       "2160   1      \n",
       "13950  1      \n",
       "7989   1      \n",
       "6059   1      \n",
       "6056   1      \n",
       "7179   1      \n",
       "6054   1      \n",
       "2146   1      \n",
       "5690   1      \n",
       "2151   1      \n",
       "7520   1      \n",
       "2152   1      \n",
       "7522   1      \n",
       "7991   1      \n",
       "2155   1      \n",
       "6052   1      \n",
       "7521   1      \n",
       "7363   1      "
      ]
     },
     "execution_count": 8,
     "metadata": {},
     "output_type": "execute_result"
    }
   ],
   "source": [
    "all_middle_resources_grouped.tail(40)"
   ]
  },
  {
   "cell_type": "code",
   "execution_count": 56,
   "metadata": {
    "collapsed": false,
    "deletable": true,
    "editable": true
   },
   "outputs": [
    {
     "name": "stdout",
     "output_type": "stream",
     "text": [
      "Total number of paths before removing duplicates: 41802195\n",
      "Total number of paths after removing duplicates: 23237774\n"
     ]
    }
   ],
   "source": [
    "print(\"Total number of paths before removing duplicates:\",starting_paths)\n",
    "print(\"Total number of paths after removing duplicates:\",current_paths)"
   ]
  },
  {
   "cell_type": "markdown",
   "metadata": {
    "deletable": true,
    "editable": true
   },
   "source": [
    "<div class=\"alert alert-success\">\n",
    "As you can see we have filtered out an half of paths.\n",
    "</div>"
   ]
  },
  {
   "cell_type": "markdown",
   "metadata": {
    "deletable": true,
    "editable": true
   },
   "source": [
    "### 2 - SECOND FILTERING STEP: REMOVE NOT INTERESTING RESOURCES AND CATEGORIES"
   ]
  },
  {
   "cell_type": "markdown",
   "metadata": {
    "deletable": true,
    "editable": true
   },
   "source": [
    "<div class=\"alert alert-success\">\n",
    "Now we want to remove the paths formed by resources that are not interesting because they are too generic. So we'll take the resources that appears too frequently in our paths and we'll delete the paths related to these.\n",
    "</div>"
   ]
  },
  {
   "cell_type": "code",
   "execution_count": 71,
   "metadata": {
    "collapsed": true,
    "deletable": true,
    "editable": true
   },
   "outputs": [],
   "source": [
    "#columns = df_paths.columns\n",
    "number_of_cols = len(columns)\n",
    "all_middle_resources_grouped = pd.DataFrame([],columns=['resource','count'])\n",
    "trace = 0"
   ]
  },
  {
   "cell_type": "code",
   "execution_count": 72,
   "metadata": {
    "collapsed": false,
    "deletable": true,
    "editable": true
   },
   "outputs": [],
   "source": [
    "for filepath in links_paths[trace:]:\n",
    "    df_paths = pd.read_pickle(filepath)\n",
    "    frames = [df_paths.groupby(col)[col].count().reset_index(name=\"count\").rename(columns={col:'resource','count':'count'}) for col in columns[2:-2:2]]\n",
    "    all_middle_resources = pd.concat([all_middle_resources_grouped,pd.concat(frames)])\n",
    "    all_middle_resources_grouped = (all_middle_resources\n",
    "                                        .groupby('resource')[\"count\"]\n",
    "                                        .sum().reset_index(name=\"count\")\n",
    "                                       )\n",
    "    trace += 1"
   ]
  },
  {
   "cell_type": "code",
   "execution_count": 73,
   "metadata": {
    "collapsed": false,
    "deletable": true,
    "editable": true
   },
   "outputs": [],
   "source": [
    "all_middle_resources_grouped = all_middle_resources_grouped.sort_values('count', ascending=False)"
   ]
  },
  {
   "cell_type": "code",
   "execution_count": 6,
   "metadata": {
    "collapsed": false,
    "deletable": true,
    "editable": true
   },
   "outputs": [],
   "source": [
    "bad_resources_1 = list(\n",
    "    all_middle_resources_grouped[all_middle_resources_grouped['count']>10000]\n",
    "    ['resource']\n",
    ")"
   ]
  },
  {
   "cell_type": "code",
   "execution_count": 91,
   "metadata": {
    "collapsed": true,
    "deletable": true,
    "editable": true
   },
   "outputs": [],
   "source": [
    "def isBad(x,arr_names,bad_resources):\n",
    "    for n in arr_names:\n",
    "        if x[n] in bad_resources:\n",
    "            return False\n",
    "    return True"
   ]
  },
  {
   "cell_type": "code",
   "execution_count": 96,
   "metadata": {
    "collapsed": true,
    "deletable": true,
    "editable": true
   },
   "outputs": [],
   "source": [
    "my_paths = pd.DataFrame([],columns=columns)\n",
    "trace = 0"
   ]
  },
  {
   "cell_type": "code",
   "execution_count": null,
   "metadata": {
    "collapsed": true,
    "deletable": true,
    "editable": true
   },
   "outputs": [],
   "source": [
    "for filepath in links_paths[trace:]:\n",
    "    if trace % 100 == 0:\n",
    "        print(trace)\n",
    "    df_paths = pd.read_pickle(filepath)\n",
    "    df_paths_rm_outliers= df_paths[df_paths.apply(lambda x: isBad(x,columns[2:-2:2],bad_resources_1), axis=1)].drop_duplicates()\n",
    "    my_paths = pd.concat([my_paths,df_paths_rm_outliers])\n",
    "    trace += 1"
   ]
  },
  {
   "cell_type": "markdown",
   "metadata": {
    "deletable": true,
    "editable": true
   },
   "source": [
    "<div class=\"alert alert-success\">\n",
    "As you can see looking at the table above there are resources that are resources that are present in over 40000 links. They are for sure ourliers, and we want to delete the associated links because, as you can see, they are too generic resorurces.\n",
    "To understand which the distribution of our resources we'll show a plot.\n",
    "</div>"
   ]
  },
  {
   "cell_type": "code",
   "execution_count": 59,
   "metadata": {
    "collapsed": true,
    "deletable": true,
    "editable": true
   },
   "outputs": [],
   "source": [
    "all_middle_resources_grouped_1=(all_middle_resources_grouped\n",
    "                                [all_middle_resources_grouped['count']<=10000]\n",
    "                               )"
   ]
  },
  {
   "cell_type": "code",
   "execution_count": 239,
   "metadata": {
    "collapsed": false,
    "deletable": true,
    "editable": true
   },
   "outputs": [
    {
     "data": {
      "image/png": "[encoded data removed]",
      "text/plain": [
       "<matplotlib.figure.Figure at 0x10fafbd68>"
      ]
     },
     "metadata": {},
     "output_type": "display_data"
    }
   ],
   "source": [
    "plt.figure(figsize=(20,10))\n",
    "sns.distplot(all_middle_resources_grouped_1['count'])\n",
    "sns.plt.show()"
   ]
  },
  {
   "cell_type": "markdown",
   "metadata": {
    "deletable": true,
    "editable": true
   },
   "source": [
    "<div class=\"alert alert-success\">\n",
    "The majority of our resources seems to be present around 1000-2000 times in our paths. Having some outliners, the zone around 1000-2000 is note really visible in the graph below; so we'll plot only this zone below.\n",
    "</div>"
   ]
  },
  {
   "cell_type": "code",
   "execution_count": 240,
   "metadata": {
    "collapsed": false,
    "deletable": true,
    "editable": true
   },
   "outputs": [
    {
     "data": {
      "image/png": "[encoded data removed]",
      "text/plain": [
       "<matplotlib.figure.Figure at 0x10ff91390>"
      ]
     },
     "metadata": {},
     "output_type": "display_data"
    }
   ],
   "source": [
    "plt.figure(figsize=(20,10))\n",
    "sns.distplot(all_middle_resources_grouped_1['count']).set(xlim=(0, 5000))\n",
    "sns.plt.show()"
   ]
  },
  {
   "cell_type": "code",
   "execution_count": 241,
   "metadata": {
    "collapsed": false,
    "deletable": true,
    "editable": true
   },
   "outputs": [
    {
     "data": {
      "image/png": "[encoded data removed]",
      "text/plain": [
       "<matplotlib.figure.Figure at 0x10fe8a2b0>"
      ]
     },
     "metadata": {},
     "output_type": "display_data"
    }
   ],
   "source": [
    "plt.figure(figsize=(20,10))\n",
    "sns.distplot(all_middle_resources_grouped_1['count']).set(xlim=(0, 2000))\n",
    "sns.plt.show()"
   ]
  },
  {
   "cell_type": "code",
   "execution_count": 242,
   "metadata": {
    "collapsed": false,
    "deletable": true,
    "editable": true
   },
   "outputs": [
    {
     "data": {
      "image/png": "[encoded data removed]",
      "text/plain": [
       "<matplotlib.figure.Figure at 0x10f6b8a90>"
      ]
     },
     "metadata": {},
     "output_type": "display_data"
    }
   ],
   "source": [
    "plt.figure(figsize=(20,10))\n",
    "sns.distplot(all_middle_resources_grouped_1['count']).set(xlim=(250, 500))\n",
    "sns.plt.show()"
   ]
  },
  {
   "cell_type": "markdown",
   "metadata": {
    "deletable": true,
    "editable": true
   },
   "source": [
    " <div class=\"alert alert-success\">\n",
    "Looking this plot we can note that the most of the resources is present around 1800 times in our paths. We started using this value as threshold to filter out all too generic resources that rapresent noise. Howerver this threshold was too high and some noise remained in our data, so we have set 500 as threshold.\n",
    "</div>"
   ]
  },
  {
   "cell_type": "code",
   "execution_count": 9,
   "metadata": {
    "collapsed": true,
    "deletable": true,
    "editable": true
   },
   "outputs": [],
   "source": [
    "bad_resources = list(all_middle_resources_grouped_1[all_middle_resources_grouped_1['count']>400]['resource'])"
   ]
  },
  {
   "cell_type": "code",
   "execution_count": 10,
   "metadata": {
    "collapsed": true,
    "deletable": true,
    "editable": true
   },
   "outputs": [],
   "source": [
    "def isBad(x,arr_names,bad_resources):\n",
    "    for n in arr_names:\n",
    "        if x[n] in bad_resources:\n",
    "            return False\n",
    "    return True"
   ]
  },
  {
   "cell_type": "code",
   "execution_count": 245,
   "metadata": {
    "collapsed": true,
    "deletable": true,
    "editable": true
   },
   "outputs": [],
   "source": [
    "trace = 0"
   ]
  },
  {
   "cell_type": "code",
   "execution_count": 246,
   "metadata": {
    "collapsed": true,
    "deletable": true,
    "editable": true
   },
   "outputs": [],
   "source": [
    "df_paths_rm_outliers= my_paths[my_paths.apply(lambda x: isBad(x,columns[2:-2:2],bad_resources), axis=1)].drop_duplicates()"
   ]
  },
  {
   "cell_type": "code",
   "execution_count": 247,
   "metadata": {
    "collapsed": false,
    "deletable": true,
    "editable": true
   },
   "outputs": [
    {
     "name": "stdout",
     "output_type": "stream",
     "text": [
      "Total number of paths:  1757\n"
     ]
    }
   ],
   "source": [
    "print(\"Total number of paths: \",len(df_paths_rm_outliers))"
   ]
  },
  {
   "cell_type": "markdown",
   "metadata": {
    "deletable": true,
    "editable": true
   },
   "source": [
    "<div class=\"alert alert-success\">\n",
    "As you can see, we have drastically reduced the total number of paths. \n",
    "</div>"
   ]
  },
  {
   "cell_type": "code",
   "execution_count": 75,
   "metadata": {
    "collapsed": true,
    "deletable": true,
    "editable": true
   },
   "outputs": [],
   "source": [
    "df_paths_rm_outliers.to_csv(\"artists_pois_paths_rm_outliers.csv\",index=False)"
   ]
  },
  {
   "cell_type": "code",
   "execution_count": 248,
   "metadata": {
    "collapsed": true,
    "deletable": true,
    "editable": true
   },
   "outputs": [],
   "source": [
    "df_paths_rm_outliers.to_pickle(\"df_paths_rm_outliers\")"
   ]
  },
  {
   "cell_type": "code",
   "execution_count": 112,
   "metadata": {
    "collapsed": true,
    "deletable": true,
    "editable": true
   },
   "outputs": [],
   "source": [
    "my_paths.to_pickle(\"my_paths\")"
   ]
  },
  {
   "cell_type": "markdown",
   "metadata": {
    "deletable": true,
    "editable": true
   },
   "source": [
    "### 3 - THIRD FILTERING STEP: PRESERVE ONLY SHORTEST PATHS"
   ]
  },
  {
   "cell_type": "markdown",
   "metadata": {
    "deletable": true,
    "editable": true
   },
   "source": [
    "<div class=\"alert alert-success\">\n",
    "Here we want to save only the shortest path between an artist and a POI. A shorter path doesn't mean certainly a better one. However the majority of our paths is really long (6 of depth), so this step is useful to delete all informations repeated.\n",
    "Let's suppose to have these 2 paths (the letters rappresent the resources): \n",
    "<ul>\n",
    "  <li>A->B->D->E->F</li>\n",
    "  <li>A->B->C->D->E->F</li>\n",
    "</ul>\n",
    "We want to preserve only the first one.\n",
    "</div>"
   ]
  },
  {
   "cell_type": "code",
   "execution_count": 3,
   "metadata": {
    "collapsed": true,
    "deletable": true,
    "editable": true
   },
   "outputs": [],
   "source": [
    "my_paths=pd.read_pickle(\"my_paths\").drop_duplicates()\n",
    "columns = my_paths.columns"
   ]
  },
  {
   "cell_type": "code",
   "execution_count": 57,
   "metadata": {
    "collapsed": false,
    "deletable": true,
    "editable": true
   },
   "outputs": [],
   "source": [
    "paths_np = my_paths.as_matrix()"
   ]
  },
  {
   "cell_type": "code",
   "execution_count": 58,
   "metadata": {
    "collapsed": false,
    "deletable": true,
    "editable": true
   },
   "outputs": [],
   "source": [
    "filtered_np_as_dict = {}\n",
    "for count,line in enumerate(paths_np):\n",
    "    entity = line[0]\n",
    "    poi = line[-1]\n",
    "    key=entity+poi\n",
    "    #print(count)\n",
    "    if not key in filtered_np_as_dict:\n",
    "        #print(1)\n",
    "        filtered_np_as_dict[key] = [line]\n",
    "    else:\n",
    "        #print(2)\n",
    "        oldlines=filtered_np_as_dict[key]\n",
    "        #print(oldlines)\n",
    "        for i,ol in enumerate(oldlines):\n",
    "            #print (ol)\n",
    "            len1 = len([value for value in ol if type(value)!=float])\n",
    "            len2 = len([value for value in line if type(value)!=float])\n",
    "            if len1 > len2:\n",
    "                #print('a')\n",
    "                filtered_np_as_dict[key][i] = line\n",
    "            elif len1 == len2:\n",
    "                #print('b')\n",
    "                filtered_np_as_dict[key] = oldlines +[line]"
   ]
  },
  {
   "cell_type": "code",
   "execution_count": 59,
   "metadata": {
    "collapsed": false,
    "deletable": true,
    "editable": true
   },
   "outputs": [],
   "source": [
    "values_filtered_np_as_dict=filtered_np_as_dict.values()\n",
    "paths_filtered = pd.DataFrame(np.array([j for i in values_filtered_np_as_dict for j in i]),columns=columns).drop_duplicates()"
   ]
  },
  {
   "cell_type": "code",
   "execution_count": 82,
   "metadata": {
    "collapsed": false,
    "deletable": true,
    "editable": true
   },
   "outputs": [
    {
     "data": {
      "text/plain": [
       "27931"
      ]
     },
     "execution_count": 82,
     "metadata": {},
     "output_type": "execute_result"
    }
   ],
   "source": [
    "len(paths_filtered)"
   ]
  },
  {
   "cell_type": "code",
   "execution_count": 83,
   "metadata": {
    "collapsed": true,
    "deletable": true,
    "editable": true
   },
   "outputs": [],
   "source": [
    "paths_filtered.to_pickle('paths_filtered')"
   ]
  },
  {
   "cell_type": "code",
   "execution_count": 21,
   "metadata": {
    "collapsed": true,
    "deletable": true,
    "editable": true
   },
   "outputs": [],
   "source": [
    "paths_filtered = pd.read_pickle('paths_filtered')"
   ]
  },
  {
   "cell_type": "markdown",
   "metadata": {
    "deletable": true,
    "editable": true
   },
   "source": [
    "<div class=\"alert alert-success\">\n",
    "The table above shows a sample of paths that we obtained after 3 filtering steps. There are some bad paths; however some interesting paths start appearing as at line 16.\n",
    "</div>"
   ]
  },
  {
   "cell_type": "code",
   "execution_count": 12,
   "metadata": {
    "collapsed": false,
    "deletable": true,
    "editable": true
   },
   "outputs": [],
   "source": [
    "columns =paths_filtered.columns"
   ]
  },
  {
   "cell_type": "code",
   "execution_count": 62,
   "metadata": {
    "collapsed": false,
    "deletable": true,
    "editable": true
   },
   "outputs": [
    {
     "name": "stdout",
     "output_type": "stream",
     "text": [
      "0\n",
      "1000\n",
      "2000\n",
      "3000\n",
      "4000\n",
      "5000\n",
      "6000\n",
      "7000\n",
      "8000\n",
      "9000\n",
      "10000\n",
      "11000\n",
      "12000\n",
      "13000\n",
      "14000\n",
      "15000\n",
      "16000\n",
      "17000\n",
      "18000\n",
      "19000\n",
      "20000\n",
      "21000\n",
      "22000\n",
      "23000\n",
      "24000\n",
      "25000\n",
      "26000\n",
      "27000\n"
     ]
    }
   ],
   "source": [
    "paths_filtered['path_lenght']= paths_filtered.apply(lambda row: 1+len([row[col] for col in columns[2:-2:2] if type(row[col])!=float]),axis=1)\n",
    "paths_filtered = paths_filtered.sort_values('path_lenght', ascending=True).drop_duplicates()\n",
    "paths_filtered_np = paths_filtered.as_matrix()\n",
    "paths_filtered_with_generality_np = []\n",
    "for i,path in enumerate(paths_filtered_np):\n",
    "    if i % 1000 == 0:\n",
    "        print (i)\n",
    "    total_count = 0\n",
    "    full_cells = 0\n",
    "    for o in path[2:-2:2]:\n",
    "        if type(o) != float:\n",
    "            total_count += int(all_middle_resources_grouped_1[all_middle_resources_grouped_1['resource']==o]['count'])\n",
    "            full_cells += 1\n",
    "    new_path = np.append(path, total_count/full_cells)\n",
    "    paths_filtered_with_generality_np.append(new_path)"
   ]
  },
  {
   "cell_type": "code",
   "execution_count": 63,
   "metadata": {
    "collapsed": true,
    "deletable": true,
    "editable": true
   },
   "outputs": [],
   "source": [
    "paths_filtered_with_generality_pd = pd.DataFrame(paths_filtered_with_generality_np,\n",
    "                                 columns=['entity', 'p1', 'o1', 'p2', 'o2', 'p3', 'o', 'p3_', 'o2_', 'p2_', 'o1_','p1_', 'poi','lenght','generality'])\n",
    "paths_filtered_with_generality_pd.to_pickle('paths_filtered_with_generality_pd')"
   ]
  },
  {
   "cell_type": "code",
   "execution_count": null,
   "metadata": {
    "collapsed": true,
    "deletable": true,
    "editable": true
   },
   "outputs": [],
   "source": [
    "from math import log\n",
    "def getScore(dist,generality,min_generality,max_generality,max_dist,a=0.3,b=0.7):\n",
    "    normalized_generality = (generality -min_generality)/(max_generality-min_generality)\n",
    "    return 1- a*(log(dist + 2)/log(2*(max_dist-1))) - b*normalized_generality\n",
    "\n",
    "paths_filtered_with_score_np = []\n",
    "min_generality = np.min(np.transpose(np.array(paths_filtered_with_generality_np))[-1])\n",
    "max_generality = np.max(np.transpose(np.array(paths_filtered_with_generality_np))[-1])\n",
    "max_dist = np.max(np.transpose(np.array(paths_filtered_with_generality_np))[-2])\n",
    "for i,path in enumerate(paths_filtered_with_generality_np):\n",
    "    if i % 1000 == 0:\n",
    "        print (i)\n",
    "    total_count = 0\n",
    "    full_cells = 0\n",
    "    generality = path[-1]\n",
    "    dist = path[-2]\n",
    "    score = getScore(dist,generality,min_generality,max_generality,max_dist,a=0.3,b=0.7)\n",
    "    new_path = np.append(path[:-2], score)\n",
    "    paths_filtered_with_score_np.append(new_path)\n",
    "    #print(paths_filtered_with_score_np)\n"
   ]
  },
  {
   "cell_type": "code",
   "execution_count": 77,
   "metadata": {
    "collapsed": true,
    "deletable": true,
    "editable": true
   },
   "outputs": [],
   "source": [
    "paths_filtered_with_score_np_t = list(np.transpose(np.array(paths_filtered_with_score_np)))\n",
    "scores = paths_filtered_with_score_np_t[-1]\n",
    "normalized_scores = (scores - np.mean(scores))/np.std(scores)\n",
    "paths_filtered_with_score_np_final = np.transpose(np.array(paths_filtered_with_score_np_t+[normalized_scores]))"
   ]
  },
  {
   "cell_type": "code",
   "execution_count": null,
   "metadata": {
    "collapsed": true,
    "deletable": true,
    "editable": true
   },
   "outputs": [],
   "source": [
    "new_cols = ['entity', 'p1', 'o1', 'p2', 'o2', 'p3', 'o', 'p3_', 'o2_', 'p2_', 'o1_','p1_', 'poi','score','gaussian_score']\n",
    "paths_filtered_with_score = pd.DataFrame(paths_filtered_with_score_np_final,columns=new_cols).sort_values('score', ascending=False).drop_duplicates()\n"
   ]
  },
  {
   "cell_type": "code",
   "execution_count": 79,
   "metadata": {
    "collapsed": false,
    "deletable": true,
    "editable": true
   },
   "outputs": [
    {
     "data": {
      "image/png": "[encoded data removed]",
      "text/plain": [
       "<matplotlib.figure.Figure at 0x10c7285f8>"
      ]
     },
     "metadata": {},
     "output_type": "display_data"
    }
   ],
   "source": [
    "sns.distplot(paths_filtered_with_score['score'])\n",
    "plt.show()"
   ]
  },
  {
   "cell_type": "code",
   "execution_count": 80,
   "metadata": {
    "collapsed": false,
    "deletable": true,
    "editable": true
   },
   "outputs": [
    {
     "data": {
      "image/png": "[encoded data removed]",
      "text/plain": [
       "<matplotlib.figure.Figure at 0x10c728f28>"
      ]
     },
     "metadata": {},
     "output_type": "display_data"
    }
   ],
   "source": [
    "sns.distplot(paths_filtered_with_score['gaussian_score'])\n",
    "plt.show()"
   ]
  },
  {
   "cell_type": "code",
   "execution_count": 81,
   "metadata": {
    "collapsed": true,
    "deletable": true,
    "editable": true
   },
   "outputs": [],
   "source": [
    "paths_filtered_with_score.to_pickle('paths_filtered_with_score')"
   ]
  },
  {
   "cell_type": "code",
   "execution_count": 2,
   "metadata": {
    "collapsed": true
   },
   "outputs": [],
   "source": [
    "paths_filtered_with_generality_pd = pd.read_pickle(\"paths_filtered_with_generality_pd\")"
   ]
  },
  {
   "cell_type": "code",
   "execution_count": 97,
   "metadata": {
    "collapsed": false,
    "deletable": true,
    "editable": true
   },
   "outputs": [],
   "source": [
    "final_pois = list(pd.read_csv(input_directory+'dbpedia_match_nogeo_distinct.csv')['dbpedia_uri'].drop_duplicates())"
   ]
  },
  {
   "cell_type": "code",
   "execution_count": 84,
   "metadata": {
    "collapsed": true,
    "deletable": true,
    "editable": true
   },
   "outputs": [],
   "source": [
    "input_directory = \"input_files/\"\n",
    "import json\n",
    "with open(input_directory+'artists_tracks_start.json','r') as f:\n",
    "    df_artist_spotify  = json.load(f).keys()\n",
    "pickle.dump(list(df_artist_spotify), open( \"df_artist_spotify\", \"wb\" ) )\n",
    "with open(\"df_artist_spotify\",'rb') as f:\n",
    "    df_artist_spotify = pickle.load(f)\n",
    "    \n"
   ]
  },
  {
   "cell_type": "code",
   "execution_count": 103,
   "metadata": {
    "collapsed": true,
    "deletable": true,
    "editable": true
   },
   "outputs": [],
   "source": [
    "paths_sportify = paths_filtered_with_score[paths_filtered_with_score['entity'].isin(df_artist_spotify)]"
   ]
  },
  {
   "cell_type": "code",
   "execution_count": 107,
   "metadata": {
    "collapsed": false,
    "deletable": true,
    "editable": true
   },
   "outputs": [],
   "source": [
    "paths_final = paths_sportify[paths_sportify['poi'].isin(final_pois)]"
   ]
  },
  {
   "cell_type": "code",
   "execution_count": 116,
   "metadata": {
    "collapsed": true,
    "deletable": true,
    "editable": true
   },
   "outputs": [],
   "source": [
    "paths_final.columns = ['artist']+[c for c in paths_final.columns[1:]]"
   ]
  },
  {
   "cell_type": "code",
   "execution_count": 119,
   "metadata": {
    "collapsed": true,
    "deletable": true,
    "editable": true
   },
   "outputs": [],
   "source": [
    "paths_final.to_csv('myPaths.csv',index=False)"
   ]
  },
  {
   "cell_type": "code",
   "execution_count": 14,
   "metadata": {
    "collapsed": true,
    "deletable": true,
    "editable": true
   },
   "outputs": [],
   "source": [
    "paths_final = pd.read_csv(\"myPaths.csv\")"
   ]
  },
  {
   "cell_type": "code",
   "execution_count": null,
   "metadata": {
    "collapsed": true,
    "deletable": true,
    "editable": true
   },
   "outputs": [],
   "source": [
    "df_artists.head()"
   ]
  },
  {
   "cell_type": "code",
   "execution_count": 6,
   "metadata": {
    "collapsed": false,
    "deletable": true,
    "editable": true
   },
   "outputs": [],
   "source": [
    "artists_remaining = list(paths_final['artist'].drop_duplicates())"
   ]
  },
  {
   "cell_type": "code",
   "execution_count": 7,
   "metadata": {
    "collapsed": false,
    "deletable": true,
    "editable": true
   },
   "outputs": [
    {
     "data": {
      "text/plain": [
       "2025"
      ]
     },
     "execution_count": 7,
     "metadata": {},
     "output_type": "execute_result"
    }
   ],
   "source": [
    "len(artists_remaining)"
   ]
  },
  {
   "cell_type": "code",
   "execution_count": 13,
   "metadata": {
    "collapsed": false,
    "deletable": true,
    "editable": true
   },
   "outputs": [
    {
     "data": {
      "text/plain": [
       "6026"
      ]
     },
     "execution_count": 13,
     "metadata": {},
     "output_type": "execute_result"
    }
   ],
   "source": [
    "len(df_artists['uri_dbpedia'].drop_duplicates())"
   ]
  },
  {
   "cell_type": "code",
   "execution_count": 30,
   "metadata": {
    "collapsed": false,
    "deletable": true,
    "editable": true
   },
   "outputs": [],
   "source": [
    "df_artists_to_query = df_artists[df_artists['uri_dbpedia'].isin(artists_remaining)]"
   ]
  },
  {
   "cell_type": "code",
   "execution_count": 31,
   "metadata": {
    "collapsed": false,
    "deletable": true,
    "editable": true
   },
   "outputs": [
    {
     "data": {
      "text/html": [
       "<div>\n",
       "<style>\n",
       "    .dataframe thead tr:only-child th {\n",
       "        text-align: right;\n",
       "    }\n",
       "\n",
       "    .dataframe thead th {\n",
       "        text-align: left;\n",
       "    }\n",
       "\n",
       "    .dataframe tbody tr th {\n",
       "        vertical-align: top;\n",
       "    }\n",
       "</style>\n",
       "<table border=\"1\" class=\"dataframe\">\n",
       "  <thead>\n",
       "    <tr style=\"text-align: right;\">\n",
       "      <th></th>\n",
       "      <th>uri_doremus</th>\n",
       "      <th>uri_dbpedia</th>\n",
       "      <th>rank</th>\n",
       "    </tr>\n",
       "  </thead>\n",
       "  <tbody>\n",
       "    <tr>\n",
       "      <th>7</th>\n",
       "      <td>http://data.doremus.org/artist/1761d16f-7b95-39e2-9bb4-3c963ded19f8</td>\n",
       "      <td>http://dbpedia.org/resource/Charles_Trenet</td>\n",
       "      <td>1.0</td>\n",
       "    </tr>\n",
       "    <tr>\n",
       "      <th>8</th>\n",
       "      <td>http://data.doremus.org/artist/54e2fb95-0fc1-37c8-8ea7-56a2358ea71c</td>\n",
       "      <td>http://dbpedia.org/resource/Sergiu_Celibidache</td>\n",
       "      <td>1.0</td>\n",
       "    </tr>\n",
       "    <tr>\n",
       "      <th>9</th>\n",
       "      <td>http://data.doremus.org/artist/81a8e33c-e93f-39d7-89a0-3d756c839270</td>\n",
       "      <td>http://dbpedia.org/resource/Charles_Villiers_Stanford</td>\n",
       "      <td>1.0</td>\n",
       "    </tr>\n",
       "    <tr>\n",
       "      <th>10</th>\n",
       "      <td>http://data.doremus.org/artist/3828eb43-0f08-3a90-9c70-f4c282bbf6ac</td>\n",
       "      <td>http://dbpedia.org/resource/Sergio_Ortega</td>\n",
       "      <td>1.0</td>\n",
       "    </tr>\n",
       "    <tr>\n",
       "      <th>11</th>\n",
       "      <td>http://data.doremus.org/artist/86c0ce8f-2f2c-35b9-b0a9-3733663437ae</td>\n",
       "      <td>http://dbpedia.org/resource/Soulima_Stravinsky</td>\n",
       "      <td>1.0</td>\n",
       "    </tr>\n",
       "  </tbody>\n",
       "</table>\n",
       "</div>"
      ],
      "text/plain": [
       "                                                            uri_doremus  \\\n",
       "7   http://data.doremus.org/artist/1761d16f-7b95-39e2-9bb4-3c963ded19f8   \n",
       "8   http://data.doremus.org/artist/54e2fb95-0fc1-37c8-8ea7-56a2358ea71c   \n",
       "9   http://data.doremus.org/artist/81a8e33c-e93f-39d7-89a0-3d756c839270   \n",
       "10  http://data.doremus.org/artist/3828eb43-0f08-3a90-9c70-f4c282bbf6ac   \n",
       "11  http://data.doremus.org/artist/86c0ce8f-2f2c-35b9-b0a9-3733663437ae   \n",
       "\n",
       "                                              uri_dbpedia  rank  \n",
       "7   http://dbpedia.org/resource/Charles_Trenet             1.0   \n",
       "8   http://dbpedia.org/resource/Sergiu_Celibidache         1.0   \n",
       "9   http://dbpedia.org/resource/Charles_Villiers_Stanford  1.0   \n",
       "10  http://dbpedia.org/resource/Sergio_Ortega              1.0   \n",
       "11  http://dbpedia.org/resource/Soulima_Stravinsky         1.0   "
      ]
     },
     "execution_count": 31,
     "metadata": {},
     "output_type": "execute_result"
    }
   ],
   "source": [
    "df_artists_to_query.head()"
   ]
  },
  {
   "cell_type": "code",
   "execution_count": 24,
   "metadata": {
    "collapsed": true,
    "deletable": true,
    "editable": true
   },
   "outputs": [],
   "source": [
    "df_artists_to_query.to_csv(\"doremus_dbpedia_artists.csv\",index=False)"
   ]
  },
  {
   "cell_type": "code",
   "execution_count": 25,
   "metadata": {
    "collapsed": false,
    "deletable": true,
    "editable": true
   },
   "outputs": [],
   "source": [
    "df_artists_to_query = pd.read_csv(\"doremus_dbpedia_artists.csv\")"
   ]
  },
  {
   "cell_type": "code",
   "execution_count": 26,
   "metadata": {
    "collapsed": false,
    "deletable": true,
    "editable": true
   },
   "outputs": [
    {
     "data": {
      "text/html": [
       "<div>\n",
       "<style>\n",
       "    .dataframe thead tr:only-child th {\n",
       "        text-align: right;\n",
       "    }\n",
       "\n",
       "    .dataframe thead th {\n",
       "        text-align: left;\n",
       "    }\n",
       "\n",
       "    .dataframe tbody tr th {\n",
       "        vertical-align: top;\n",
       "    }\n",
       "</style>\n",
       "<table border=\"1\" class=\"dataframe\">\n",
       "  <thead>\n",
       "    <tr style=\"text-align: right;\">\n",
       "      <th></th>\n",
       "      <th>uri_doremus</th>\n",
       "      <th>uri_dbpedia</th>\n",
       "      <th>rank</th>\n",
       "    </tr>\n",
       "  </thead>\n",
       "  <tbody>\n",
       "    <tr>\n",
       "      <th>0</th>\n",
       "      <td>http://data.doremus.org/artist/1761d16f-7b95-39e2-9bb4-3c963ded19f8</td>\n",
       "      <td>http://dbpedia.org/resource/Charles_Trenet</td>\n",
       "      <td>1.0</td>\n",
       "    </tr>\n",
       "    <tr>\n",
       "      <th>1</th>\n",
       "      <td>http://data.doremus.org/artist/54e2fb95-0fc1-37c8-8ea7-56a2358ea71c</td>\n",
       "      <td>http://dbpedia.org/resource/Sergiu_Celibidache</td>\n",
       "      <td>1.0</td>\n",
       "    </tr>\n",
       "    <tr>\n",
       "      <th>2</th>\n",
       "      <td>http://data.doremus.org/artist/81a8e33c-e93f-39d7-89a0-3d756c839270</td>\n",
       "      <td>http://dbpedia.org/resource/Charles_Villiers_Stanford</td>\n",
       "      <td>1.0</td>\n",
       "    </tr>\n",
       "    <tr>\n",
       "      <th>3</th>\n",
       "      <td>http://data.doremus.org/artist/3828eb43-0f08-3a90-9c70-f4c282bbf6ac</td>\n",
       "      <td>http://dbpedia.org/resource/Sergio_Ortega</td>\n",
       "      <td>1.0</td>\n",
       "    </tr>\n",
       "    <tr>\n",
       "      <th>4</th>\n",
       "      <td>http://data.doremus.org/artist/86c0ce8f-2f2c-35b9-b0a9-3733663437ae</td>\n",
       "      <td>http://dbpedia.org/resource/Soulima_Stravinsky</td>\n",
       "      <td>1.0</td>\n",
       "    </tr>\n",
       "  </tbody>\n",
       "</table>\n",
       "</div>"
      ],
      "text/plain": [
       "                                                           uri_doremus  \\\n",
       "0  http://data.doremus.org/artist/1761d16f-7b95-39e2-9bb4-3c963ded19f8   \n",
       "1  http://data.doremus.org/artist/54e2fb95-0fc1-37c8-8ea7-56a2358ea71c   \n",
       "2  http://data.doremus.org/artist/81a8e33c-e93f-39d7-89a0-3d756c839270   \n",
       "3  http://data.doremus.org/artist/3828eb43-0f08-3a90-9c70-f4c282bbf6ac   \n",
       "4  http://data.doremus.org/artist/86c0ce8f-2f2c-35b9-b0a9-3733663437ae   \n",
       "\n",
       "                                             uri_dbpedia  rank  \n",
       "0  http://dbpedia.org/resource/Charles_Trenet             1.0   \n",
       "1  http://dbpedia.org/resource/Sergiu_Celibidache         1.0   \n",
       "2  http://dbpedia.org/resource/Charles_Villiers_Stanford  1.0   \n",
       "3  http://dbpedia.org/resource/Sergio_Ortega              1.0   \n",
       "4  http://dbpedia.org/resource/Soulima_Stravinsky         1.0   "
      ]
     },
     "execution_count": 26,
     "metadata": {},
     "output_type": "execute_result"
    }
   ],
   "source": [
    "df_artists_to_query.head()"
   ]
  },
  {
   "cell_type": "code",
   "execution_count": 32,
   "metadata": {
    "collapsed": false,
    "deletable": true,
    "editable": true
   },
   "outputs": [
    {
     "data": {
      "text/html": [
       "<div>\n",
       "<style>\n",
       "    .dataframe thead tr:only-child th {\n",
       "        text-align: right;\n",
       "    }\n",
       "\n",
       "    .dataframe thead th {\n",
       "        text-align: left;\n",
       "    }\n",
       "\n",
       "    .dataframe tbody tr th {\n",
       "        vertical-align: top;\n",
       "    }\n",
       "</style>\n",
       "<table border=\"1\" class=\"dataframe\">\n",
       "  <thead>\n",
       "    <tr style=\"text-align: right;\">\n",
       "      <th></th>\n",
       "      <th>uri_doremus</th>\n",
       "      <th>uri_dbpedia</th>\n",
       "      <th>rank</th>\n",
       "    </tr>\n",
       "  </thead>\n",
       "  <tbody>\n",
       "    <tr>\n",
       "      <th>2576</th>\n",
       "      <td>http://data.doremus.org/artist/c503f5ea-e3a4-313d-8855-0aece5f5ab23</td>\n",
       "      <td>http://dbpedia.org/resource/Manuel_Quiroga_(violinist)</td>\n",
       "      <td>1.0</td>\n",
       "    </tr>\n",
       "  </tbody>\n",
       "</table>\n",
       "</div>"
      ],
      "text/plain": [
       "                                                              uri_doremus  \\\n",
       "2576  http://data.doremus.org/artist/c503f5ea-e3a4-313d-8855-0aece5f5ab23   \n",
       "\n",
       "                                                 uri_dbpedia  rank  \n",
       "2576  http://dbpedia.org/resource/Manuel_Quiroga_(violinist)  1.0   "
      ]
     },
     "execution_count": 32,
     "metadata": {},
     "output_type": "execute_result"
    }
   ],
   "source": [
    "df_artists_to_query[df_artists_to_query['uri_dbpedia'] == 'http://dbpedia.org/resource/Manuel_Quiroga_(violinist)']"
   ]
  },
  {
   "cell_type": "code",
   "execution_count": 35,
   "metadata": {
    "collapsed": false,
    "deletable": true,
    "editable": true
   },
   "outputs": [
    {
     "data": {
      "text/html": [
       "<div>\n",
       "<style>\n",
       "    .dataframe thead tr:only-child th {\n",
       "        text-align: right;\n",
       "    }\n",
       "\n",
       "    .dataframe thead th {\n",
       "        text-align: left;\n",
       "    }\n",
       "\n",
       "    .dataframe tbody tr th {\n",
       "        vertical-align: top;\n",
       "    }\n",
       "</style>\n",
       "<table border=\"1\" class=\"dataframe\">\n",
       "  <thead>\n",
       "    <tr style=\"text-align: right;\">\n",
       "      <th></th>\n",
       "      <th>artist</th>\n",
       "      <th>p1</th>\n",
       "      <th>o1</th>\n",
       "      <th>p2</th>\n",
       "      <th>o2</th>\n",
       "      <th>p3</th>\n",
       "      <th>o</th>\n",
       "      <th>p3_</th>\n",
       "      <th>o2_</th>\n",
       "      <th>p2_</th>\n",
       "      <th>o1_</th>\n",
       "      <th>p1_</th>\n",
       "      <th>poi</th>\n",
       "      <th>score</th>\n",
       "      <th>gaussian_score</th>\n",
       "    </tr>\n",
       "  </thead>\n",
       "  <tbody>\n",
       "    <tr>\n",
       "      <th>4011</th>\n",
       "      <td>http://dbpedia.org/resource/Manuel_Quiroga_(violinist)</td>\n",
       "      <td>http://purl.org/dc/terms/subject</td>\n",
       "      <td>http://dbpedia.org/resource/Category:Madrid_Royal_Conservatory_alumni</td>\n",
       "      <td>http://www.w3.org/2004/02/skos/core#broader</td>\n",
       "      <td>http://dbpedia.org/resource/Category:Alumni_by_music_school</td>\n",
       "      <td>http://www.w3.org/2004/02/skos/core#broader</td>\n",
       "      <td>http://dbpedia.org/resource/Category:Music_schools</td>\n",
       "      <td>http://www.w3.org/2004/02/skos/core#broader</td>\n",
       "      <td>http://dbpedia.org/resource/Category:Music_schools_by_country</td>\n",
       "      <td>http://www.w3.org/2004/02/skos/core#broader</td>\n",
       "      <td>http://dbpedia.org/resource/Category:Music_schools_in_France</td>\n",
       "      <td>http://purl.org/dc/terms/subject</td>\n",
       "      <td>http://dbpedia.org/resource/Conservatory_of_Nice</td>\n",
       "      <td>0.618624</td>\n",
       "      <td>0.549236</td>\n",
       "    </tr>\n",
       "    <tr>\n",
       "      <th>4225</th>\n",
       "      <td>http://dbpedia.org/resource/Manuel_Quiroga_(violinist)</td>\n",
       "      <td>http://purl.org/dc/terms/subject</td>\n",
       "      <td>http://dbpedia.org/resource/Category:Conservatoire_de_Paris_alumni</td>\n",
       "      <td>http://www.w3.org/2004/02/skos/core#broader</td>\n",
       "      <td>http://dbpedia.org/resource/Category:Alumni_by_music_school</td>\n",
       "      <td>http://www.w3.org/2004/02/skos/core#broader</td>\n",
       "      <td>http://dbpedia.org/resource/Category:Music_schools</td>\n",
       "      <td>http://www.w3.org/2004/02/skos/core#broader</td>\n",
       "      <td>http://dbpedia.org/resource/Category:Music_schools_by_country</td>\n",
       "      <td>http://www.w3.org/2004/02/skos/core#broader</td>\n",
       "      <td>http://dbpedia.org/resource/Category:Music_schools_in_France</td>\n",
       "      <td>http://purl.org/dc/terms/subject</td>\n",
       "      <td>http://dbpedia.org/resource/Conservatory_of_Nice</td>\n",
       "      <td>0.615118</td>\n",
       "      <td>0.519337</td>\n",
       "    </tr>\n",
       "    <tr>\n",
       "      <th>10194</th>\n",
       "      <td>http://dbpedia.org/resource/Manuel_Quiroga_(violinist)</td>\n",
       "      <td>http://purl.org/dc/terms/subject</td>\n",
       "      <td>http://dbpedia.org/resource/Category:Spanish_composers</td>\n",
       "      <td>http://www.w3.org/2004/02/skos/core#related</td>\n",
       "      <td>http://dbpedia.org/resource/Category:Spain</td>\n",
       "      <td>http://www.w3.org/2004/02/skos/core#broader</td>\n",
       "      <td>http://dbpedia.org/resource/Category:Kingdoms</td>\n",
       "      <td>http://www.w3.org/2004/02/skos/core#broader</td>\n",
       "      <td>http://dbpedia.org/resource/Category:Former_kingdoms</td>\n",
       "      <td>http://www.w3.org/2004/02/skos/core#broader</td>\n",
       "      <td>http://dbpedia.org/resource/Category:Kingdom_of_Sardinia</td>\n",
       "      <td>http://purl.org/dc/terms/subject</td>\n",
       "      <td>http://dbpedia.org/resource/County_of_Nice</td>\n",
       "      <td>0.418093</td>\n",
       "      <td>-1.160575</td>\n",
       "    </tr>\n",
       "    <tr>\n",
       "      <th>11886</th>\n",
       "      <td>http://dbpedia.org/resource/Manuel_Quiroga_(violinist)</td>\n",
       "      <td>http://purl.org/dc/terms/subject</td>\n",
       "      <td>http://dbpedia.org/resource/Category:Spanish_composers</td>\n",
       "      <td>http://www.w3.org/2004/02/skos/core#related</td>\n",
       "      <td>http://dbpedia.org/resource/Category:Spain</td>\n",
       "      <td>http://www.w3.org/2004/02/skos/core#broader</td>\n",
       "      <td>http://dbpedia.org/resource/Category:Wikipedia_categories_named_after_countries</td>\n",
       "      <td>http://www.w3.org/2004/02/skos/core#broader</td>\n",
       "      <td>http://dbpedia.org/resource/Category:Wikipedia_categories_named_after_former_countries</td>\n",
       "      <td>http://www.w3.org/2004/02/skos/core#broader</td>\n",
       "      <td>http://dbpedia.org/resource/Category:Kingdom_of_Sardinia</td>\n",
       "      <td>http://purl.org/dc/terms/subject</td>\n",
       "      <td>http://dbpedia.org/resource/County_of_Nice</td>\n",
       "      <td>0.293850</td>\n",
       "      <td>-2.219925</td>\n",
       "    </tr>\n",
       "  </tbody>\n",
       "</table>\n",
       "</div>"
      ],
      "text/plain": [
       "                                                       artist  \\\n",
       "4011   http://dbpedia.org/resource/Manuel_Quiroga_(violinist)   \n",
       "4225   http://dbpedia.org/resource/Manuel_Quiroga_(violinist)   \n",
       "10194  http://dbpedia.org/resource/Manuel_Quiroga_(violinist)   \n",
       "11886  http://dbpedia.org/resource/Manuel_Quiroga_(violinist)   \n",
       "\n",
       "                                     p1  \\\n",
       "4011   http://purl.org/dc/terms/subject   \n",
       "4225   http://purl.org/dc/terms/subject   \n",
       "10194  http://purl.org/dc/terms/subject   \n",
       "11886  http://purl.org/dc/terms/subject   \n",
       "\n",
       "                                                                          o1  \\\n",
       "4011   http://dbpedia.org/resource/Category:Madrid_Royal_Conservatory_alumni   \n",
       "4225   http://dbpedia.org/resource/Category:Conservatoire_de_Paris_alumni      \n",
       "10194  http://dbpedia.org/resource/Category:Spanish_composers                  \n",
       "11886  http://dbpedia.org/resource/Category:Spanish_composers                  \n",
       "\n",
       "                                                p2  \\\n",
       "4011   http://www.w3.org/2004/02/skos/core#broader   \n",
       "4225   http://www.w3.org/2004/02/skos/core#broader   \n",
       "10194  http://www.w3.org/2004/02/skos/core#related   \n",
       "11886  http://www.w3.org/2004/02/skos/core#related   \n",
       "\n",
       "                                                                o2  \\\n",
       "4011   http://dbpedia.org/resource/Category:Alumni_by_music_school   \n",
       "4225   http://dbpedia.org/resource/Category:Alumni_by_music_school   \n",
       "10194  http://dbpedia.org/resource/Category:Spain                    \n",
       "11886  http://dbpedia.org/resource/Category:Spain                    \n",
       "\n",
       "                                                p3  \\\n",
       "4011   http://www.w3.org/2004/02/skos/core#broader   \n",
       "4225   http://www.w3.org/2004/02/skos/core#broader   \n",
       "10194  http://www.w3.org/2004/02/skos/core#broader   \n",
       "11886  http://www.w3.org/2004/02/skos/core#broader   \n",
       "\n",
       "                                                                                     o  \\\n",
       "4011   http://dbpedia.org/resource/Category:Music_schools                                \n",
       "4225   http://dbpedia.org/resource/Category:Music_schools                                \n",
       "10194  http://dbpedia.org/resource/Category:Kingdoms                                     \n",
       "11886  http://dbpedia.org/resource/Category:Wikipedia_categories_named_after_countries   \n",
       "\n",
       "                                               p3_  \\\n",
       "4011   http://www.w3.org/2004/02/skos/core#broader   \n",
       "4225   http://www.w3.org/2004/02/skos/core#broader   \n",
       "10194  http://www.w3.org/2004/02/skos/core#broader   \n",
       "11886  http://www.w3.org/2004/02/skos/core#broader   \n",
       "\n",
       "                                                                                          o2_  \\\n",
       "4011   http://dbpedia.org/resource/Category:Music_schools_by_country                            \n",
       "4225   http://dbpedia.org/resource/Category:Music_schools_by_country                            \n",
       "10194  http://dbpedia.org/resource/Category:Former_kingdoms                                     \n",
       "11886  http://dbpedia.org/resource/Category:Wikipedia_categories_named_after_former_countries   \n",
       "\n",
       "                                               p2_  \\\n",
       "4011   http://www.w3.org/2004/02/skos/core#broader   \n",
       "4225   http://www.w3.org/2004/02/skos/core#broader   \n",
       "10194  http://www.w3.org/2004/02/skos/core#broader   \n",
       "11886  http://www.w3.org/2004/02/skos/core#broader   \n",
       "\n",
       "                                                                o1_  \\\n",
       "4011   http://dbpedia.org/resource/Category:Music_schools_in_France   \n",
       "4225   http://dbpedia.org/resource/Category:Music_schools_in_France   \n",
       "10194  http://dbpedia.org/resource/Category:Kingdom_of_Sardinia       \n",
       "11886  http://dbpedia.org/resource/Category:Kingdom_of_Sardinia       \n",
       "\n",
       "                                    p1_  \\\n",
       "4011   http://purl.org/dc/terms/subject   \n",
       "4225   http://purl.org/dc/terms/subject   \n",
       "10194  http://purl.org/dc/terms/subject   \n",
       "11886  http://purl.org/dc/terms/subject   \n",
       "\n",
       "                                                    poi     score  \\\n",
       "4011   http://dbpedia.org/resource/Conservatory_of_Nice  0.618624   \n",
       "4225   http://dbpedia.org/resource/Conservatory_of_Nice  0.615118   \n",
       "10194  http://dbpedia.org/resource/County_of_Nice        0.418093   \n",
       "11886  http://dbpedia.org/resource/County_of_Nice        0.293850   \n",
       "\n",
       "       gaussian_score  \n",
       "4011   0.549236        \n",
       "4225   0.519337        \n",
       "10194 -1.160575        \n",
       "11886 -2.219925        "
      ]
     },
     "execution_count": 35,
     "metadata": {},
     "output_type": "execute_result"
    }
   ],
   "source": [
    "paths_final[paths_final['artist']== 'http://dbpedia.org/resource/Manuel_Quiroga_(violinist)']"
   ]
  },
  {
   "cell_type": "code",
   "execution_count": null,
   "metadata": {
    "collapsed": true,
    "deletable": true,
    "editable": true
   },
   "outputs": [],
   "source": [
    "artists_remaining.index('http://dbpedia.org/resource/Manuel_Quiroga_(violinist)')"
   ]
  },
  {
   "cell_type": "markdown",
   "metadata": {},
   "source": [
    "# Evaluation"
   ]
  },
  {
   "cell_type": "code",
   "execution_count": 13,
   "metadata": {
    "collapsed": true,
    "deletable": true,
    "editable": true
   },
   "outputs": [],
   "source": [
    "import pickle\n",
    "selected_paths = pickle.load( open( \"selected_paths.p\", \"rb\" ) )"
   ]
  },
  {
   "cell_type": "code",
   "execution_count": 15,
   "metadata": {
    "collapsed": false,
    "deletable": true,
    "editable": true
   },
   "outputs": [],
   "source": [
    "columns = paths_final.columns[0:13]"
   ]
  },
  {
   "cell_type": "code",
   "execution_count": 16,
   "metadata": {
    "collapsed": false,
    "deletable": true,
    "editable": true
   },
   "outputs": [],
   "source": [
    "selected_paths_pd = pd.DataFrame(selected_paths,columns=columns)"
   ]
  },
  {
   "cell_type": "code",
   "execution_count": 17,
   "metadata": {
    "collapsed": false,
    "deletable": true,
    "editable": true
   },
   "outputs": [
    {
     "data": {
      "text/html": [
       "<div>\n",
       "<style>\n",
       "    .dataframe thead tr:only-child th {\n",
       "        text-align: right;\n",
       "    }\n",
       "\n",
       "    .dataframe thead th {\n",
       "        text-align: left;\n",
       "    }\n",
       "\n",
       "    .dataframe tbody tr th {\n",
       "        vertical-align: top;\n",
       "    }\n",
       "</style>\n",
       "<table border=\"1\" class=\"dataframe\">\n",
       "  <thead>\n",
       "    <tr style=\"text-align: right;\">\n",
       "      <th></th>\n",
       "      <th>artist</th>\n",
       "      <th>p1</th>\n",
       "      <th>o1</th>\n",
       "      <th>p2</th>\n",
       "      <th>o2</th>\n",
       "      <th>p3</th>\n",
       "      <th>o</th>\n",
       "      <th>p3_</th>\n",
       "      <th>o2_</th>\n",
       "      <th>p2_</th>\n",
       "      <th>o1_</th>\n",
       "      <th>p1_</th>\n",
       "      <th>poi</th>\n",
       "    </tr>\n",
       "  </thead>\n",
       "  <tbody>\n",
       "    <tr>\n",
       "      <th>0</th>\n",
       "      <td>http://dbpedia.org/resource/Richard_I_of_England</td>\n",
       "      <td>http://dbpedia.org/ontology/restingPlace</td>\n",
       "      <td>http://dbpedia.org/resource/Fontevraud_Abbey</td>\n",
       "      <td>http://purl.org/dc/terms/subject</td>\n",
       "      <td>http://dbpedia.org/resource/Category:Arts_centres_in_France</td>\n",
       "      <td>http://www.w3.org/2004/02/skos/core#broader</td>\n",
       "      <td>http://dbpedia.org/resource/Category:Entertainment_venues_in_France</td>\n",
       "      <td>http://www.w3.org/2004/02/skos/core#broader</td>\n",
       "      <td>http://dbpedia.org/resource/Category:Sports_venues_in_France</td>\n",
       "      <td>http://www.w3.org/2004/02/skos/core#broader</td>\n",
       "      <td>http://dbpedia.org/resource/Category:Tennis_venues_in_France</td>\n",
       "      <td>http://purl.org/dc/terms/subject</td>\n",
       "      <td>http://dbpedia.org/resource/Nice_Lawn_Tennis_Club</td>\n",
       "    </tr>\n",
       "    <tr>\n",
       "      <th>1</th>\n",
       "      <td>http://dbpedia.org/resource/Yannick_Noah</td>\n",
       "      <td>http://purl.org/dc/terms/subject</td>\n",
       "      <td>http://dbpedia.org/resource/Category:French_tennis_coaches</td>\n",
       "      <td>http://www.w3.org/2004/02/skos/core#broader</td>\n",
       "      <td></td>\n",
       "      <td></td>\n",
       "      <td>http://dbpedia.org/resource/Category:Tennis_in_France</td>\n",
       "      <td></td>\n",
       "      <td></td>\n",
       "      <td>http://www.w3.org/2004/02/skos/core#broader</td>\n",
       "      <td>http://dbpedia.org/resource/Category:Tennis_venues_in_France</td>\n",
       "      <td>http://purl.org/dc/terms/subject</td>\n",
       "      <td>http://dbpedia.org/resource/Nice_Lawn_Tennis_Club</td>\n",
       "    </tr>\n",
       "    <tr>\n",
       "      <th>2</th>\n",
       "      <td>http://dbpedia.org/resource/Marcel_Duchamp</td>\n",
       "      <td>http://purl.org/dc/terms/subject</td>\n",
       "      <td>http://dbpedia.org/resource/Category:French_chess_writers</td>\n",
       "      <td>http://www.w3.org/2004/02/skos/core#broader</td>\n",
       "      <td>http://dbpedia.org/resource/Category:Chess_in_France</td>\n",
       "      <td>http://www.w3.org/2004/02/skos/core#broader</td>\n",
       "      <td>http://dbpedia.org/resource/Category:Sport_in_France_by_sport</td>\n",
       "      <td>http://www.w3.org/2004/02/skos/core#broader</td>\n",
       "      <td>http://dbpedia.org/resource/Category:Tennis_in_France</td>\n",
       "      <td>http://www.w3.org/2004/02/skos/core#broader</td>\n",
       "      <td>http://dbpedia.org/resource/Category:Tennis_venues_in_France</td>\n",
       "      <td>http://purl.org/dc/terms/subject</td>\n",
       "      <td>http://dbpedia.org/resource/Nice_Lawn_Tennis_Club</td>\n",
       "    </tr>\n",
       "    <tr>\n",
       "      <th>3</th>\n",
       "      <td>http://dbpedia.org/resource/Pablo_de_Sarasate</td>\n",
       "      <td>http://dbpedia.org/ontology/deathPlace</td>\n",
       "      <td>http://dbpedia.org/resource/Biarritz</td>\n",
       "      <td>http://purl.org/dc/terms/subject</td>\n",
       "      <td>http://dbpedia.org/resource/Category:Surfing_locations_in_France</td>\n",
       "      <td>http://www.w3.org/2004/02/skos/core#broader</td>\n",
       "      <td>http://dbpedia.org/resource/Category:Sports_venues_in_France</td>\n",
       "      <td></td>\n",
       "      <td></td>\n",
       "      <td>http://www.w3.org/2004/02/skos/core#broader</td>\n",
       "      <td>http://dbpedia.org/resource/Category:Tennis_venues_in_France</td>\n",
       "      <td>http://purl.org/dc/terms/subject</td>\n",
       "      <td>http://dbpedia.org/resource/Nice_Lawn_Tennis_Club</td>\n",
       "    </tr>\n",
       "    <tr>\n",
       "      <th>4</th>\n",
       "      <td>http://dbpedia.org/resource/Christophe_Marchand</td>\n",
       "      <td>http://purl.org/dc/terms/subject</td>\n",
       "      <td>http://dbpedia.org/resource/Category:French_swimmers</td>\n",
       "      <td>http://www.w3.org/2004/02/skos/core#broader</td>\n",
       "      <td>http://dbpedia.org/resource/Category:Swimming_in_France</td>\n",
       "      <td>http://www.w3.org/2004/02/skos/core#broader</td>\n",
       "      <td>http://dbpedia.org/resource/Category:Sport_in_France_by_sport</td>\n",
       "      <td>http://www.w3.org/2004/02/skos/core#broader</td>\n",
       "      <td>http://dbpedia.org/resource/Category:Tennis_in_France</td>\n",
       "      <td>http://www.w3.org/2004/02/skos/core#broader</td>\n",
       "      <td>http://dbpedia.org/resource/Category:Tennis_venues_in_France</td>\n",
       "      <td>http://purl.org/dc/terms/subject</td>\n",
       "      <td>http://dbpedia.org/resource/Nice_Lawn_Tennis_Club</td>\n",
       "    </tr>\n",
       "  </tbody>\n",
       "</table>\n",
       "</div>"
      ],
      "text/plain": [
       "                                             artist  \\\n",
       "0  http://dbpedia.org/resource/Richard_I_of_England   \n",
       "1  http://dbpedia.org/resource/Yannick_Noah           \n",
       "2  http://dbpedia.org/resource/Marcel_Duchamp         \n",
       "3  http://dbpedia.org/resource/Pablo_de_Sarasate      \n",
       "4  http://dbpedia.org/resource/Christophe_Marchand    \n",
       "\n",
       "                                         p1  \\\n",
       "0  http://dbpedia.org/ontology/restingPlace   \n",
       "1  http://purl.org/dc/terms/subject           \n",
       "2  http://purl.org/dc/terms/subject           \n",
       "3  http://dbpedia.org/ontology/deathPlace     \n",
       "4  http://purl.org/dc/terms/subject           \n",
       "\n",
       "                                                           o1  \\\n",
       "0  http://dbpedia.org/resource/Fontevraud_Abbey                 \n",
       "1  http://dbpedia.org/resource/Category:French_tennis_coaches   \n",
       "2  http://dbpedia.org/resource/Category:French_chess_writers    \n",
       "3  http://dbpedia.org/resource/Biarritz                         \n",
       "4  http://dbpedia.org/resource/Category:French_swimmers         \n",
       "\n",
       "                                            p2  \\\n",
       "0  http://purl.org/dc/terms/subject              \n",
       "1  http://www.w3.org/2004/02/skos/core#broader   \n",
       "2  http://www.w3.org/2004/02/skos/core#broader   \n",
       "3  http://purl.org/dc/terms/subject              \n",
       "4  http://www.w3.org/2004/02/skos/core#broader   \n",
       "\n",
       "                                                                 o2  \\\n",
       "0  http://dbpedia.org/resource/Category:Arts_centres_in_France        \n",
       "1                                                                     \n",
       "2  http://dbpedia.org/resource/Category:Chess_in_France               \n",
       "3  http://dbpedia.org/resource/Category:Surfing_locations_in_France   \n",
       "4  http://dbpedia.org/resource/Category:Swimming_in_France            \n",
       "\n",
       "                                            p3  \\\n",
       "0  http://www.w3.org/2004/02/skos/core#broader   \n",
       "1                                                \n",
       "2  http://www.w3.org/2004/02/skos/core#broader   \n",
       "3  http://www.w3.org/2004/02/skos/core#broader   \n",
       "4  http://www.w3.org/2004/02/skos/core#broader   \n",
       "\n",
       "                                                                     o  \\\n",
       "0  http://dbpedia.org/resource/Category:Entertainment_venues_in_France   \n",
       "1  http://dbpedia.org/resource/Category:Tennis_in_France                 \n",
       "2  http://dbpedia.org/resource/Category:Sport_in_France_by_sport         \n",
       "3  http://dbpedia.org/resource/Category:Sports_venues_in_France          \n",
       "4  http://dbpedia.org/resource/Category:Sport_in_France_by_sport         \n",
       "\n",
       "                                           p3_  \\\n",
       "0  http://www.w3.org/2004/02/skos/core#broader   \n",
       "1                                                \n",
       "2  http://www.w3.org/2004/02/skos/core#broader   \n",
       "3                                                \n",
       "4  http://www.w3.org/2004/02/skos/core#broader   \n",
       "\n",
       "                                                            o2_  \\\n",
       "0  http://dbpedia.org/resource/Category:Sports_venues_in_France   \n",
       "1                                                                 \n",
       "2  http://dbpedia.org/resource/Category:Tennis_in_France          \n",
       "3                                                                 \n",
       "4  http://dbpedia.org/resource/Category:Tennis_in_France          \n",
       "\n",
       "                                           p2_  \\\n",
       "0  http://www.w3.org/2004/02/skos/core#broader   \n",
       "1  http://www.w3.org/2004/02/skos/core#broader   \n",
       "2  http://www.w3.org/2004/02/skos/core#broader   \n",
       "3  http://www.w3.org/2004/02/skos/core#broader   \n",
       "4  http://www.w3.org/2004/02/skos/core#broader   \n",
       "\n",
       "                                                            o1_  \\\n",
       "0  http://dbpedia.org/resource/Category:Tennis_venues_in_France   \n",
       "1  http://dbpedia.org/resource/Category:Tennis_venues_in_France   \n",
       "2  http://dbpedia.org/resource/Category:Tennis_venues_in_France   \n",
       "3  http://dbpedia.org/resource/Category:Tennis_venues_in_France   \n",
       "4  http://dbpedia.org/resource/Category:Tennis_venues_in_France   \n",
       "\n",
       "                                p1_  \\\n",
       "0  http://purl.org/dc/terms/subject   \n",
       "1  http://purl.org/dc/terms/subject   \n",
       "2  http://purl.org/dc/terms/subject   \n",
       "3  http://purl.org/dc/terms/subject   \n",
       "4  http://purl.org/dc/terms/subject   \n",
       "\n",
       "                                                 poi  \n",
       "0  http://dbpedia.org/resource/Nice_Lawn_Tennis_Club  \n",
       "1  http://dbpedia.org/resource/Nice_Lawn_Tennis_Club  \n",
       "2  http://dbpedia.org/resource/Nice_Lawn_Tennis_Club  \n",
       "3  http://dbpedia.org/resource/Nice_Lawn_Tennis_Club  \n",
       "4  http://dbpedia.org/resource/Nice_Lawn_Tennis_Club  "
      ]
     },
     "execution_count": 17,
     "metadata": {},
     "output_type": "execute_result"
    }
   ],
   "source": [
    "selected_paths_pd.head()"
   ]
  },
  {
   "cell_type": "code",
   "execution_count": 49,
   "metadata": {
    "collapsed": true,
    "deletable": true,
    "editable": true
   },
   "outputs": [],
   "source": [
    "dbpedia_match_nogeo_distinct = pd.read_csv(\"dbpedia_match_nogeo_distinct.csv\")"
   ]
  },
  {
   "cell_type": "code",
   "execution_count": 50,
   "metadata": {
    "collapsed": false,
    "deletable": true,
    "editable": true
   },
   "outputs": [],
   "source": [
    "pois = list(dbpedia_match_nogeo_distinct['dbpedia_uri'].drop_duplicates())"
   ]
  },
  {
   "cell_type": "code",
   "execution_count": 52,
   "metadata": {
    "collapsed": true,
    "deletable": true,
    "editable": true
   },
   "outputs": [],
   "source": [
    "paths_pois = list(selected_paths_pd['poi'].drop_duplicates())"
   ]
  },
  {
   "cell_type": "code",
   "execution_count": 56,
   "metadata": {
    "collapsed": false,
    "deletable": true,
    "editable": true
   },
   "outputs": [
    {
     "name": "stdout",
     "output_type": "stream",
     "text": [
      "Percentage of founded POIs 83.05084745762711 %\n"
     ]
    }
   ],
   "source": [
    "tot_pois = len(pois)\n",
    "pois_in_paths = len(paths_pois)\n",
    "print(\"Percentage of founded POIs\",(pois_in_paths*100)/tot_pois,\"%\")"
   ]
  },
  {
   "cell_type": "code",
   "execution_count": 87,
   "metadata": {
    "collapsed": false,
    "deletable": true,
    "editable": true
   },
   "outputs": [
    {
     "name": "stdout",
     "output_type": "stream",
     "text": [
      "0\n"
     ]
    }
   ],
   "source": [
    "selected_paths_pd['path_lenght']= selected_paths_pd.apply(lambda row: 1+len([row[col] for col in columns[2:-2:2] if row[col]!='']),axis=1)\n",
    "selected_paths_pd = selected_paths_pd.sort_values('path_lenght', ascending=True).drop_duplicates()\n",
    "selected_paths_pd_np = selected_paths_pd.as_matrix()\n",
    "selected_paths_with_generality_np = []\n",
    "for i,path in enumerate(selected_paths_pd_np):\n",
    "    if i % 1000 == 0:\n",
    "        print (i)\n",
    "    total_count = 0\n",
    "    full_cells = 0\n",
    "    for o in path[2:-2:2]:\n",
    "        if o != '':\n",
    "            total_count += int(all_middle_resources_grouped_1[all_middle_resources_grouped_1['resource']==o]['count'])\n",
    "            full_cells += 1\n",
    "    new_path = np.append(path, total_count/full_cells)\n",
    "    selected_paths_with_generality_np.append(new_path)"
   ]
  },
  {
   "cell_type": "code",
   "execution_count": 88,
   "metadata": {
    "collapsed": true,
    "deletable": true,
    "editable": true
   },
   "outputs": [],
   "source": [
    "selected_paths_with_generality_pd = pd.DataFrame(selected_paths_with_generality_np,\n",
    "                                 columns=['entity', 'p1', 'o1', 'p2', 'o2', 'p3', 'o', 'p3_', 'o2_', 'p2_', 'o1_','p1_', 'poi','lenght','generality'])\n",
    "selected_paths_with_generality_pd.to_pickle('selected_paths_with_generality_pd')"
   ]
  },
  {
   "cell_type": "code",
   "execution_count": 3,
   "metadata": {
    "collapsed": true
   },
   "outputs": [],
   "source": [
    "selected_paths_with_generality_pd = pd.read_pickle(\"selected_paths_with_generality_pd\")"
   ]
  },
  {
   "cell_type": "code",
   "execution_count": 90,
   "metadata": {
    "collapsed": false,
    "deletable": true,
    "editable": true
   },
   "outputs": [
    {
     "data": {
      "image/png": "[encoded data removed]",
      "text/plain": [
       "<matplotlib.figure.Figure at 0x10da59668>"
      ]
     },
     "metadata": {},
     "output_type": "display_data"
    },
    {
     "data": {
      "image/png": "[encoded data removed]",
      "text/plain": [
       "<matplotlib.figure.Figure at 0x10dba02b0>"
      ]
     },
     "metadata": {},
     "output_type": "display_data"
    }
   ],
   "source": [
    "fig, ax = plt.subplots()\n",
    "for a in [selected_paths_with_generality_pd['generality'], paths_filtered_with_generality_pd['generality']]:\n",
    "    sns.distplot(a)\n",
    "    plt.show()"
   ]
  },
  {
   "cell_type": "code",
   "execution_count": 91,
   "metadata": {
    "collapsed": false,
    "deletable": true,
    "editable": true
   },
   "outputs": [
    {
     "data": {
      "image/png": "[encoded data removed]",
      "text/plain": [
       "<matplotlib.figure.Figure at 0x10cd9a400>"
      ]
     },
     "metadata": {},
     "output_type": "display_data"
    },
    {
     "data": {
      "image/png": "[encoded data removed]",
      "text/plain": [
       "<matplotlib.figure.Figure at 0x10cdd1b38>"
      ]
     },
     "metadata": {},
     "output_type": "display_data"
    }
   ],
   "source": [
    "fig, ax = plt.subplots()\n",
    "for a in [selected_paths_with_generality_pd['lenght'], paths_filtered_with_generality_pd['lenght']]:\n",
    "    sns.distplot(a)\n",
    "    plt.show()"
   ]
  },
  {
   "cell_type": "code",
   "execution_count": 93,
   "metadata": {
    "collapsed": false,
    "deletable": true,
    "editable": true
   },
   "outputs": [
    {
     "name": "stdout",
     "output_type": "stream",
     "text": [
      "Max generality filtered: 6029.5\n",
      "Min generality filtered: 1.0\n",
      "Avg generality filtered: 1556.52406168\n"
     ]
    }
   ],
   "source": [
    "print(\"Max generality filtered:\",max(list(paths_filtered_with_generality_pd['generality'])))\n",
    "print(\"Min generality filtered:\",min(list(paths_filtered_with_generality_pd['generality'])))\n",
    "print(\"Avg generality filtered:\",np.mean(list(paths_filtered_with_generality_pd['generality'])))"
   ]
  },
  {
   "cell_type": "code",
   "execution_count": 94,
   "metadata": {
    "collapsed": false,
    "deletable": true,
    "editable": true
   },
   "outputs": [
    {
     "name": "stdout",
     "output_type": "stream",
     "text": [
      "Max generality filtered: 3560.5\n",
      "Min generality filtered: 2.0\n",
      "Avg generality filtered: 428.248444444\n"
     ]
    }
   ],
   "source": [
    "print(\"Max generality selected:\",max(list(selected_paths_with_generality_pd['generality'])))\n",
    "print(\"Min generality selected:\",min(list(selected_paths_with_generality_pd['generality'])))\n",
    "print(\"Avg generality selected:\",np.mean(list(selected_paths_with_generality_pd['generality'])))"
   ]
  },
  {
   "cell_type": "code",
   "execution_count": 6,
   "metadata": {
    "collapsed": false,
    "deletable": true,
    "editable": true
   },
   "outputs": [
    {
     "name": "stdout",
     "output_type": "stream",
     "text": [
      "Max length filtered: 6\n",
      "Min length filtered: 3\n",
      "Avg length filtered: 5.67595145179\n"
     ]
    }
   ],
   "source": [
    "print(\"Max length filtered:\",max(list(paths_filtered_with_generality_pd['lenght'])))\n",
    "print(\"Min length filtered:\",min(list(paths_filtered_with_generality_pd['lenght'])))\n",
    "print(\"Avg length filtered:\",np.mean(list(paths_filtered_with_generality_pd['lenght'])))"
   ]
  },
  {
   "cell_type": "code",
   "execution_count": 7,
   "metadata": {
    "collapsed": false
   },
   "outputs": [
    {
     "name": "stdout",
     "output_type": "stream",
     "text": [
      "Max length selected: 6\n",
      "Min length selected: 3\n",
      "Avg length selected: 5.34222222222\n"
     ]
    }
   ],
   "source": [
    "print(\"Max length selected:\",max(list(selected_paths_with_generality_pd['lenght'])))\n",
    "print(\"Min length selected:\",min(list(selected_paths_with_generality_pd['lenght'])))\n",
    "print(\"Avg length selected:\",np.mean(list(selected_paths_with_generality_pd['lenght'])))"
   ]
  },
  {
   "cell_type": "code",
   "execution_count": 34,
   "metadata": {
    "collapsed": false
   },
   "outputs": [
    {
     "name": "stdout",
     "output_type": "stream",
     "text": [
      "0\n",
      "1000\n",
      "2000\n",
      "3000\n",
      "4000\n",
      "5000\n",
      "6000\n",
      "7000\n",
      "8000\n",
      "9000\n",
      "10000\n",
      "11000\n",
      "12000\n",
      "13000\n",
      "14000\n",
      "15000\n",
      "16000\n",
      "17000\n",
      "18000\n",
      "19000\n",
      "20000\n",
      "21000\n",
      "22000\n",
      "23000\n",
      "24000\n",
      "25000\n",
      "26000\n",
      "27000\n"
     ]
    }
   ],
   "source": [
    "all_nodes_filtered = []\n",
    "paths_filtered_np = paths_filtered.as_matrix()\n",
    "for i,path in enumerate(paths_filtered_np):\n",
    "    if i % 1000 == 0:\n",
    "        print (i)\n",
    "    total_count = 0\n",
    "    full_cells = 0\n",
    "    for o in path[2:-2:2]:\n",
    "        if type(o)!=float:\n",
    "            if o not in all_nodes_filtered:\n",
    "                all_nodes_filtered.append(o)"
   ]
  },
  {
   "cell_type": "code",
   "execution_count": 35,
   "metadata": {
    "collapsed": false
   },
   "outputs": [
    {
     "name": "stdout",
     "output_type": "stream",
     "text": [
      "0\n"
     ]
    }
   ],
   "source": [
    "all_nodes_selected = []\n",
    "selected_paths_pd_np = selected_paths_pd.as_matrix()\n",
    "for i,path in enumerate(selected_paths_pd_np):\n",
    "    if i % 1000 == 0:\n",
    "        print (i)\n",
    "    total_count = 0\n",
    "    full_cells = 0\n",
    "    for o in path[2:-2:2]:\n",
    "        if o != '' and o not in all_nodes_selected:\n",
    "            all_nodes_selected.append(o)"
   ]
  },
  {
   "cell_type": "code",
   "execution_count": 36,
   "metadata": {
    "collapsed": false
   },
   "outputs": [
    {
     "data": {
      "text/plain": [
       "225"
      ]
     },
     "execution_count": 36,
     "metadata": {},
     "output_type": "execute_result"
    }
   ],
   "source": [
    "len(selected_paths_pd_np)"
   ]
  },
  {
   "cell_type": "code",
   "execution_count": 37,
   "metadata": {
    "collapsed": true
   },
   "outputs": [],
   "source": [
    "occurences_filtered=(all_middle_resources_grouped\n",
    "                                [all_middle_resources_grouped['resource'].isin(all_nodes_filtered)]\n",
    "                               )"
   ]
  },
  {
   "cell_type": "code",
   "execution_count": 38,
   "metadata": {
    "collapsed": true
   },
   "outputs": [],
   "source": [
    "occurences_selected=(all_middle_resources_grouped\n",
    "                                [all_middle_resources_grouped['resource'].isin(all_nodes_selected)]\n",
    "                               )"
   ]
  },
  {
   "cell_type": "code",
   "execution_count": 41,
   "metadata": {
    "collapsed": false
   },
   "outputs": [
    {
     "data": {
      "image/png": "[encoded data removed]",
      "text/plain": [
       "<matplotlib.figure.Figure at 0x10d636ba8>"
      ]
     },
     "metadata": {},
     "output_type": "display_data"
    },
    {
     "data": {
      "image/png": "[encoded data removed]",
      "text/plain": [
       "<matplotlib.figure.Figure at 0x10d620fd0>"
      ]
     },
     "metadata": {},
     "output_type": "display_data"
    }
   ],
   "source": [
    "fig, ax = plt.subplots()\n",
    "for a in [occurences_filtered['count'], occurences_selected['count']]:\n",
    "    sns.distplot(a)\n",
    "    plt.show()"
   ]
  },
  {
   "cell_type": "code",
   "execution_count": 43,
   "metadata": {
    "collapsed": false
   },
   "outputs": [
    {
     "name": "stdout",
     "output_type": "stream",
     "text": [
      "Max occurence filtered: 9920\n",
      "Min occurence filtered: 1\n",
      "Avg occurrence filtered: 490.806492518\n"
     ]
    }
   ],
   "source": [
    "print(\"Max occurence filtered:\",max(list(occurences_filtered['count'])))\n",
    "print(\"Min occurence filtered:\",min(list(occurences_filtered['count'])))\n",
    "print(\"Avg occurrence filtered:\",np.mean(list(occurences_filtered['count'])))"
   ]
  },
  {
   "cell_type": "code",
   "execution_count": 44,
   "metadata": {
    "collapsed": false
   },
   "outputs": [
    {
     "name": "stdout",
     "output_type": "stream",
     "text": [
      "Max occurence selected: 9596\n",
      "Min occurence selected: 1\n",
      "Avg occurrence selected: 397.663484487\n"
     ]
    }
   ],
   "source": [
    "print(\"Max occurence selected:\",max(list(occurences_selected['count'])))\n",
    "print(\"Min occurence selected:\",min(list(occurences_selected['count'])))\n",
    "print(\"Avg occurrence selected:\",np.mean(list(occurences_selected['count'])))"
   ]
  }
 ],
 "metadata": {
  "kernelspec": {
   "display_name": "Python 3",
   "language": "python",
   "name": "python3"
  },
  "language_info": {
   "codemirror_mode": {
    "name": "ipython",
    "version": 3
   },
   "file_extension": ".py",
   "mimetype": "text/x-python",
   "name": "python",
   "nbconvert_exporter": "python",
   "pygments_lexer": "ipython3",
   "version": "3.5.2"
  }
 },
 "nbformat": 4,
 "nbformat_minor": 2
}
