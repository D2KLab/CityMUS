{
 "cells": [
  {
   "cell_type": "markdown",
   "metadata": {},
   "source": [
    "# DOREMUS - DBPEDIA ARTISTS MATCHING"
   ]
  },
  {
   "cell_type": "code",
   "execution_count": 614,
   "metadata": {
    "collapsed": false,
    "deletable": true,
    "editable": true
   },
   "outputs": [],
   "source": [
    "import json\n",
    "import csv\n",
    "import sys\n",
    "from os import listdir\n",
    "from os.path import isfile, join\n",
    "import queue\n",
    "import threading\n",
    "import urllib.request, urllib.error, urllib.parse\n",
    "import pandas as pd\n",
    "import numpy as np"
   ]
  },
  {
   "cell_type": "markdown",
   "metadata": {},
   "source": [
    "<div class=\"alert alert-success\">\n",
    "We started obtaining from Doremus the artists informations; we used different queries merging them using Pandas dataframe, obtaining a table. It is composed by rows (one for each artists) and  by columns:\n",
    "<ol>\n",
    "  <li><strong>uri_doremus</strong> = for every artist, the associated uri in Doremus</li>\n",
    "  <li><strong>id_doremus</strong> = the object of the property <strong>*ecrm:P131_is_identified_by*</strong>, for every Doremus’s artist</li>\n",
    "  <li><strong>name_doremus</strong> = the object of the property foaf:name, for every Doremus’s artist</li>\n",
    "  <li><strong>associated_compositions</strong> = the list of associated works in Doremus</li>\n",
    "  <li><strong>born_year</strong> = the born year for every artist, but this information is not present for all artists in Doremus</li>\n",
    "  <li><strong>death_year</strong> = the death year for every artist, but this information is not present for all artists in\n",
    "  Doremus</li>\n",
    "  <li><strong>artist_file</strong> = the name of the file in which will be saved (for every artist) the retrieved Dbpedia instances obtained using the Elastic Search</li>\n",
    "  \n",
    "</ol> \n",
    "\n",
    "The first lines are rapresented below\n",
    "\n",
    "</div>"
   ]
  },
  {
   "cell_type": "code",
   "execution_count": 655,
   "metadata": {
    "collapsed": false
   },
   "outputs": [
    {
     "data": {
      "text/html": [
       "<div>\n",
       "<style>\n",
       "    .dataframe thead tr:only-child th {\n",
       "        text-align: right;\n",
       "    }\n",
       "\n",
       "    .dataframe thead th {\n",
       "        text-align: left;\n",
       "    }\n",
       "\n",
       "    .dataframe tbody tr th {\n",
       "        vertical-align: top;\n",
       "    }\n",
       "</style>\n",
       "<table border=\"1\" class=\"dataframe\">\n",
       "  <thead>\n",
       "    <tr style=\"text-align: right;\">\n",
       "      <th></th>\n",
       "      <th>Unnamed: 0</th>\n",
       "      <th>uri_doremus</th>\n",
       "      <th>id_doremus</th>\n",
       "      <th>name_doremus</th>\n",
       "      <th>associated_compositions</th>\n",
       "      <th>born_year</th>\n",
       "      <th>death_year</th>\n",
       "      <th>artist_file</th>\n",
       "    </tr>\n",
       "  </thead>\n",
       "  <tbody>\n",
       "    <tr>\n",
       "      <th>0</th>\n",
       "      <td>0</td>\n",
       "      <td>http://data.doremus.org/artist/bdd0ec9b-5b5b-37e1-9beb-32b5b43dd2bd</td>\n",
       "      <td>Posse, Wilhelm</td>\n",
       "      <td>Wilhelm Posse</td>\n",
       "      <td>http://data.doremus.org/expression/25909066-5d81-34cf-9716-3067d31f0183</td>\n",
       "      <td>NaN</td>\n",
       "      <td>NaN</td>\n",
       "      <td>bdd0ec9b-5b5b-37e1-9beb-32b5b43dd2bd.json</td>\n",
       "    </tr>\n",
       "    <tr>\n",
       "      <th>1</th>\n",
       "      <td>1</td>\n",
       "      <td>http://data.doremus.org/artist/ec86d614-972c-397a-8ac1-cfeb5615b185</td>\n",
       "      <td>Rousée, Jean</td>\n",
       "      <td>Jean Rousée</td>\n",
       "      <td>http://data.doremus.org/expression/9496039c-f0af-3ef6-a1c7-43ec85b1be49</td>\n",
       "      <td>NaN</td>\n",
       "      <td>NaN</td>\n",
       "      <td>ec86d614-972c-397a-8ac1-cfeb5615b185.json</td>\n",
       "    </tr>\n",
       "    <tr>\n",
       "      <th>2</th>\n",
       "      <td>2</td>\n",
       "      <td>http://data.doremus.org/artist/c842920a-581d-3673-a123-edc385c7857c</td>\n",
       "      <td>Gaudio, Bob (1942)</td>\n",
       "      <td>Bob Gaudio</td>\n",
       "      <td>http://data.doremus.org/expression/f60ea13b-df3d-375b-bdcb-537e802567d3</td>\n",
       "      <td>1942.0</td>\n",
       "      <td>NaN</td>\n",
       "      <td>c842920a-581d-3673-a123-edc385c7857c.json</td>\n",
       "    </tr>\n",
       "    <tr>\n",
       "      <th>3</th>\n",
       "      <td>3</td>\n",
       "      <td>http://data.doremus.org/artist/70a82bd5-18b8-3f71-8bca-b8c7905ae274</td>\n",
       "      <td>Lapointe, Jean (1935)</td>\n",
       "      <td>Jean Lapointe</td>\n",
       "      <td>http://data.doremus.org/expression/98412193-fdd9-3efe-93ad-14f0e8c210ca</td>\n",
       "      <td>1935.0</td>\n",
       "      <td>NaN</td>\n",
       "      <td>70a82bd5-18b8-3f71-8bca-b8c7905ae274.json</td>\n",
       "    </tr>\n",
       "    <tr>\n",
       "      <th>4</th>\n",
       "      <td>4</td>\n",
       "      <td>http://data.doremus.org/artist/231cf6c9-7d32-3c0b-bf96-8a2bfadb6efe</td>\n",
       "      <td>Delabre, Christophe</td>\n",
       "      <td>Christophe Delabre</td>\n",
       "      <td>http://data.doremus.org/expression/03a6ca41-b7f8-379c-8c0c-ce8bb8f88ef3|||http://data.doremus.org/expression/1118388e-d142-367a-b642-770c89639d2f|||http://data.doremus.org/expression/427d78fc-1fab-3ce6-b279-0395a2f6c05a</td>\n",
       "      <td>NaN</td>\n",
       "      <td>NaN</td>\n",
       "      <td>231cf6c9-7d32-3c0b-bf96-8a2bfadb6efe.json</td>\n",
       "    </tr>\n",
       "  </tbody>\n",
       "</table>\n",
       "</div>"
      ],
      "text/plain": [
       "   Unnamed: 0  \\\n",
       "0  0            \n",
       "1  1            \n",
       "2  2            \n",
       "3  3            \n",
       "4  4            \n",
       "\n",
       "                                                           uri_doremus  \\\n",
       "0  http://data.doremus.org/artist/bdd0ec9b-5b5b-37e1-9beb-32b5b43dd2bd   \n",
       "1  http://data.doremus.org/artist/ec86d614-972c-397a-8ac1-cfeb5615b185   \n",
       "2  http://data.doremus.org/artist/c842920a-581d-3673-a123-edc385c7857c   \n",
       "3  http://data.doremus.org/artist/70a82bd5-18b8-3f71-8bca-b8c7905ae274   \n",
       "4  http://data.doremus.org/artist/231cf6c9-7d32-3c0b-bf96-8a2bfadb6efe   \n",
       "\n",
       "              id_doremus        name_doremus  \\\n",
       "0  Posse, Wilhelm         Wilhelm Posse        \n",
       "1  Rousée, Jean           Jean Rousée          \n",
       "2  Gaudio, Bob (1942)     Bob Gaudio           \n",
       "3  Lapointe, Jean (1935)  Jean Lapointe        \n",
       "4  Delabre, Christophe    Christophe Delabre   \n",
       "\n",
       "                                                                                                                                                                                                       associated_compositions  \\\n",
       "0  http://data.doremus.org/expression/25909066-5d81-34cf-9716-3067d31f0183                                                                                                                                                       \n",
       "1  http://data.doremus.org/expression/9496039c-f0af-3ef6-a1c7-43ec85b1be49                                                                                                                                                       \n",
       "2  http://data.doremus.org/expression/f60ea13b-df3d-375b-bdcb-537e802567d3                                                                                                                                                       \n",
       "3  http://data.doremus.org/expression/98412193-fdd9-3efe-93ad-14f0e8c210ca                                                                                                                                                       \n",
       "4  http://data.doremus.org/expression/03a6ca41-b7f8-379c-8c0c-ce8bb8f88ef3|||http://data.doremus.org/expression/1118388e-d142-367a-b642-770c89639d2f|||http://data.doremus.org/expression/427d78fc-1fab-3ce6-b279-0395a2f6c05a   \n",
       "\n",
       "   born_year death_year                                artist_file  \n",
       "0 NaN         NaN        bdd0ec9b-5b5b-37e1-9beb-32b5b43dd2bd.json  \n",
       "1 NaN         NaN        ec86d614-972c-397a-8ac1-cfeb5615b185.json  \n",
       "2  1942.0     NaN        c842920a-581d-3673-a123-edc385c7857c.json  \n",
       "3  1935.0     NaN        70a82bd5-18b8-3f71-8bca-b8c7905ae274.json  \n",
       "4 NaN         NaN        231cf6c9-7d32-3c0b-bf96-8a2bfadb6efe.json  "
      ]
     },
     "execution_count": 655,
     "metadata": {},
     "output_type": "execute_result"
    }
   ],
   "source": [
    "pd.read_csv('Artists_Doremus.csv').head()"
   ]
  },
  {
   "cell_type": "markdown",
   "metadata": {},
   "source": [
    "<div class=\"alert alert-success\">\n",
    "The second step was to retrieve the matched entities by Elastic Search. For every Doremus artist we performed 2 queries:\n",
    "<ol>\n",
    "  <li>GET dbpedia201510/_search?q=<strong>*NAME_DOREMUS*</strong></li>\n",
    "  <li>GET dbpedia201510/_search?q=<strong>*ID_DOREMUS*</strong></li>\n",
    "</ol>\n",
    "<br>\n",
    "The ES returns also a score, associated with every entity; the first time we perfomed the matching, we have considered this; however we have noted that it drives to bad results. So we have preferred to not consider it and to score every returned entity using the method that we'll describe below.\n",
    "</div>"
   ]
  },
  {
   "cell_type": "code",
   "execution_count": 615,
   "metadata": {
    "collapsed": false,
    "deletable": true,
    "editable": true
   },
   "outputs": [],
   "source": [
    "\n",
    "def getQueryResponse(query,endpointURL='http://dbpedia.org/sparql'):\n",
    "    escapedQuery = urllib.parse.quote(query)\n",
    "    requestURL = endpointURL + \"?query=\" + escapedQuery +\"&format=CSV\"\n",
    "    try:\n",
    "        request = urllib.request.Request(requestURL)\n",
    "        result = urllib.request.urlopen(request)\n",
    "        return result\n",
    "    except:\n",
    "        raise Exception\n"
   ]
  },
  {
   "cell_type": "markdown",
   "metadata": {},
   "source": [
    "<div class=\"alert alert-success\">\n",
    "The first step is to retrieve useful information associated to every entity returned by the ES. In particular we have considered that in Doremus, for every artist, there are informations about the name, the birth date and the death date. So we want to get the same informations for every ES entity. ES already returns the labels (the artist's names) but doesn't gives informations about the birth and the death. To get these info we'll query DBpedia for each year. For example, considering the year 1998:\n",
    "<pre>\n",
    "```\n",
    "{\n",
    "values ?birth_year { 1998 }\n",
    "{?resource dct:subject dbc:1998_births.}\n",
    "UNION\n",
    "{?resource dbo:birthDate|dbo:birthYear|dbp:dateOfBirth ?birth.\n",
    "filter regex (str(xsd:date(?birth)),\"^1998\")}\n",
    "}\n",
    "```\n",
    "</pre>\n",
    "Looking at the query, you can note that to get the year information we have consider different properties because the most of the time the birth year is written as object of the property `dct:subject`. Actually it's part of the object, e.g. `dbc:1998_births`. However there are cases in which the year is saved as object of other properties as `dbo:birthDate`,`dbo:birthYear`,`dbp:dateOfBirth`. The same considerations could be done for the death year.\n",
    "<br>\n",
    "Performing a query for every year asking about all people borned in this year is faster than the inverse: performing a query for every resource asking about the death and the birth year. In fact we have a lot of entities retrieved by the ES queries; instead we have only about 2000 years from 0 to 2017.\n",
    "We used the first approach joining the result with the ES entities at the end.\n",
    "<br>\n",
    "To be faster, we'll perform a query for every 10 years, using the UNION operator.\n",
    "You can see below all the implementation about what we've described.\n",
    "</div>"
   ]
  },
  {
   "cell_type": "code",
   "execution_count": 661,
   "metadata": {
    "collapsed": true
   },
   "outputs": [],
   "source": [
    "internal_years_query = '''\n",
    "{\n",
    "values ?birth_year { YEAR }\n",
    "{?resource dct:subject dbc:YEAR_births.}\n",
    "UNION\n",
    "{?resource dbo:birthDate|dbo:birthYear|dbp:dateOfBirth ?birth.\n",
    "filter regex (str(xsd:date(?birth)),\"^YYYY\")}\n",
    "}\n",
    "'''"
   ]
  },
  {
   "cell_type": "code",
   "execution_count": 662,
   "metadata": {
    "collapsed": true,
    "deletable": true,
    "editable": true
   },
   "outputs": [],
   "source": [
    "years_birth_query = '''\n",
    "select distinct ?resource ?birth_year where{\n",
    "STR_TO_SUB\n",
    "}\n",
    "offset OFFSET\n",
    "limit 10000\n",
    "'''\n",
    "artist_years_birth_df = pd.DataFrame([],columns=['resource','birth_year'])\n",
    "start = 0"
   ]
  },
  {
   "cell_type": "code",
   "execution_count": null,
   "metadata": {
    "collapsed": true,
    "deletable": true,
    "editable": true
   },
   "outputs": [],
   "source": [
    "step = 10\n",
    "for i in range(start,2018,step):\n",
    "    if i % 10 == 0:\n",
    "        print (i)\n",
    "    n = 10000\n",
    "    start = i\n",
    "    offset = 0\n",
    "    int_queries = 'UNION\\n'.join([internal_years_query.replace('YEAR',str(j)).replace('YYYY',str(j).zfill(4)) for j in range(i,i+step)])\n",
    "    while n == 10000:\n",
    "        query = years_birth_query.replace('STR_TO_SUB',int_queries).replace('OFFSET',str(offset))\n",
    "        #print(query)\n",
    "        res = pd.read_csv(getQueryResponse(query,endpointURL='http://dbpedia.org/sparql'))\n",
    "        if len(res) > 0:\n",
    "            artist_years_birth_df=artist_years_birth_df.append(res,ignore_index=True).drop_duplicates()\n",
    "        if len(res) != 10000:\n",
    "            n = 0\n",
    "        offset += 10000"
   ]
  },
  {
   "cell_type": "code",
   "execution_count": 724,
   "metadata": {
    "collapsed": true
   },
   "outputs": [],
   "source": [
    "artist_years_birth_df = (artist_years_birth_df\n",
    "                         .groupby('resource')['birth_year']\n",
    "                         .apply(tuple)\n",
    "                         .reset_index(name='birth_year')\n",
    "                        )\n",
    "artist_years_birth_df.drop_duplicates().to_pickle('artist_years_birth_df')"
   ]
  },
  {
   "cell_type": "code",
   "execution_count": 732,
   "metadata": {
    "collapsed": true
   },
   "outputs": [],
   "source": [
    "artist_years_birth_df = pd.read_pickle('artist_years_birth_df')"
   ]
  },
  {
   "cell_type": "code",
   "execution_count": 733,
   "metadata": {
    "collapsed": false
   },
   "outputs": [
    {
     "data": {
      "text/html": [
       "<div>\n",
       "<style>\n",
       "    .dataframe thead tr:only-child th {\n",
       "        text-align: right;\n",
       "    }\n",
       "\n",
       "    .dataframe thead th {\n",
       "        text-align: left;\n",
       "    }\n",
       "\n",
       "    .dataframe tbody tr th {\n",
       "        vertical-align: top;\n",
       "    }\n",
       "</style>\n",
       "<table border=\"1\" class=\"dataframe\">\n",
       "  <thead>\n",
       "    <tr style=\"text-align: right;\">\n",
       "      <th></th>\n",
       "      <th>resource</th>\n",
       "      <th>birth_year</th>\n",
       "    </tr>\n",
       "  </thead>\n",
       "  <tbody>\n",
       "    <tr>\n",
       "      <th>0</th>\n",
       "      <td>http://dbpedia.org/resource/!PAUS3</td>\n",
       "      <td>(1981, 1986)</td>\n",
       "    </tr>\n",
       "    <tr>\n",
       "      <th>1</th>\n",
       "      <td>http://dbpedia.org/resource/%22Bassy%22_Bob_Brockmann</td>\n",
       "      <td>(1962,)</td>\n",
       "    </tr>\n",
       "    <tr>\n",
       "      <th>2</th>\n",
       "      <td>http://dbpedia.org/resource/%22Big%22_Donnie_MacLeod</td>\n",
       "      <td>(1928,)</td>\n",
       "    </tr>\n",
       "    <tr>\n",
       "      <th>3</th>\n",
       "      <td>http://dbpedia.org/resource/%22By%22_Dunham</td>\n",
       "      <td>(1910,)</td>\n",
       "    </tr>\n",
       "    <tr>\n",
       "      <th>4</th>\n",
       "      <td>http://dbpedia.org/resource/%22Dr._Death%22_Steve_Williams</td>\n",
       "      <td>(1960,)</td>\n",
       "    </tr>\n",
       "  </tbody>\n",
       "</table>\n",
       "</div>"
      ],
      "text/plain": [
       "                                                     resource    birth_year\n",
       "0  http://dbpedia.org/resource/!PAUS3                          (1981, 1986)\n",
       "1  http://dbpedia.org/resource/%22Bassy%22_Bob_Brockmann       (1962,)     \n",
       "2  http://dbpedia.org/resource/%22Big%22_Donnie_MacLeod        (1928,)     \n",
       "3  http://dbpedia.org/resource/%22By%22_Dunham                 (1910,)     \n",
       "4  http://dbpedia.org/resource/%22Dr._Death%22_Steve_Williams  (1960,)     "
      ]
     },
     "execution_count": 733,
     "metadata": {},
     "output_type": "execute_result"
    }
   ],
   "source": [
    "artist_years_birth_df.head()"
   ]
  },
  {
   "cell_type": "code",
   "execution_count": 649,
   "metadata": {
    "collapsed": true
   },
   "outputs": [],
   "source": [
    "internal_years_query = '''\n",
    "{\n",
    "values ?death_year { YEAR }\n",
    "{?resource dct:subject dbc:YEAR_deaths.}\n",
    "UNION\n",
    "{?resource dbo:deathDate|dbo:deathYear|dbp:dateOfDeath ?death.\n",
    "filter regex (str(xsd:date(?death)),\"^YYYY\")}\n",
    "}\n",
    "'''"
   ]
  },
  {
   "cell_type": "code",
   "execution_count": 652,
   "metadata": {
    "collapsed": true,
    "deletable": true,
    "editable": true
   },
   "outputs": [],
   "source": [
    "years_death_query = '''\n",
    "select distinct ?resource ?death_year where{\n",
    "STR_TO_SUB\n",
    "}\n",
    "offset OFFSET\n",
    "limit 10000\n",
    "'''\n",
    "artist_years_death_df = pd.DataFrame([],columns=['resource','death_year'])\n",
    "start = 0 "
   ]
  },
  {
   "cell_type": "code",
   "execution_count": null,
   "metadata": {
    "collapsed": true,
    "deletable": true,
    "editable": true
   },
   "outputs": [],
   "source": [
    "step = 10\n",
    "for i in range(start,2018,step):\n",
    "    if i % 10 == 0:\n",
    "        print (i)\n",
    "    n = 10000\n",
    "    start = i\n",
    "    offset = 0\n",
    "    int_queries = 'UNION\\n'.join([internal_years_query.replace('YEAR',str(j)).replace('YYYY',str(j).zfill(4)) for j in range(i,i+step)])\n",
    "    while n == 10000:\n",
    "        formatted_year = str(i).zfill(4)\n",
    "        query = years_death_query.replace('STR_TO_SUB',int_queries).replace('OFFSET',str(offset))\n",
    "        res = pd.read_csv(getQueryResponse(query,endpointURL='http://dbpedia.org/sparql'))\n",
    "        if len(res) > 0:\n",
    "            artist_years_death_df=artist_years_death_df.append(res,ignore_index=True).drop_duplicates()\n",
    "        if len(res) != 10000:\n",
    "            n = 0\n",
    "        offset += 10000"
   ]
  },
  {
   "cell_type": "code",
   "execution_count": 734,
   "metadata": {
    "collapsed": true,
    "deletable": true,
    "editable": true
   },
   "outputs": [],
   "source": [
    "artist_years_death_df = (artist_years_death_df\n",
    "                         .groupby('resource')['death_year']\n",
    "                         .apply(tuple)\n",
    "                         .reset_index(name='death_year')\n",
    "                        )\n",
    "artist_years_death_df.drop_duplicates().to_pickle('artist_years_death_df')"
   ]
  },
  {
   "cell_type": "code",
   "execution_count": null,
   "metadata": {
    "collapsed": true
   },
   "outputs": [],
   "source": [
    "artist_years_death_df = pd.read_pickle('artist_years_death_df')"
   ]
  },
  {
   "cell_type": "code",
   "execution_count": 736,
   "metadata": {
    "collapsed": false
   },
   "outputs": [
    {
     "data": {
      "text/html": [
       "<div>\n",
       "<style>\n",
       "    .dataframe thead tr:only-child th {\n",
       "        text-align: right;\n",
       "    }\n",
       "\n",
       "    .dataframe thead th {\n",
       "        text-align: left;\n",
       "    }\n",
       "\n",
       "    .dataframe tbody tr th {\n",
       "        vertical-align: top;\n",
       "    }\n",
       "</style>\n",
       "<table border=\"1\" class=\"dataframe\">\n",
       "  <thead>\n",
       "    <tr style=\"text-align: right;\">\n",
       "      <th></th>\n",
       "      <th>resource</th>\n",
       "      <th>death_year</th>\n",
       "    </tr>\n",
       "  </thead>\n",
       "  <tbody>\n",
       "    <tr>\n",
       "      <th>0</th>\n",
       "      <td>http://dbpedia.org/resource/%22Big%22_Donnie_MacLeod</td>\n",
       "      <td>(2003,)</td>\n",
       "    </tr>\n",
       "    <tr>\n",
       "      <th>1</th>\n",
       "      <td>http://dbpedia.org/resource/%22By%22_Dunham</td>\n",
       "      <td>(2001,)</td>\n",
       "    </tr>\n",
       "    <tr>\n",
       "      <th>2</th>\n",
       "      <td>http://dbpedia.org/resource/%22Dr._Death%22_Steve_Williams</td>\n",
       "      <td>(2009,)</td>\n",
       "    </tr>\n",
       "    <tr>\n",
       "      <th>3</th>\n",
       "      <td>http://dbpedia.org/resource/%22King%22_Bennie_Nawahi</td>\n",
       "      <td>(1985,)</td>\n",
       "    </tr>\n",
       "    <tr>\n",
       "      <th>4</th>\n",
       "      <td>http://dbpedia.org/resource/%22Major%22_John_Buchanan</td>\n",
       "      <td>(1832,)</td>\n",
       "    </tr>\n",
       "  </tbody>\n",
       "</table>\n",
       "</div>"
      ],
      "text/plain": [
       "                                                     resource death_year\n",
       "0  http://dbpedia.org/resource/%22Big%22_Donnie_MacLeod        (2003,)  \n",
       "1  http://dbpedia.org/resource/%22By%22_Dunham                 (2001,)  \n",
       "2  http://dbpedia.org/resource/%22Dr._Death%22_Steve_Williams  (2009,)  \n",
       "3  http://dbpedia.org/resource/%22King%22_Bennie_Nawahi        (1985,)  \n",
       "4  http://dbpedia.org/resource/%22Major%22_John_Buchanan       (1832,)  "
      ]
     },
     "execution_count": 736,
     "metadata": {},
     "output_type": "execute_result"
    }
   ],
   "source": [
    "artist_years_death_df.head()"
   ]
  },
  {
   "cell_type": "code",
   "execution_count": 921,
   "metadata": {
    "collapsed": false,
    "deletable": true,
    "editable": true
   },
   "outputs": [
    {
     "name": "stdout",
     "output_type": "stream",
     "text": [
      "0\n",
      "1000\n",
      "2000\n",
      "3000\n",
      "4000\n",
      "5000\n",
      "6000\n",
      "7000\n",
      "8000\n",
      "9000\n",
      "10000\n",
      "11000\n",
      "12000\n",
      "13000\n",
      "14000\n",
      "15000\n",
      "16000\n"
     ]
    }
   ],
   "source": [
    "#all_elastic_resources = []\n",
    "doremus_elastic_search_link = []\n",
    "with open('Artists_Doremus.csv', 'r') as f:\n",
    "    reader = csv.reader(f)\n",
    "    count = 0\n",
    "    for row in reader:\n",
    "        if count != 0:\n",
    "            uri_doremus = row[1]\n",
    "            id_doremus = row[2]\n",
    "            name_doremus = row[3]\n",
    "            born_year = row[5]\n",
    "            if born_year  == '':\n",
    "                born_year = np.nan\n",
    "            else:\n",
    "                born_year = tuple([int(b) for b in born_year.split('|||')])\n",
    "            death_year = row[6]\n",
    "            if death_year  == '':\n",
    "                death_year = np.nan\n",
    "            else:\n",
    "                death_year = tuple([int(d) for d in death_year.split('|||')])\n",
    "            storage_file = row[7]\n",
    "            item_array = {}\n",
    "            with open('all_matched/'+storage_file) as matching_file:\n",
    "                all_matching = json.load(matching_file)\n",
    "                name_matching = all_matching[name_doremus][\"hits\"][\"hits\"]\n",
    "                id_matching = all_matching[id_doremus][\"hits\"][\"hits\"]\n",
    "                matchings = name_matching + id_matching\n",
    "                names_doremus = tuple(set(name_doremus.split('|||')+id_doremus.split('|||')))\n",
    "                for m in matchings:\n",
    "                    uri=m['_source'][\"link\"]\n",
    "                    label=tuple(m['_source'][\"rdfs_label\"])\n",
    "                    #all_elastic_resources.append(uri)\n",
    "                    doremus_elastic_search_link.append([uri_doremus,names_doremus,born_year,death_year,uri,label])\n",
    "                #x = input()\n",
    "        if count % 1000 == 0:\n",
    "            print (count)\n",
    "        count += 1\n",
    "        \n",
    "#all_elastic_resources_distinct = list(set(all_elastic_resources))"
   ]
  },
  {
   "cell_type": "code",
   "execution_count": 922,
   "metadata": {
    "collapsed": false,
    "deletable": true,
    "editable": true
   },
   "outputs": [],
   "source": [
    "columns=['uri_doremus','names_doremus','born_year_doremus','death_year_doremus','resource','resource_label']\n",
    "doremus_elastic_search_link_df = pd.DataFrame(doremus_elastic_search_link,columns=columns).drop_duplicates()"
   ]
  },
  {
   "cell_type": "code",
   "execution_count": 996,
   "metadata": {
    "collapsed": true
   },
   "outputs": [],
   "source": [
    "doremus_elastic_search_link_birth=(pd.merge(\n",
    "    doremus_elastic_search_link_df,\n",
    "    artist_years_birth_df,\n",
    "    on='resource',\n",
    "    how='left')\n",
    "    )\n",
    "doremus_elastic_search_years=(pd.merge(\n",
    "    doremus_elastic_search_link_birth,\n",
    "    artist_years_death_df,\n",
    "    on='resource',\n",
    "    how='left')\n",
    "    )"
   ]
  },
  {
   "cell_type": "markdown",
   "metadata": {},
   "source": [
    "<div class=\"alert alert-success\">\n",
    "We need also to check that the entities retrieved by the Elastic Search are composers or musicians or arists or at least people. So it's necessary to get the types of every resources, in particular the ones linked whit the idea of composer.\n",
    "When we'll perform the final scoring we'll assign higher scores more specific the category is.\n",
    "<br>\n",
    "For every resource, we'll perform this query:\n",
    "<pre>\n",
    "```\n",
    "{\n",
    " values ?uri_doremus { URI_RESOURCE }\n",
    " ?uri_doremus rdf:type $type\n",
    " filter (?type=<http://schema.org/Person>||?type=<http://xmlns.com/foaf/0.1/Person>||?type=<http://dbpedia.org/ontology/Person>||?type=<http://dbpedia.org/class/yago/Person100007846>||?type=<http://dbpedia.org/class/yago/Creator109614315>||?type=<http://dbpedia.org/class/yago/Artist109812338>||?type=<http://dbpedia.org/class/yago/Musician110339966>||?type=<http://dbpedia.org/class/yago/Composer109947232>)\n",
    "}\n",
    "UNION\n",
    "{\n",
    " values ?type {<http://dbpedia.org/class/yago/Composer109947232>}\n",
    " values ?uri_doremus { URI_RESOURCE }\n",
    " ?uri_doremus dc:description|dbo:occupation|dct:subject ?t\n",
    " filter regex(?t,\"composer\",\"i\")\n",
    "}\n",
    "```\n",
    "</pre>\n",
    "\n",
    "Also this time we'll group more queries together using the UNION operator to be faster.\n",
    "\n",
    "</div>"
   ]
  },
  {
   "cell_type": "code",
   "execution_count": 795,
   "metadata": {
    "collapsed": true
   },
   "outputs": [],
   "source": [
    "all_elastic_resources_distinct = list(doremus_elastic_search_years['resource'].drop_duplicates())"
   ]
  },
  {
   "cell_type": "markdown",
   "metadata": {
    "collapsed": true,
    "deletable": true,
    "editable": true
   },
   "source": [
    "int_query = '''{\n",
    " values ?uri_doremus { <STR_TO_SUB> }\n",
    " ?uri_doremus rdf:type $type\n",
    " \n",
    "}'''"
   ]
  },
  {
   "cell_type": "code",
   "execution_count": 848,
   "metadata": {
    "collapsed": true
   },
   "outputs": [],
   "source": [
    "int_query = '''{\n",
    "{\n",
    " values ?resource { <STR_TO_SUB> }\n",
    " ?resource rdf:type $type\n",
    " filter (?type=<http://schema.org/Person>||?type=<http://xmlns.com/foaf/0.1/Person>||?type=<http://dbpedia.org/ontology/Person>||?type=<http://dbpedia.org/class/yago/Person100007846>||?type=<http://dbpedia.org/class/yago/Creator109614315>||?type=<http://dbpedia.org/class/yago/Artist109812338>||?type=<http://dbpedia.org/class/yago/Musician110339966>||?type=<http://dbpedia.org/class/yago/Composer109947232>)\n",
    "}\n",
    "UNION\n",
    "{\n",
    " values ?type {<http://dbpedia.org/class/yago/Composer109947232>}\n",
    " values ?resource { <STR_TO_SUB> }\n",
    " ?resource dc:description|dbo:occupation|dct:subject ?t\n",
    " filter regex(?t,\"composer\",\"i\")\n",
    "}\n",
    "}'''"
   ]
  },
  {
   "cell_type": "code",
   "execution_count": 849,
   "metadata": {
    "collapsed": true,
    "deletable": true,
    "editable": true
   },
   "outputs": [],
   "source": [
    "basic_query = '''\n",
    "select $resource $type\n",
    "where {\n",
    "\n",
    "STR_TO_SUB\n",
    "\n",
    "}'''"
   ]
  },
  {
   "cell_type": "code",
   "execution_count": 852,
   "metadata": {
    "collapsed": true,
    "deletable": true,
    "editable": true
   },
   "outputs": [],
   "source": [
    "artist_category_df = pd.DataFrame([],columns=['resource','type'])\n",
    "trace = 0"
   ]
  },
  {
   "cell_type": "code",
   "execution_count": 856,
   "metadata": {
    "collapsed": false,
    "deletable": true,
    "editable": true
   },
   "outputs": [],
   "source": [
    "start = trace\n",
    "end = len(all_elastic_resources_distinct)\n",
    "step = 1\n",
    "for i in range(start,end,step):\n",
    "    if i % 350 == 0:\n",
    "        print(i)\n",
    "    core_query_arr = [int_query.replace('STR_TO_SUB',all_elastic_resources_distinct[j]) for j in range(i,i+step)]\n",
    "    core_query = '\\nUNION\\n'.join(core_query_arr)\n",
    "    query = basic_query.replace('STR_TO_SUB',core_query)\n",
    "    res = pd.read_csv(getQueryResponse(query,endpointURL='http://dbpedia.org/sparql'))\n",
    "    artist_category_df=artist_category_df.append(res,ignore_index=True)\n",
    "    trace += step\n",
    "    "
   ]
  },
  {
   "cell_type": "code",
   "execution_count": 857,
   "metadata": {
    "collapsed": true,
    "deletable": true,
    "editable": true
   },
   "outputs": [],
   "source": [
    "artist_category_df=artist_category_df.drop_duplicates()\n",
    "artist_category_df.columns = ['resource','categories']"
   ]
  },
  {
   "cell_type": "code",
   "execution_count": 858,
   "metadata": {
    "collapsed": true,
    "deletable": true,
    "editable": true
   },
   "outputs": [],
   "source": [
    "artist_category_df.to_pickle('artist_category_df')"
   ]
  },
  {
   "cell_type": "code",
   "execution_count": 859,
   "metadata": {
    "collapsed": true,
    "deletable": true,
    "editable": true
   },
   "outputs": [],
   "source": [
    "artist_category_df_grouped = artist_category_df.groupby('resource')['categories'].apply(tuple).reset_index(name=\"categories\")"
   ]
  },
  {
   "cell_type": "code",
   "execution_count": 997,
   "metadata": {
    "collapsed": false,
    "deletable": true,
    "editable": true
   },
   "outputs": [],
   "source": [
    "doremus_dbpedia_link_df=pd.merge(doremus_elastic_search_years,artist_category_df_grouped, on='resource', how='left')"
   ]
  },
  {
   "cell_type": "code",
   "execution_count": 1024,
   "metadata": {
    "collapsed": true,
    "deletable": true,
    "editable": true
   },
   "outputs": [],
   "source": [
    "doremus_dbpedia_link_df.to_pickle('doremus_dbpedia_link_df')"
   ]
  },
  {
   "cell_type": "markdown",
   "metadata": {},
   "source": [
    "<div class=\"alert alert-success\">\n",
    "After getting the categories and the years associtated with the entities returned by the ES, we define a method to score the Doremus-Dbpedia artist links. This criteria keeps into account:\n",
    "<ul>\n",
    "  <li><strong>The names/labels similarity</strong>: to compute it we used a Python library called \"fuzzywuzzy\" that uses the Levenshtein Distance to compute the string similarity</li>\n",
    "  <li><strong>The year matching</strong>: for every pair Doremus artist-Dbpedia artist we check if the born year and the death year is the same. However the year informations are not always present in both Doremus and Dbpedia. So we can have different possibilities:\n",
    "  <ol>\n",
    "  <li> If the information is present on both sides and fits we assign an high to the possible Dbpedia artist candidate </li>\n",
    "  <li> In the case in which the informations are present only on one side we assigned score 0 but we continue to consider the Dbpedia entity as a possible candidate,because we haven't enough information to say the 2 entities are not the same.</li>\n",
    "  <li>Instead, if the information is present on both sides but it's different we delete the Dbpedia artist from the candidates. Actually we don't eliminate the candidate if the years differ for 1 or 2 years, because we have noted that, especially for the old artists, the dates are not always precise </li>\n",
    "  <li> If the birth year is present on both sides and fits but the death year is not present on both sides, it could mean that the artist is not already death. To check that we basically look at the birth date and, if it is not too far from the current date, we consider the artist as still alive, and we increase the score also for the death year matching. However this score rise is less significant than when we have explicitly the same death year.  </li>\n",
    "  </ol>  \n",
    "  <li><strong>Finally we check the categories of the Dbpedia entity</strong>: if it is a composer we assign a high score, alternately we assign a lower score if it is only an artist, and so on. The score assignment descreases following a gaussian distribution. If the entity is not a person we assign a negative score.</li>\n",
    "</ul>\n",
    "\n",
    "</div>"
   ]
  },
  {
   "cell_type": "code",
   "execution_count": 970,
   "metadata": {
    "collapsed": true
   },
   "outputs": [],
   "source": [
    "doremus_dbpedia_link_df= pd.read_pickle('doremus_dbpedia_link_df')"
   ]
  },
  {
   "cell_type": "code",
   "execution_count": 999,
   "metadata": {
    "collapsed": true,
    "deletable": true,
    "editable": true
   },
   "outputs": [],
   "source": [
    "doremus_dbpedia_link_np = doremus_dbpedia_link_df.as_matrix()"
   ]
  },
  {
   "cell_type": "code",
   "execution_count": 1071,
   "metadata": {
    "collapsed": false,
    "deletable": true,
    "editable": true
   },
   "outputs": [],
   "source": [
    "from fuzzywuzzy import fuzz\n",
    "from fuzzywuzzy import process\n",
    "from scipy import signal\n",
    "\n",
    "def similar(a, b,w):\n",
    "    return (w*fuzz.token_sort_ratio(a, b)+(1-w)*fuzz.ratio(a,b))/100\n",
    "def YearMatching(arr_years1,arr_years2):\n",
    "    if type(arr_years1)==float or type(arr_years2)==float:\n",
    "        return 0.0\n",
    "    else:\n",
    "        arr_years1_b = ([y+1 for y in list(arr_years1)] + \n",
    "                        [y+2 for y in list(arr_years1)] +\n",
    "                        [y-1 for y in list(arr_years1)] +\n",
    "                        [y-2 for y in list(arr_years1)]\n",
    "                       )\n",
    "        arr_years2_b = ([y+1 for y in list(arr_years1)] + \n",
    "                        [y+2 for y in list(arr_years1)] +\n",
    "                        [y-1 for y in list(arr_years1)] +\n",
    "                        [y-2 for y in list(arr_years1)]\n",
    "                       )\n",
    "        #print(set(list(arr_years2)))\n",
    "        #x = input()\n",
    "        if set(list(arr_years1)) & set(list(arr_years2)):\n",
    "            return 1.0\n",
    "        elif set(arr_years1_b) & set(arr_years2_b):\n",
    "            return 0.3\n",
    "        else:\n",
    "            return -1.0\n",
    "def LabelMatching(arr_str1,arr_str2):\n",
    "    sim = 0.0\n",
    "    for s1 in arr_str1:\n",
    "        for s2 in arr_str2:\n",
    "            sim = max([similar(s1, s2,0.6),sim])\n",
    "            if sim == 1.0:\n",
    "                return sim\n",
    "    return sim\n",
    "\n",
    "def CategoryMatching(list_categories,weight_categories,categories):\n",
    "    if not type(categories)==float:\n",
    "        for i in range(n-1,-1,-1):\n",
    "            if set(list_categories[i]) & set(categories):\n",
    "                return weight_categories[i]\n",
    "    else:\n",
    "        return -0.8\n",
    "    \n",
    "def evaluateSupposition(age):\n",
    "    if age < 50:\n",
    "        return 1.0\n",
    "    else:\n",
    "        return -(1/100)*age + 3/2\n",
    "            \n",
    "            "
   ]
  },
  {
   "cell_type": "code",
   "execution_count": 930,
   "metadata": {
    "collapsed": true,
    "deletable": true,
    "editable": true
   },
   "outputs": [],
   "source": [
    "n = len(list_categories)\n",
    "weight_categories = signal.gaussian(n*2+1, std=1.3)[1:n+1]"
   ]
  },
  {
   "cell_type": "code",
   "execution_count": 931,
   "metadata": {
    "collapsed": false,
    "deletable": true,
    "editable": true
   },
   "outputs": [],
   "source": [
    "list_categories = ([['http://schema.org/Person',\n",
    "  'http://xmlns.com/foaf/0.1/Person',\n",
    "  'http://dbpedia.org/ontology/Person',\n",
    "  'http://dbpedia.org/class/yago/Person100007846'],\n",
    " ['http://dbpedia.org/class/yago/Creator109614315'],\n",
    " ['http://dbpedia.org/class/yago/Artist109812338'],\n",
    " ['http://dbpedia.org/class/yago/Musician110339966'],\n",
    " ['http://dbpedia.org/class/yago/Composer109947232']])"
   ]
  },
  {
   "cell_type": "code",
   "execution_count": 932,
   "metadata": {
    "collapsed": true
   },
   "outputs": [],
   "source": [
    "w_label = 0.25\n",
    "w_birth = 0.25\n",
    "w_death = 0.25\n",
    "w_category = 0.25"
   ]
  },
  {
   "cell_type": "code",
   "execution_count": 933,
   "metadata": {
    "collapsed": false
   },
   "outputs": [],
   "source": [
    "from datetime import date\n",
    "current_year = date.today().year"
   ]
  },
  {
   "cell_type": "code",
   "execution_count": 1072,
   "metadata": {
    "collapsed": false,
    "deletable": true,
    "editable": true
   },
   "outputs": [
    {
     "name": "stdout",
     "output_type": "stream",
     "text": [
      "0\n",
      "1000\n",
      "2000\n",
      "3000\n",
      "4000\n",
      "5000\n",
      "6000\n",
      "7000\n",
      "8000\n",
      "9000\n",
      "10000\n",
      "11000\n",
      "12000\n",
      "13000\n",
      "14000\n",
      "15000\n",
      "16000\n",
      "17000\n",
      "18000\n",
      "19000\n",
      "20000\n",
      "21000\n",
      "22000\n",
      "23000\n",
      "24000\n",
      "25000\n",
      "26000\n",
      "27000\n",
      "28000\n",
      "29000\n",
      "30000\n",
      "31000\n",
      "32000\n",
      "33000\n",
      "34000\n",
      "35000\n",
      "36000\n",
      "37000\n",
      "38000\n",
      "39000\n",
      "40000\n",
      "41000\n",
      "42000\n",
      "43000\n",
      "44000\n",
      "45000\n",
      "46000\n",
      "47000\n",
      "48000\n",
      "49000\n",
      "50000\n",
      "51000\n",
      "52000\n",
      "53000\n",
      "54000\n",
      "55000\n",
      "56000\n",
      "57000\n",
      "58000\n",
      "59000\n",
      "60000\n",
      "61000\n",
      "62000\n",
      "63000\n",
      "64000\n",
      "65000\n",
      "66000\n",
      "67000\n",
      "68000\n",
      "69000\n",
      "70000\n",
      "71000\n",
      "72000\n",
      "73000\n",
      "74000\n",
      "75000\n",
      "76000\n",
      "77000\n",
      "78000\n",
      "79000\n",
      "80000\n",
      "81000\n",
      "82000\n",
      "83000\n",
      "84000\n",
      "85000\n",
      "86000\n",
      "87000\n",
      "88000\n",
      "89000\n",
      "90000\n",
      "91000\n",
      "92000\n",
      "93000\n",
      "94000\n",
      "95000\n",
      "96000\n",
      "97000\n",
      "98000\n",
      "99000\n",
      "100000\n",
      "101000\n",
      "102000\n",
      "103000\n",
      "104000\n",
      "105000\n",
      "106000\n",
      "107000\n",
      "108000\n",
      "109000\n",
      "110000\n",
      "111000\n",
      "112000\n",
      "113000\n",
      "114000\n",
      "115000\n",
      "116000\n",
      "117000\n",
      "118000\n",
      "119000\n",
      "120000\n",
      "121000\n",
      "122000\n",
      "123000\n",
      "124000\n",
      "125000\n",
      "126000\n",
      "127000\n",
      "128000\n",
      "129000\n",
      "130000\n",
      "131000\n",
      "132000\n",
      "133000\n",
      "134000\n",
      "135000\n",
      "136000\n",
      "137000\n",
      "138000\n",
      "139000\n",
      "140000\n",
      "141000\n",
      "142000\n",
      "143000\n",
      "144000\n",
      "145000\n",
      "146000\n",
      "147000\n",
      "148000\n",
      "149000\n",
      "150000\n",
      "151000\n",
      "152000\n",
      "153000\n",
      "154000\n",
      "155000\n",
      "156000\n",
      "157000\n",
      "158000\n",
      "159000\n",
      "160000\n",
      "161000\n",
      "162000\n",
      "163000\n",
      "164000\n",
      "165000\n",
      "166000\n",
      "167000\n",
      "168000\n",
      "169000\n",
      "170000\n",
      "171000\n",
      "172000\n",
      "173000\n",
      "174000\n",
      "175000\n",
      "176000\n",
      "177000\n",
      "178000\n",
      "179000\n",
      "180000\n",
      "181000\n",
      "182000\n",
      "183000\n",
      "184000\n",
      "185000\n",
      "186000\n",
      "187000\n",
      "188000\n",
      "189000\n",
      "190000\n",
      "191000\n",
      "192000\n",
      "193000\n",
      "194000\n",
      "195000\n",
      "196000\n",
      "197000\n",
      "198000\n",
      "199000\n",
      "200000\n",
      "201000\n",
      "202000\n",
      "203000\n",
      "204000\n",
      "205000\n",
      "206000\n",
      "207000\n",
      "208000\n",
      "209000\n",
      "210000\n",
      "211000\n",
      "212000\n",
      "213000\n",
      "214000\n",
      "215000\n",
      "216000\n",
      "217000\n",
      "218000\n"
     ]
    }
   ],
   "source": [
    "doremus_dbpedia_score_np= []\n",
    "for i,link in enumerate(doremus_dbpedia_link_np):\n",
    "    if i % 1000 == 0:\n",
    "        print (i)\n",
    "    doremus_uri = link[0]\n",
    "    doremus_label = link[1]\n",
    "    doremus_born = link[2]\n",
    "    doremus_death = link[3]\n",
    "    dbpedia_uri = link[4]\n",
    "    dbpedia_label = link[5]\n",
    "    dbpedia_born = link[6]\n",
    "    dbpedia_death = link[7]\n",
    "    dbpedia_category = link[8]\n",
    "    score_birth = YearMatching(doremus_born,dbpedia_born)\n",
    "    if not score_birth < 0.0:\n",
    "        score_death_partial = YearMatching(doremus_death,dbpedia_death)\n",
    "        if not score_death_partial < 0.0:\n",
    "            if score_birth == 1.0:\n",
    "                age = current_year - dbpedia_born[0]\n",
    "                if age < 100 and score_death_partial==0.0:\n",
    "                    score_death = 0.9*evaluateSupposition(age)\n",
    "                    threshold_label = 0.88\n",
    "                else:\n",
    "                    score_death = score_death_partial\n",
    "                    threshold_label = 0.65\n",
    "            else:\n",
    "                score_death = score_death_partial\n",
    "                threshold_label = 0.65\n",
    "            score_label = LabelMatching(list(doremus_label),list(dbpedia_label))\n",
    "            if score_label > threshold_label:\n",
    "                score_category = CategoryMatching(list_categories,weight_categories,dbpedia_category)\n",
    "                score = (w_birth*score_birth + w_death*score_death + w_label*score_label + w_category*score_category) \n",
    "                new_link = [doremus_uri,dbpedia_uri,score_label,score_birth,score_death,score_category,score]\n",
    "                doremus_dbpedia_score_np.append(new_link)\n",
    "    #print(paths_filtered_with_score_np)"
   ]
  },
  {
   "cell_type": "code",
   "execution_count": 1073,
   "metadata": {
    "collapsed": false,
    "deletable": true,
    "editable": true
   },
   "outputs": [],
   "source": [
    "doremus_dbpedia_score = pd.DataFrame(np.array(doremus_dbpedia_score_np),columns=['doremus_uri','dbpedia_uri','score_label','score_birth','score_death','score_category','score']).drop_duplicates()"
   ]
  },
  {
   "cell_type": "code",
   "execution_count": 1074,
   "metadata": {
    "collapsed": true
   },
   "outputs": [],
   "source": [
    "doremus_dbpedia_artist_final = (doremus_dbpedia_score\n",
    "                                .sort_values('score', ascending=False)\n",
    "                                .groupby('doremus_uri', as_index=False)\n",
    "                                .first()\n",
    "                                .sort_values('score', ascending=False)\n",
    "                               )"
   ]
  },
  {
   "cell_type": "code",
   "execution_count": 1075,
   "metadata": {
    "collapsed": false
   },
   "outputs": [],
   "source": [
    "doremus_dbpedia_artist_final = (doremus_dbpedia_artist_final\n",
    "                                .sort_values('score', ascending=False)\n",
    "                                .groupby('dbpedia_uri', as_index=False)\n",
    "                                .first()\n",
    "                                .sort_values('score', ascending=False)\n",
    "                               )"
   ]
  },
  {
   "cell_type": "code",
   "execution_count": 1078,
   "metadata": {
    "collapsed": false
   },
   "outputs": [
    {
     "data": {
      "image/png": "[encoded data removed]",
      "text/plain": [
       "<matplotlib.figure.Figure at 0x1ac3d2e48>"
      ]
     },
     "metadata": {},
     "output_type": "display_data"
    }
   ],
   "source": [
    "import seaborn as sns, numpy as np\n",
    "sns.set(rc={\"figure.figsize\": (8, 4)}); np.random.seed(0)\n",
    "x = doremus_dbpedia_artist_final['score'].astype(float)\n",
    "ax = sns.distplot(x)\n",
    "sns.plt.show()"
   ]
  },
  {
   "cell_type": "code",
   "execution_count": 1045,
   "metadata": {
    "collapsed": false,
    "deletable": true,
    "editable": true
   },
   "outputs": [],
   "source": [
    "doremus_dbpedia_artist_final = doremus_dbpedia_artist_final.sort_values('score',ascending=False)"
   ]
  },
  {
   "cell_type": "code",
   "execution_count": 1079,
   "metadata": {
    "collapsed": false,
    "deletable": true,
    "editable": true
   },
   "outputs": [],
   "source": [
    "doremus_dbpedia_artist_final.to_pickle(\"doremus_dbpedia_artist_final\")"
   ]
  },
  {
   "cell_type": "code",
   "execution_count": 1047,
   "metadata": {
    "collapsed": false
   },
   "outputs": [],
   "source": [
    "doremus_dbpedia_artist_final= pd.read_pickle('doremus_dbpedia_artist_final')"
   ]
  },
  {
   "cell_type": "code",
   "execution_count": 1048,
   "metadata": {
    "collapsed": false,
    "deletable": true,
    "editable": true
   },
   "outputs": [],
   "source": [
    "doremus_dbpedia_filtered=doremus_dbpedia_artist_final[doremus_dbpedia_artist_final['score'].astype(float)>=0.6][['doremus_uri','dbpedia_uri','score']]"
   ]
  },
  {
   "cell_type": "code",
   "execution_count": 1080,
   "metadata": {
    "collapsed": true
   },
   "outputs": [],
   "source": [
    "doremus_dbpedia_filtered=doremus_dbpedia_artist_final[['doremus_uri','dbpedia_uri','score']]"
   ]
  },
  {
   "cell_type": "code",
   "execution_count": 1081,
   "metadata": {
    "collapsed": false,
    "deletable": true,
    "editable": true
   },
   "outputs": [],
   "source": [
    "doremus_dbpedia_filtered.columns = ['uri_doremus','uri_dbpedia','rank']"
   ]
  },
  {
   "cell_type": "code",
   "execution_count": 1082,
   "metadata": {
    "collapsed": false,
    "deletable": true,
    "editable": true
   },
   "outputs": [],
   "source": [
    "doremus_dbpedia_filtered.to_csv('doremus_dbpedia_artists.csv',index=False)"
   ]
  }
 ],
 "metadata": {
  "kernelspec": {
   "display_name": "Python 3",
   "language": "python",
   "name": "python3"
  },
  "language_info": {
   "codemirror_mode": {
    "name": "ipython",
    "version": 3
   },
   "file_extension": ".py",
   "mimetype": "text/x-python",
   "name": "python",
   "nbconvert_exporter": "python",
   "pygments_lexer": "ipython3",
   "version": "3.5.2"
  }
 },
 "nbformat": 4,
 "nbformat_minor": 2
}
